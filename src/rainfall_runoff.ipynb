{
  "nbformat": 4,
  "nbformat_minor": 0,
  "metadata": {
    "kernelspec": {
      "name": "python3",
      "display_name": "Python 3"
    },
    "language_info": {
      "codemirror_mode": {
        "name": "ipython",
        "version": 3
      },
      "file_extension": ".py",
      "mimetype": "text/x-python",
      "name": "python",
      "nbconvert_exporter": "python",
      "pygments_lexer": "ipython3",
      "version": "3.5.2"
    },
    "colab": {
      "name": "rainfall_runoff.ipynb",
      "provenance": [],
      "collapsed_sections": []
    },
    "accelerator": "GPU",
    "widgets": {
      "application/vnd.jupyter.widget-state+json": {
        "80d0c21797e64ae1b7595e894f9a152e": {
          "model_module": "@jupyter-widgets/controls",
          "model_name": "HBoxModel",
          "state": {
            "_view_name": "HBoxView",
            "_dom_classes": [],
            "_model_name": "HBoxModel",
            "_view_module": "@jupyter-widgets/controls",
            "_model_module_version": "1.5.0",
            "_view_count": null,
            "_view_module_version": "1.5.0",
            "box_style": "",
            "layout": "IPY_MODEL_fd39c6c8b870427ba42132014962722f",
            "_model_module": "@jupyter-widgets/controls",
            "children": [
              "IPY_MODEL_4925807cc98643f79740c4fe998f40fb",
              "IPY_MODEL_f02a95dc1b684d2ebddc5c37b086b134"
            ]
          }
        },
        "fd39c6c8b870427ba42132014962722f": {
          "model_module": "@jupyter-widgets/base",
          "model_name": "LayoutModel",
          "state": {
            "_view_name": "LayoutView",
            "grid_template_rows": null,
            "right": null,
            "justify_content": null,
            "_view_module": "@jupyter-widgets/base",
            "overflow": null,
            "_model_module_version": "1.2.0",
            "_view_count": null,
            "flex_flow": null,
            "width": null,
            "min_width": null,
            "border": null,
            "align_items": null,
            "bottom": null,
            "_model_module": "@jupyter-widgets/base",
            "top": null,
            "grid_column": null,
            "overflow_y": null,
            "overflow_x": null,
            "grid_auto_flow": null,
            "grid_area": null,
            "grid_template_columns": null,
            "flex": null,
            "_model_name": "LayoutModel",
            "justify_items": null,
            "grid_row": null,
            "max_height": null,
            "align_content": null,
            "visibility": null,
            "align_self": null,
            "height": null,
            "min_height": null,
            "padding": null,
            "grid_auto_rows": null,
            "grid_gap": null,
            "max_width": null,
            "order": null,
            "_view_module_version": "1.2.0",
            "grid_template_areas": null,
            "object_position": null,
            "object_fit": null,
            "grid_auto_columns": null,
            "margin": null,
            "display": null,
            "left": null
          }
        },
        "4925807cc98643f79740c4fe998f40fb": {
          "model_module": "@jupyter-widgets/controls",
          "model_name": "FloatProgressModel",
          "state": {
            "_view_name": "ProgressView",
            "style": "IPY_MODEL_aecbe94236c24965a5602f8f5dcfb391",
            "_dom_classes": [],
            "description": "100%",
            "_model_name": "FloatProgressModel",
            "bar_style": "success",
            "max": 2000,
            "_view_module": "@jupyter-widgets/controls",
            "_model_module_version": "1.5.0",
            "value": 2000,
            "_view_count": null,
            "_view_module_version": "1.5.0",
            "orientation": "horizontal",
            "min": 0,
            "description_tooltip": null,
            "_model_module": "@jupyter-widgets/controls",
            "layout": "IPY_MODEL_3bb4870d0ebf48ac96b129bbb768a4de"
          }
        },
        "f02a95dc1b684d2ebddc5c37b086b134": {
          "model_module": "@jupyter-widgets/controls",
          "model_name": "HTMLModel",
          "state": {
            "_view_name": "HTMLView",
            "style": "IPY_MODEL_111dd7c1dfff4a1b8d0ba4dd849bdcf9",
            "_dom_classes": [],
            "description": "",
            "_model_name": "HTMLModel",
            "placeholder": "​",
            "_view_module": "@jupyter-widgets/controls",
            "_model_module_version": "1.5.0",
            "value": " 2000/2000 [00:00&lt;00:00, 2561.84it/s]",
            "_view_count": null,
            "_view_module_version": "1.5.0",
            "description_tooltip": null,
            "_model_module": "@jupyter-widgets/controls",
            "layout": "IPY_MODEL_53ae56a840174d92b98f6743aafb5295"
          }
        },
        "aecbe94236c24965a5602f8f5dcfb391": {
          "model_module": "@jupyter-widgets/controls",
          "model_name": "ProgressStyleModel",
          "state": {
            "_view_name": "StyleView",
            "_model_name": "ProgressStyleModel",
            "description_width": "initial",
            "_view_module": "@jupyter-widgets/base",
            "_model_module_version": "1.5.0",
            "_view_count": null,
            "_view_module_version": "1.2.0",
            "bar_color": null,
            "_model_module": "@jupyter-widgets/controls"
          }
        },
        "3bb4870d0ebf48ac96b129bbb768a4de": {
          "model_module": "@jupyter-widgets/base",
          "model_name": "LayoutModel",
          "state": {
            "_view_name": "LayoutView",
            "grid_template_rows": null,
            "right": null,
            "justify_content": null,
            "_view_module": "@jupyter-widgets/base",
            "overflow": null,
            "_model_module_version": "1.2.0",
            "_view_count": null,
            "flex_flow": null,
            "width": null,
            "min_width": null,
            "border": null,
            "align_items": null,
            "bottom": null,
            "_model_module": "@jupyter-widgets/base",
            "top": null,
            "grid_column": null,
            "overflow_y": null,
            "overflow_x": null,
            "grid_auto_flow": null,
            "grid_area": null,
            "grid_template_columns": null,
            "flex": null,
            "_model_name": "LayoutModel",
            "justify_items": null,
            "grid_row": null,
            "max_height": null,
            "align_content": null,
            "visibility": null,
            "align_self": null,
            "height": null,
            "min_height": null,
            "padding": null,
            "grid_auto_rows": null,
            "grid_gap": null,
            "max_width": null,
            "order": null,
            "_view_module_version": "1.2.0",
            "grid_template_areas": null,
            "object_position": null,
            "object_fit": null,
            "grid_auto_columns": null,
            "margin": null,
            "display": null,
            "left": null
          }
        },
        "111dd7c1dfff4a1b8d0ba4dd849bdcf9": {
          "model_module": "@jupyter-widgets/controls",
          "model_name": "DescriptionStyleModel",
          "state": {
            "_view_name": "StyleView",
            "_model_name": "DescriptionStyleModel",
            "description_width": "",
            "_view_module": "@jupyter-widgets/base",
            "_model_module_version": "1.5.0",
            "_view_count": null,
            "_view_module_version": "1.2.0",
            "_model_module": "@jupyter-widgets/controls"
          }
        },
        "53ae56a840174d92b98f6743aafb5295": {
          "model_module": "@jupyter-widgets/base",
          "model_name": "LayoutModel",
          "state": {
            "_view_name": "LayoutView",
            "grid_template_rows": null,
            "right": null,
            "justify_content": null,
            "_view_module": "@jupyter-widgets/base",
            "overflow": null,
            "_model_module_version": "1.2.0",
            "_view_count": null,
            "flex_flow": null,
            "width": null,
            "min_width": null,
            "border": null,
            "align_items": null,
            "bottom": null,
            "_model_module": "@jupyter-widgets/base",
            "top": null,
            "grid_column": null,
            "overflow_y": null,
            "overflow_x": null,
            "grid_auto_flow": null,
            "grid_area": null,
            "grid_template_columns": null,
            "flex": null,
            "_model_name": "LayoutModel",
            "justify_items": null,
            "grid_row": null,
            "max_height": null,
            "align_content": null,
            "visibility": null,
            "align_self": null,
            "height": null,
            "min_height": null,
            "padding": null,
            "grid_auto_rows": null,
            "grid_gap": null,
            "max_width": null,
            "order": null,
            "_view_module_version": "1.2.0",
            "grid_template_areas": null,
            "object_position": null,
            "object_fit": null,
            "grid_auto_columns": null,
            "margin": null,
            "display": null,
            "left": null
          }
        },
        "28a53cc923ed47289894a4a52944fc6a": {
          "model_module": "@jupyter-widgets/controls",
          "model_name": "HBoxModel",
          "state": {
            "_view_name": "HBoxView",
            "_dom_classes": [],
            "_model_name": "HBoxModel",
            "_view_module": "@jupyter-widgets/controls",
            "_model_module_version": "1.5.0",
            "_view_count": null,
            "_view_module_version": "1.5.0",
            "box_style": "",
            "layout": "IPY_MODEL_fb9e2b0bbfab4f85a4f2c46b39bf8aff",
            "_model_module": "@jupyter-widgets/controls",
            "children": [
              "IPY_MODEL_c06f72ec834c4ebfa6e1a98611adb0ea",
              "IPY_MODEL_206d11993de74954bfd54a1e2390cc5a"
            ]
          }
        },
        "fb9e2b0bbfab4f85a4f2c46b39bf8aff": {
          "model_module": "@jupyter-widgets/base",
          "model_name": "LayoutModel",
          "state": {
            "_view_name": "LayoutView",
            "grid_template_rows": null,
            "right": null,
            "justify_content": null,
            "_view_module": "@jupyter-widgets/base",
            "overflow": null,
            "_model_module_version": "1.2.0",
            "_view_count": null,
            "flex_flow": null,
            "width": null,
            "min_width": null,
            "border": null,
            "align_items": null,
            "bottom": null,
            "_model_module": "@jupyter-widgets/base",
            "top": null,
            "grid_column": null,
            "overflow_y": null,
            "overflow_x": null,
            "grid_auto_flow": null,
            "grid_area": null,
            "grid_template_columns": null,
            "flex": null,
            "_model_name": "LayoutModel",
            "justify_items": null,
            "grid_row": null,
            "max_height": null,
            "align_content": null,
            "visibility": null,
            "align_self": null,
            "height": null,
            "min_height": null,
            "padding": null,
            "grid_auto_rows": null,
            "grid_gap": null,
            "max_width": null,
            "order": null,
            "_view_module_version": "1.2.0",
            "grid_template_areas": null,
            "object_position": null,
            "object_fit": null,
            "grid_auto_columns": null,
            "margin": null,
            "display": null,
            "left": null
          }
        },
        "c06f72ec834c4ebfa6e1a98611adb0ea": {
          "model_module": "@jupyter-widgets/controls",
          "model_name": "FloatProgressModel",
          "state": {
            "_view_name": "ProgressView",
            "style": "IPY_MODEL_aca9379a342646d5a2c56fd5f7023895",
            "_dom_classes": [],
            "description": "100%",
            "_model_name": "FloatProgressModel",
            "bar_style": "success",
            "max": 2000,
            "_view_module": "@jupyter-widgets/controls",
            "_model_module_version": "1.5.0",
            "value": 2000,
            "_view_count": null,
            "_view_module_version": "1.5.0",
            "orientation": "horizontal",
            "min": 0,
            "description_tooltip": null,
            "_model_module": "@jupyter-widgets/controls",
            "layout": "IPY_MODEL_4518cfd9b26c4f67abc2ef3991ce30c5"
          }
        },
        "206d11993de74954bfd54a1e2390cc5a": {
          "model_module": "@jupyter-widgets/controls",
          "model_name": "HTMLModel",
          "state": {
            "_view_name": "HTMLView",
            "style": "IPY_MODEL_606dde13535e4b98a838921934bcceb3",
            "_dom_classes": [],
            "description": "",
            "_model_name": "HTMLModel",
            "placeholder": "​",
            "_view_module": "@jupyter-widgets/controls",
            "_model_module_version": "1.5.0",
            "value": " 2000/2000 [00:07&lt;00:00, 282.54it/s]",
            "_view_count": null,
            "_view_module_version": "1.5.0",
            "description_tooltip": null,
            "_model_module": "@jupyter-widgets/controls",
            "layout": "IPY_MODEL_08339d081bc94db09f384dd3fcbe5857"
          }
        },
        "aca9379a342646d5a2c56fd5f7023895": {
          "model_module": "@jupyter-widgets/controls",
          "model_name": "ProgressStyleModel",
          "state": {
            "_view_name": "StyleView",
            "_model_name": "ProgressStyleModel",
            "description_width": "initial",
            "_view_module": "@jupyter-widgets/base",
            "_model_module_version": "1.5.0",
            "_view_count": null,
            "_view_module_version": "1.2.0",
            "bar_color": null,
            "_model_module": "@jupyter-widgets/controls"
          }
        },
        "4518cfd9b26c4f67abc2ef3991ce30c5": {
          "model_module": "@jupyter-widgets/base",
          "model_name": "LayoutModel",
          "state": {
            "_view_name": "LayoutView",
            "grid_template_rows": null,
            "right": null,
            "justify_content": null,
            "_view_module": "@jupyter-widgets/base",
            "overflow": null,
            "_model_module_version": "1.2.0",
            "_view_count": null,
            "flex_flow": null,
            "width": null,
            "min_width": null,
            "border": null,
            "align_items": null,
            "bottom": null,
            "_model_module": "@jupyter-widgets/base",
            "top": null,
            "grid_column": null,
            "overflow_y": null,
            "overflow_x": null,
            "grid_auto_flow": null,
            "grid_area": null,
            "grid_template_columns": null,
            "flex": null,
            "_model_name": "LayoutModel",
            "justify_items": null,
            "grid_row": null,
            "max_height": null,
            "align_content": null,
            "visibility": null,
            "align_self": null,
            "height": null,
            "min_height": null,
            "padding": null,
            "grid_auto_rows": null,
            "grid_gap": null,
            "max_width": null,
            "order": null,
            "_view_module_version": "1.2.0",
            "grid_template_areas": null,
            "object_position": null,
            "object_fit": null,
            "grid_auto_columns": null,
            "margin": null,
            "display": null,
            "left": null
          }
        },
        "606dde13535e4b98a838921934bcceb3": {
          "model_module": "@jupyter-widgets/controls",
          "model_name": "DescriptionStyleModel",
          "state": {
            "_view_name": "StyleView",
            "_model_name": "DescriptionStyleModel",
            "description_width": "",
            "_view_module": "@jupyter-widgets/base",
            "_model_module_version": "1.5.0",
            "_view_count": null,
            "_view_module_version": "1.2.0",
            "_model_module": "@jupyter-widgets/controls"
          }
        },
        "08339d081bc94db09f384dd3fcbe5857": {
          "model_module": "@jupyter-widgets/base",
          "model_name": "LayoutModel",
          "state": {
            "_view_name": "LayoutView",
            "grid_template_rows": null,
            "right": null,
            "justify_content": null,
            "_view_module": "@jupyter-widgets/base",
            "overflow": null,
            "_model_module_version": "1.2.0",
            "_view_count": null,
            "flex_flow": null,
            "width": null,
            "min_width": null,
            "border": null,
            "align_items": null,
            "bottom": null,
            "_model_module": "@jupyter-widgets/base",
            "top": null,
            "grid_column": null,
            "overflow_y": null,
            "overflow_x": null,
            "grid_auto_flow": null,
            "grid_area": null,
            "grid_template_columns": null,
            "flex": null,
            "_model_name": "LayoutModel",
            "justify_items": null,
            "grid_row": null,
            "max_height": null,
            "align_content": null,
            "visibility": null,
            "align_self": null,
            "height": null,
            "min_height": null,
            "padding": null,
            "grid_auto_rows": null,
            "grid_gap": null,
            "max_width": null,
            "order": null,
            "_view_module_version": "1.2.0",
            "grid_template_areas": null,
            "object_position": null,
            "object_fit": null,
            "grid_auto_columns": null,
            "margin": null,
            "display": null,
            "left": null
          }
        }
      }
    }
  },
  "cells": [
    {
      "cell_type": "markdown",
      "metadata": {
        "id": "rVVJFGzs3G-a"
      },
      "source": [
        "# Rainfall-runoff experiment\n",
        "\n",
        "In this experiment, we'll try to learn model for simple artificial dataset of simulated rainfall-runoff scenario.\n",
        "\n",
        "The task is to forecast runoff (prutok) based on rainfall during time. We can test longer dependencies through time and power of LSTM networks."
      ]
    },
    {
      "cell_type": "code",
      "metadata": {
        "id": "aTvlTFHO3G-c"
      },
      "source": [
        "%tensorflow_version 2.x\n",
        "%matplotlib inline\n",
        "\n",
        "import numpy as np\n",
        "import matplotlib.pyplot as plt\n",
        "import random\n",
        "\n",
        "from tensorflow.keras import Model\n",
        "from tensorflow.keras.layers import Input, Dense, Dropout, LSTM, SimpleRNN\n",
        "from tensorflow import keras\n",
        "import tensorflow as tf\n",
        "\n",
        "from tqdm.notebook import tqdm"
      ],
      "execution_count": 1,
      "outputs": []
    },
    {
      "cell_type": "markdown",
      "metadata": {
        "id": "4TXcWQUL3G-g"
      },
      "source": [
        "First, we need a dataset. Here's a code that simulates one river scenario.\n",
        "\n",
        "There are two methods: `get_precip` for rainfall and `gen_discharge` for runoff. Runoff is lagged in time based on topography of the river (see `BASINS = [BASIN(area, lag)]` array)"
      ]
    },
    {
      "cell_type": "code",
      "metadata": {
        "id": "wCWaDZ3U3G-h"
      },
      "source": [
        "MIN_EVENT_TIME = 5\n",
        "MAX_EVENT_TIME = 20\n",
        "MIN_EVENT_POWER = 0.05\n",
        "MAX_EVENT_POWER = 0.5\n",
        "\n",
        "BASINS = np.array([\n",
        "    (1, 5),\n",
        "    (2, 20),\n",
        "    (2, 30),\n",
        "    (1, 35),\n",
        "    (3, 41),\n",
        "    (2, 45),\n",
        "    (1, 54),\n",
        "    (2, 65),\n",
        "    (1, 75),\n",
        "])\n",
        "\n",
        "def generate_precipitation(num_samples, events_ratio):  \n",
        "    \n",
        "    result = np.zeros(num_samples)\n",
        "    num_events = int(events_ratio * num_samples)\n",
        "    \n",
        "    for event_start in random.sample(range(num_samples - MAX_EVENT_TIME), num_events):\n",
        "        event = np.zeros((num_samples,))\n",
        "        event_time = random.randint(MIN_EVENT_TIME, MAX_EVENT_TIME)\n",
        "        event_power = random.random() * (MAX_EVENT_POWER - MIN_EVENT_POWER) + MIN_EVENT_POWER\n",
        "        event[event_start: event_start + event_time] = (np.cos(np.linspace(-np.pi, np.pi, num=event_time)) * 0.5 + 0.5) * event_power\n",
        "        result += event\n",
        "    \n",
        "    return result\n",
        "\n",
        "def generate_discharge(basins, precip, runoff):            \n",
        "\n",
        "    volumes = np.zeros((len(basins),len(precip)))\n",
        "    discharges = np.zeros((len(basins),len(precip)))\n",
        "    for i, p in enumerate(precip):      \n",
        "        discharges[:,i] = volumes[:,i-1] * runoff\n",
        "        volumes[:,i] = basins[:,0] * p + volumes[:,i-1] * (1 -runoff)        \n",
        "    \n",
        "    \n",
        "    sum_discharge = np.zeros(len(precip))\n",
        "    for d, basin in zip(discharges, basins):        \n",
        "        lag = int(basin[1])\n",
        "        lagged = np.roll(d, lag)\n",
        "        lagged[:lag] = 0.0\n",
        "        sum_discharge += lagged    \n",
        "        \n",
        "    return sum_discharge"
      ],
      "execution_count": 2,
      "outputs": []
    },
    {
      "cell_type": "markdown",
      "metadata": {
        "id": "UoMA2-lY3G-l"
      },
      "source": [
        "Let's see how our simulated river behaves:"
      ]
    },
    {
      "cell_type": "code",
      "metadata": {
        "id": "T7mNLjT_3G-m",
        "colab": {
          "base_uri": "https://localhost:8080/",
          "height": 376
        },
        "outputId": "c623f436-95d4-4925-bb1c-2c17298a927f"
      },
      "source": [
        "precip = generate_precipitation(500, 0.02)\n",
        "discharge = generate_discharge(BASINS, precip, 0.05)\n",
        "\n",
        "plt.figure(figsize=(30,6))\n",
        "plt.plot(precip)\n",
        "plt.plot(discharge)\n",
        "plt.show()"
      ],
      "execution_count": 3,
      "outputs": [
        {
          "output_type": "display_data",
          "data": {
            "image/png": "[encoded data removed]",
            "text/plain": [
              "<Figure size 2160x432 with 1 Axes>"
            ]
          },
          "metadata": {
            "tags": [],
            "needs_background": "light"
          }
        }
      ]
    },
    {
      "cell_type": "markdown",
      "metadata": {
        "id": "DGPHjCEV3G-q"
      },
      "source": [
        "We can generate some training examples for this river and try fit a neural network model to see if the model can learn the river hidden behavior."
      ]
    },
    {
      "cell_type": "code",
      "metadata": {
        "id": "rodmzHd93G-s",
        "colab": {
          "base_uri": "https://localhost:8080/",
          "height": 115,
          "referenced_widgets": [
            "80d0c21797e64ae1b7595e894f9a152e",
            "fd39c6c8b870427ba42132014962722f",
            "4925807cc98643f79740c4fe998f40fb",
            "f02a95dc1b684d2ebddc5c37b086b134",
            "aecbe94236c24965a5602f8f5dcfb391",
            "3bb4870d0ebf48ac96b129bbb768a4de",
            "111dd7c1dfff4a1b8d0ba4dd849bdcf9",
            "53ae56a840174d92b98f6743aafb5295",
            "28a53cc923ed47289894a4a52944fc6a",
            "fb9e2b0bbfab4f85a4f2c46b39bf8aff",
            "c06f72ec834c4ebfa6e1a98611adb0ea",
            "206d11993de74954bfd54a1e2390cc5a",
            "aca9379a342646d5a2c56fd5f7023895",
            "4518cfd9b26c4f67abc2ef3991ce30c5",
            "606dde13535e4b98a838921934bcceb3",
            "08339d081bc94db09f384dd3fcbe5857"
          ]
        },
        "outputId": "27949f91-5024-4adc-f793-9f4f4d3555b8"
      },
      "source": [
        "import random\n",
        "\n",
        "NUM_SAMPLES = 2000\n",
        "SEQ_LEN = 500\n",
        "\n",
        "raw_train_X = [generate_precipitation(SEQ_LEN, 0.02) for i in tqdm(range(NUM_SAMPLES))]\n",
        "raw_train_Y = [generate_discharge(BASINS, precip_sample, 0.05) for precip_sample in tqdm(raw_train_X)]"
      ],
      "execution_count": 5,
      "outputs": [
        {
          "output_type": "display_data",
          "data": {
            "application/vnd.jupyter.widget-view+json": {
              "model_id": "80d0c21797e64ae1b7595e894f9a152e",
              "version_minor": 0,
              "version_major": 2
            },
            "text/plain": [
              "HBox(children=(FloatProgress(value=0.0, max=2000.0), HTML(value='')))"
            ]
          },
          "metadata": {
            "tags": []
          }
        },
        {
          "output_type": "stream",
          "text": [
            "\n"
          ],
          "name": "stdout"
        },
        {
          "output_type": "display_data",
          "data": {
            "application/vnd.jupyter.widget-view+json": {
              "model_id": "28a53cc923ed47289894a4a52944fc6a",
              "version_minor": 0,
              "version_major": 2
            },
            "text/plain": [
              "HBox(children=(FloatProgress(value=0.0, max=2000.0), HTML(value='')))"
            ]
          },
          "metadata": {
            "tags": []
          }
        },
        {
          "output_type": "stream",
          "text": [
            "\n"
          ],
          "name": "stdout"
        }
      ]
    },
    {
      "cell_type": "markdown",
      "metadata": {
        "id": "AonvDHXDQsA4"
      },
      "source": [
        "TODO : Test various models:\n",
        "\n",
        "* fixed window feed-forward network\n",
        "* LSTMs \n",
        "* test on longer sequences\n",
        "* figure out how to use feed-forward network to longer predictions\n",
        "\n",
        "**WATCH for correct activation function!**"
      ]
    },
    {
      "cell_type": "code",
      "metadata": {
        "id": "Ois4qJXwZV9D"
      },
      "source": [
        ""
      ],
      "execution_count": null,
      "outputs": []
    }
  ]
}