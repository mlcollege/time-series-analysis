{
  "nbformat": 4,
  "nbformat_minor": 0,
  "metadata": {
    "colab": {
      "name": "hotels",
      "provenance": [],
      "collapsed_sections": []
    },
    "kernelspec": {
      "name": "python3",
      "display_name": "Python 3"
    },
    "language_info": {
      "name": "python"
    }
  },
  "cells": [
    {
      "cell_type": "markdown",
      "metadata": {
        "id": "jS7WUIxQLOhL"
      },
      "source": [
        "#Time series - Turists in Prague dataset\n",
        "\n",
        "In this example, you can try to fit a cassical model to the data from the CSU (Czech Statistical Bureau).\n",
        "\n",
        "The data contain montly reports of number of turists registered in Czech hotels.\n"
      ]
    },
    {
      "cell_type": "code",
      "metadata": {
        "id": "WXI2KKDwDCAj"
      },
      "source": [
        "import numpy as np\n",
        "import matplotlib\n",
        "\n",
        "import matplotlib.pyplot as plt\n",
        "%matplotlib inline\n",
        "\n",
        "import pandas as pd\n",
        "from datetime import datetime\n",
        "from pandas.plotting import register_matplotlib_converters\n",
        "register_matplotlib_converters()"
      ],
      "execution_count": 1,
      "outputs": []
    },
    {
      "cell_type": "code",
      "metadata": {
        "id": "MPv8qYLPDMlg"
      },
      "source": [
        "matplotlib.rcParams['figure.figsize'] = (15, 6)"
      ],
      "execution_count": 2,
      "outputs": []
    },
    {
      "cell_type": "code",
      "metadata": {
        "colab": {
          "base_uri": "https://localhost:8080/"
        },
        "id": "c45w9y30DXOn",
        "outputId": "b8f17648-33c5-4c2d-b8d8-b6657ce04416"
      },
      "source": [
        "from google.colab import drive\n",
        "drive.mount('/content/drive/')"
      ],
      "execution_count": 4,
      "outputs": [
        {
          "output_type": "stream",
          "name": "stdout",
          "text": [
            "Mounted at /content/drive/\n"
          ]
        }
      ]
    },
    {
      "cell_type": "code",
      "metadata": {
        "colab": {
          "base_uri": "https://localhost:8080/",
          "height": 450
        },
        "id": "PMraOHrZDhHZ",
        "outputId": "79b555ca-330d-4af6-8605-ea20000b5d5b"
      },
      "source": [
        "path = '/content/drive/My Drive/ml-college/time-series-analysis/data/hotels.csv'\n",
        "data = pd.read_csv(path, parse_dates=True, date_parser=lambda x: datetime.strptime(x, '%Y-%m'), header=None, index_col=0)\n",
        "data"
      ],
      "execution_count": 9,
      "outputs": [
        {
          "output_type": "execute_result",
          "data": {
            "text/html": [
              "<div>\n",
              "<style scoped>\n",
              "    .dataframe tbody tr th:only-of-type {\n",
              "        vertical-align: middle;\n",
              "    }\n",
              "\n",
              "    .dataframe tbody tr th {\n",
              "        vertical-align: top;\n",
              "    }\n",
              "\n",
              "    .dataframe thead th {\n",
              "        text-align: right;\n",
              "    }\n",
              "</style>\n",
              "<table border=\"1\" class=\"dataframe\">\n",
              "  <thead>\n",
              "    <tr style=\"text-align: right;\">\n",
              "      <th></th>\n",
              "      <th>1</th>\n",
              "    </tr>\n",
              "    <tr>\n",
              "      <th>0</th>\n",
              "      <th></th>\n",
              "    </tr>\n",
              "  </thead>\n",
              "  <tbody>\n",
              "    <tr>\n",
              "      <th>2012-01-01</th>\n",
              "      <td>618248</td>\n",
              "    </tr>\n",
              "    <tr>\n",
              "      <th>2012-02-01</th>\n",
              "      <td>615868</td>\n",
              "    </tr>\n",
              "    <tr>\n",
              "      <th>2012-03-01</th>\n",
              "      <td>816785</td>\n",
              "    </tr>\n",
              "    <tr>\n",
              "      <th>2012-04-01</th>\n",
              "      <td>907061</td>\n",
              "    </tr>\n",
              "    <tr>\n",
              "      <th>2012-05-01</th>\n",
              "      <td>994856</td>\n",
              "    </tr>\n",
              "    <tr>\n",
              "      <th>...</th>\n",
              "      <td>...</td>\n",
              "    </tr>\n",
              "    <tr>\n",
              "      <th>2021-02-01</th>\n",
              "      <td>64951</td>\n",
              "    </tr>\n",
              "    <tr>\n",
              "      <th>2021-03-01</th>\n",
              "      <td>56230</td>\n",
              "    </tr>\n",
              "    <tr>\n",
              "      <th>2021-04-01</th>\n",
              "      <td>70105</td>\n",
              "    </tr>\n",
              "    <tr>\n",
              "      <th>2021-05-01</th>\n",
              "      <td>190499</td>\n",
              "    </tr>\n",
              "    <tr>\n",
              "      <th>2021-06-01</th>\n",
              "      <td>645395</td>\n",
              "    </tr>\n",
              "  </tbody>\n",
              "</table>\n",
              "<p>114 rows × 1 columns</p>\n",
              "</div>"
            ],
            "text/plain": [
              "                 1\n",
              "0                 \n",
              "2012-01-01  618248\n",
              "2012-02-01  615868\n",
              "2012-03-01  816785\n",
              "2012-04-01  907061\n",
              "2012-05-01  994856\n",
              "...            ...\n",
              "2021-02-01   64951\n",
              "2021-03-01   56230\n",
              "2021-04-01   70105\n",
              "2021-05-01  190499\n",
              "2021-06-01  645395\n",
              "\n",
              "[114 rows x 1 columns]"
            ]
          },
          "metadata": {},
          "execution_count": 9
        }
      ]
    },
    {
      "cell_type": "markdown",
      "metadata": {
        "id": "x-wSbAyAPrUa"
      },
      "source": [
        "^ The data runs from January 2012 to June 2021 which means that it captures effects of the ongoing COVID-19 pandemic."
      ]
    },
    {
      "cell_type": "code",
      "metadata": {
        "colab": {
          "base_uri": "https://localhost:8080/",
          "height": 80
        },
        "id": "o15_JWbQD-mx",
        "outputId": "f62d8242-b219-48f7-f2ef-05662ece7246"
      },
      "source": [
        "data.describe().T"
      ],
      "execution_count": 6,
      "outputs": [
        {
          "output_type": "execute_result",
          "data": {
            "text/html": [
              "<div>\n",
              "<style scoped>\n",
              "    .dataframe tbody tr th:only-of-type {\n",
              "        vertical-align: middle;\n",
              "    }\n",
              "\n",
              "    .dataframe tbody tr th {\n",
              "        vertical-align: top;\n",
              "    }\n",
              "\n",
              "    .dataframe thead th {\n",
              "        text-align: right;\n",
              "    }\n",
              "</style>\n",
              "<table border=\"1\" class=\"dataframe\">\n",
              "  <thead>\n",
              "    <tr style=\"text-align: right;\">\n",
              "      <th></th>\n",
              "      <th>count</th>\n",
              "      <th>mean</th>\n",
              "      <th>std</th>\n",
              "      <th>min</th>\n",
              "      <th>25%</th>\n",
              "      <th>50%</th>\n",
              "      <th>75%</th>\n",
              "      <th>max</th>\n",
              "    </tr>\n",
              "  </thead>\n",
              "  <tbody>\n",
              "    <tr>\n",
              "      <th>1</th>\n",
              "      <td>114.0</td>\n",
              "      <td>956464.850877</td>\n",
              "      <td>360584.282783</td>\n",
              "      <td>11112.0</td>\n",
              "      <td>801821.75</td>\n",
              "      <td>1009297.0</td>\n",
              "      <td>1176541.5</td>\n",
              "      <td>1571803.0</td>\n",
              "    </tr>\n",
              "  </tbody>\n",
              "</table>\n",
              "</div>"
            ],
            "text/plain": [
              "   count           mean            std  ...        50%        75%        max\n",
              "1  114.0  956464.850877  360584.282783  ...  1009297.0  1176541.5  1571803.0\n",
              "\n",
              "[1 rows x 8 columns]"
            ]
          },
          "metadata": {},
          "execution_count": 6
        }
      ]
    },
    {
      "cell_type": "markdown",
      "metadata": {
        "id": "tdHJbvkkQECK"
      },
      "source": [
        "The effect of the pandemic is clearly visible in the plot below.\n",
        "\n",
        "*You can try to predict the last \"ordinary\" year i.e. 2019 as it's impossible to predict such an extreme change in the underlying proces just from the history.*"
      ]
    },
    {
      "cell_type": "code",
      "metadata": {
        "colab": {
          "base_uri": "https://localhost:8080/",
          "height": 385
        },
        "id": "6CDoZB0iEGrY",
        "outputId": "2078d1a9-2d76-4257-efac-7e12e533bee3"
      },
      "source": [
        "plt.plot(data)\n",
        "plt.show()"
      ],
      "execution_count": 7,
      "outputs": [
        {
          "output_type": "display_data",
          "data": {
            "image/png": "[encoded data removed]",
            "text/plain": [
              "<Figure size 1080x432 with 1 Axes>"
            ]
          },
          "metadata": {
            "needs_background": "light"
          }
        }
      ]
    }
  ]
}