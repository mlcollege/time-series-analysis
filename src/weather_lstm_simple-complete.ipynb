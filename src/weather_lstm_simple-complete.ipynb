{
  "nbformat": 4,
  "nbformat_minor": 0,
  "metadata": {
    "kernelspec": {
      "name": "python3",
      "display_name": "Python 3"
    },
    "language_info": {
      "codemirror_mode": {
        "name": "ipython",
        "version": 3
      },
      "file_extension": ".py",
      "mimetype": "text/x-python",
      "name": "python",
      "nbconvert_exporter": "python",
      "pygments_lexer": "ipython3",
      "version": "3.5.2"
    },
    "colab": {
      "provenance": [],
      "collapsed_sections": []
    },
    "accelerator": "GPU",
    "widgets": {
      "application/vnd.jupyter.widget-state+json": {
        "e08ed3cf53da413dbf95af8cd6913494": {
          "model_module": "@jupyter-widgets/controls",
          "model_name": "HBoxModel",
          "model_module_version": "1.5.0",
          "state": {
            "_dom_classes": [],
            "_model_module": "@jupyter-widgets/controls",
            "_model_module_version": "1.5.0",
            "_model_name": "HBoxModel",
            "_view_count": null,
            "_view_module": "@jupyter-widgets/controls",
            "_view_module_version": "1.5.0",
            "_view_name": "HBoxView",
            "box_style": "",
            "children": [
              "IPY_MODEL_6919702d1589434fba01361e2e1054fc",
              "IPY_MODEL_acd440cbb71e4715a4aa748cf0e8c823",
              "IPY_MODEL_c192ec43be6a47cf8f2424b93aea2a94"
            ],
            "layout": "IPY_MODEL_6b66e26707784fd7ae5874221812798c"
          }
        },
        "6919702d1589434fba01361e2e1054fc": {
          "model_module": "@jupyter-widgets/controls",
          "model_name": "HTMLModel",
          "model_module_version": "1.5.0",
          "state": {
            "_dom_classes": [],
            "_model_module": "@jupyter-widgets/controls",
            "_model_module_version": "1.5.0",
            "_model_name": "HTMLModel",
            "_view_count": null,
            "_view_module": "@jupyter-widgets/controls",
            "_view_module_version": "1.5.0",
            "_view_name": "HTMLView",
            "description": "",
            "description_tooltip": null,
            "layout": "IPY_MODEL_42c5021ba82c4dc98be93f1b19a72109",
            "placeholder": "​",
            "style": "IPY_MODEL_bfd2310992a44eb4b2795dd1bcffc1aa",
            "value": "100%"
          }
        },
        "acd440cbb71e4715a4aa748cf0e8c823": {
          "model_module": "@jupyter-widgets/controls",
          "model_name": "FloatProgressModel",
          "model_module_version": "1.5.0",
          "state": {
            "_dom_classes": [],
            "_model_module": "@jupyter-widgets/controls",
            "_model_module_version": "1.5.0",
            "_model_name": "FloatProgressModel",
            "_view_count": null,
            "_view_module": "@jupyter-widgets/controls",
            "_view_module_version": "1.5.0",
            "_view_name": "ProgressView",
            "bar_style": "success",
            "description": "",
            "description_tooltip": null,
            "layout": "IPY_MODEL_20a6ff30413746769a53eff03fa6c15e",
            "max": 50,
            "min": 0,
            "orientation": "horizontal",
            "style": "IPY_MODEL_5d835bfd744a4304b8513240d592f879",
            "value": 50
          }
        },
        "c192ec43be6a47cf8f2424b93aea2a94": {
          "model_module": "@jupyter-widgets/controls",
          "model_name": "HTMLModel",
          "model_module_version": "1.5.0",
          "state": {
            "_dom_classes": [],
            "_model_module": "@jupyter-widgets/controls",
            "_model_module_version": "1.5.0",
            "_model_name": "HTMLModel",
            "_view_count": null,
            "_view_module": "@jupyter-widgets/controls",
            "_view_module_version": "1.5.0",
            "_view_name": "HTMLView",
            "description": "",
            "description_tooltip": null,
            "layout": "IPY_MODEL_5782c93a1a3647678b0fb9cdf2d4e009",
            "placeholder": "​",
            "style": "IPY_MODEL_39d672a86ee54116b23ddadff9848879",
            "value": " 50/50 [00:02&lt;00:00, 23.41it/s]"
          }
        },
        "6b66e26707784fd7ae5874221812798c": {
          "model_module": "@jupyter-widgets/base",
          "model_name": "LayoutModel",
          "model_module_version": "1.2.0",
          "state": {
            "_model_module": "@jupyter-widgets/base",
            "_model_module_version": "1.2.0",
            "_model_name": "LayoutModel",
            "_view_count": null,
            "_view_module": "@jupyter-widgets/base",
            "_view_module_version": "1.2.0",
            "_view_name": "LayoutView",
            "align_content": null,
            "align_items": null,
            "align_self": null,
            "border": null,
            "bottom": null,
            "display": null,
            "flex": null,
            "flex_flow": null,
            "grid_area": null,
            "grid_auto_columns": null,
            "grid_auto_flow": null,
            "grid_auto_rows": null,
            "grid_column": null,
            "grid_gap": null,
            "grid_row": null,
            "grid_template_areas": null,
            "grid_template_columns": null,
            "grid_template_rows": null,
            "height": null,
            "justify_content": null,
            "justify_items": null,
            "left": null,
            "margin": null,
            "max_height": null,
            "max_width": null,
            "min_height": null,
            "min_width": null,
            "object_fit": null,
            "object_position": null,
            "order": null,
            "overflow": null,
            "overflow_x": null,
            "overflow_y": null,
            "padding": null,
            "right": null,
            "top": null,
            "visibility": null,
            "width": null
          }
        },
        "42c5021ba82c4dc98be93f1b19a72109": {
          "model_module": "@jupyter-widgets/base",
          "model_name": "LayoutModel",
          "model_module_version": "1.2.0",
          "state": {
            "_model_module": "@jupyter-widgets/base",
            "_model_module_version": "1.2.0",
            "_model_name": "LayoutModel",
            "_view_count": null,
            "_view_module": "@jupyter-widgets/base",
            "_view_module_version": "1.2.0",
            "_view_name": "LayoutView",
            "align_content": null,
            "align_items": null,
            "align_self": null,
            "border": null,
            "bottom": null,
            "display": null,
            "flex": null,
            "flex_flow": null,
            "grid_area": null,
            "grid_auto_columns": null,
            "grid_auto_flow": null,
            "grid_auto_rows": null,
            "grid_column": null,
            "grid_gap": null,
            "grid_row": null,
            "grid_template_areas": null,
            "grid_template_columns": null,
            "grid_template_rows": null,
            "height": null,
            "justify_content": null,
            "justify_items": null,
            "left": null,
            "margin": null,
            "max_height": null,
            "max_width": null,
            "min_height": null,
            "min_width": null,
            "object_fit": null,
            "object_position": null,
            "order": null,
            "overflow": null,
            "overflow_x": null,
            "overflow_y": null,
            "padding": null,
            "right": null,
            "top": null,
            "visibility": null,
            "width": null
          }
        },
        "bfd2310992a44eb4b2795dd1bcffc1aa": {
          "model_module": "@jupyter-widgets/controls",
          "model_name": "DescriptionStyleModel",
          "model_module_version": "1.5.0",
          "state": {
            "_model_module": "@jupyter-widgets/controls",
            "_model_module_version": "1.5.0",
            "_model_name": "DescriptionStyleModel",
            "_view_count": null,
            "_view_module": "@jupyter-widgets/base",
            "_view_module_version": "1.2.0",
            "_view_name": "StyleView",
            "description_width": ""
          }
        },
        "20a6ff30413746769a53eff03fa6c15e": {
          "model_module": "@jupyter-widgets/base",
          "model_name": "LayoutModel",
          "model_module_version": "1.2.0",
          "state": {
            "_model_module": "@jupyter-widgets/base",
            "_model_module_version": "1.2.0",
            "_model_name": "LayoutModel",
            "_view_count": null,
            "_view_module": "@jupyter-widgets/base",
            "_view_module_version": "1.2.0",
            "_view_name": "LayoutView",
            "align_content": null,
            "align_items": null,
            "align_self": null,
            "border": null,
            "bottom": null,
            "display": null,
            "flex": null,
            "flex_flow": null,
            "grid_area": null,
            "grid_auto_columns": null,
            "grid_auto_flow": null,
            "grid_auto_rows": null,
            "grid_column": null,
            "grid_gap": null,
            "grid_row": null,
            "grid_template_areas": null,
            "grid_template_columns": null,
            "grid_template_rows": null,
            "height": null,
            "justify_content": null,
            "justify_items": null,
            "left": null,
            "margin": null,
            "max_height": null,
            "max_width": null,
            "min_height": null,
            "min_width": null,
            "object_fit": null,
            "object_position": null,
            "order": null,
            "overflow": null,
            "overflow_x": null,
            "overflow_y": null,
            "padding": null,
            "right": null,
            "top": null,
            "visibility": null,
            "width": null
          }
        },
        "5d835bfd744a4304b8513240d592f879": {
          "model_module": "@jupyter-widgets/controls",
          "model_name": "ProgressStyleModel",
          "model_module_version": "1.5.0",
          "state": {
            "_model_module": "@jupyter-widgets/controls",
            "_model_module_version": "1.5.0",
            "_model_name": "ProgressStyleModel",
            "_view_count": null,
            "_view_module": "@jupyter-widgets/base",
            "_view_module_version": "1.2.0",
            "_view_name": "StyleView",
            "bar_color": null,
            "description_width": ""
          }
        },
        "5782c93a1a3647678b0fb9cdf2d4e009": {
          "model_module": "@jupyter-widgets/base",
          "model_name": "LayoutModel",
          "model_module_version": "1.2.0",
          "state": {
            "_model_module": "@jupyter-widgets/base",
            "_model_module_version": "1.2.0",
            "_model_name": "LayoutModel",
            "_view_count": null,
            "_view_module": "@jupyter-widgets/base",
            "_view_module_version": "1.2.0",
            "_view_name": "LayoutView",
            "align_content": null,
            "align_items": null,
            "align_self": null,
            "border": null,
            "bottom": null,
            "display": null,
            "flex": null,
            "flex_flow": null,
            "grid_area": null,
            "grid_auto_columns": null,
            "grid_auto_flow": null,
            "grid_auto_rows": null,
            "grid_column": null,
            "grid_gap": null,
            "grid_row": null,
            "grid_template_areas": null,
            "grid_template_columns": null,
            "grid_template_rows": null,
            "height": null,
            "justify_content": null,
            "justify_items": null,
            "left": null,
            "margin": null,
            "max_height": null,
            "max_width": null,
            "min_height": null,
            "min_width": null,
            "object_fit": null,
            "object_position": null,
            "order": null,
            "overflow": null,
            "overflow_x": null,
            "overflow_y": null,
            "padding": null,
            "right": null,
            "top": null,
            "visibility": null,
            "width": null
          }
        },
        "39d672a86ee54116b23ddadff9848879": {
          "model_module": "@jupyter-widgets/controls",
          "model_name": "DescriptionStyleModel",
          "model_module_version": "1.5.0",
          "state": {
            "_model_module": "@jupyter-widgets/controls",
            "_model_module_version": "1.5.0",
            "_model_name": "DescriptionStyleModel",
            "_view_count": null,
            "_view_module": "@jupyter-widgets/base",
            "_view_module_version": "1.2.0",
            "_view_name": "StyleView",
            "description_width": ""
          }
        },
        "83eaf5aede9743539be11e468d20e1b5": {
          "model_module": "@jupyter-widgets/controls",
          "model_name": "HBoxModel",
          "model_module_version": "1.5.0",
          "state": {
            "_dom_classes": [],
            "_model_module": "@jupyter-widgets/controls",
            "_model_module_version": "1.5.0",
            "_model_name": "HBoxModel",
            "_view_count": null,
            "_view_module": "@jupyter-widgets/controls",
            "_view_module_version": "1.5.0",
            "_view_name": "HBoxView",
            "box_style": "",
            "children": [
              "IPY_MODEL_f706e962ef7d42279213beb40466ffbd",
              "IPY_MODEL_5e54778dfb0b479483912a5bd28c6964",
              "IPY_MODEL_d33c1d323e7e47e8b3746462cdb9c6fc"
            ],
            "layout": "IPY_MODEL_c62f1047c92e4f36bc868aa2d09a20e4"
          }
        },
        "f706e962ef7d42279213beb40466ffbd": {
          "model_module": "@jupyter-widgets/controls",
          "model_name": "HTMLModel",
          "model_module_version": "1.5.0",
          "state": {
            "_dom_classes": [],
            "_model_module": "@jupyter-widgets/controls",
            "_model_module_version": "1.5.0",
            "_model_name": "HTMLModel",
            "_view_count": null,
            "_view_module": "@jupyter-widgets/controls",
            "_view_module_version": "1.5.0",
            "_view_name": "HTMLView",
            "description": "",
            "description_tooltip": null,
            "layout": "IPY_MODEL_ed912755f91a4495be7aaaff70fef739",
            "placeholder": "​",
            "style": "IPY_MODEL_1da758c898ce4ccf9f4d57e7e44a4949",
            "value": "100%"
          }
        },
        "5e54778dfb0b479483912a5bd28c6964": {
          "model_module": "@jupyter-widgets/controls",
          "model_name": "FloatProgressModel",
          "model_module_version": "1.5.0",
          "state": {
            "_dom_classes": [],
            "_model_module": "@jupyter-widgets/controls",
            "_model_module_version": "1.5.0",
            "_model_name": "FloatProgressModel",
            "_view_count": null,
            "_view_module": "@jupyter-widgets/controls",
            "_view_module_version": "1.5.0",
            "_view_name": "ProgressView",
            "bar_style": "success",
            "description": "",
            "description_tooltip": null,
            "layout": "IPY_MODEL_aac3786df8264cbe9a570f87211bca8b",
            "max": 50,
            "min": 0,
            "orientation": "horizontal",
            "style": "IPY_MODEL_8d55484169a74fefbe780e799d325346",
            "value": 50
          }
        },
        "d33c1d323e7e47e8b3746462cdb9c6fc": {
          "model_module": "@jupyter-widgets/controls",
          "model_name": "HTMLModel",
          "model_module_version": "1.5.0",
          "state": {
            "_dom_classes": [],
            "_model_module": "@jupyter-widgets/controls",
            "_model_module_version": "1.5.0",
            "_model_name": "HTMLModel",
            "_view_count": null,
            "_view_module": "@jupyter-widgets/controls",
            "_view_module_version": "1.5.0",
            "_view_name": "HTMLView",
            "description": "",
            "description_tooltip": null,
            "layout": "IPY_MODEL_783626addc3447edbd81d3d95a329e5a",
            "placeholder": "​",
            "style": "IPY_MODEL_c13b6d706e5a478fada6c51d6fc5fca6",
            "value": " 50/50 [00:02&lt;00:00, 23.92it/s]"
          }
        },
        "c62f1047c92e4f36bc868aa2d09a20e4": {
          "model_module": "@jupyter-widgets/base",
          "model_name": "LayoutModel",
          "model_module_version": "1.2.0",
          "state": {
            "_model_module": "@jupyter-widgets/base",
            "_model_module_version": "1.2.0",
            "_model_name": "LayoutModel",
            "_view_count": null,
            "_view_module": "@jupyter-widgets/base",
            "_view_module_version": "1.2.0",
            "_view_name": "LayoutView",
            "align_content": null,
            "align_items": null,
            "align_self": null,
            "border": null,
            "bottom": null,
            "display": null,
            "flex": null,
            "flex_flow": null,
            "grid_area": null,
            "grid_auto_columns": null,
            "grid_auto_flow": null,
            "grid_auto_rows": null,
            "grid_column": null,
            "grid_gap": null,
            "grid_row": null,
            "grid_template_areas": null,
            "grid_template_columns": null,
            "grid_template_rows": null,
            "height": null,
            "justify_content": null,
            "justify_items": null,
            "left": null,
            "margin": null,
            "max_height": null,
            "max_width": null,
            "min_height": null,
            "min_width": null,
            "object_fit": null,
            "object_position": null,
            "order": null,
            "overflow": null,
            "overflow_x": null,
            "overflow_y": null,
            "padding": null,
            "right": null,
            "top": null,
            "visibility": null,
            "width": null
          }
        },
        "ed912755f91a4495be7aaaff70fef739": {
          "model_module": "@jupyter-widgets/base",
          "model_name": "LayoutModel",
          "model_module_version": "1.2.0",
          "state": {
            "_model_module": "@jupyter-widgets/base",
            "_model_module_version": "1.2.0",
            "_model_name": "LayoutModel",
            "_view_count": null,
            "_view_module": "@jupyter-widgets/base",
            "_view_module_version": "1.2.0",
            "_view_name": "LayoutView",
            "align_content": null,
            "align_items": null,
            "align_self": null,
            "border": null,
            "bottom": null,
            "display": null,
            "flex": null,
            "flex_flow": null,
            "grid_area": null,
            "grid_auto_columns": null,
            "grid_auto_flow": null,
            "grid_auto_rows": null,
            "grid_column": null,
            "grid_gap": null,
            "grid_row": null,
            "grid_template_areas": null,
            "grid_template_columns": null,
            "grid_template_rows": null,
            "height": null,
            "justify_content": null,
            "justify_items": null,
            "left": null,
            "margin": null,
            "max_height": null,
            "max_width": null,
            "min_height": null,
            "min_width": null,
            "object_fit": null,
            "object_position": null,
            "order": null,
            "overflow": null,
            "overflow_x": null,
            "overflow_y": null,
            "padding": null,
            "right": null,
            "top": null,
            "visibility": null,
            "width": null
          }
        },
        "1da758c898ce4ccf9f4d57e7e44a4949": {
          "model_module": "@jupyter-widgets/controls",
          "model_name": "DescriptionStyleModel",
          "model_module_version": "1.5.0",
          "state": {
            "_model_module": "@jupyter-widgets/controls",
            "_model_module_version": "1.5.0",
            "_model_name": "DescriptionStyleModel",
            "_view_count": null,
            "_view_module": "@jupyter-widgets/base",
            "_view_module_version": "1.2.0",
            "_view_name": "StyleView",
            "description_width": ""
          }
        },
        "aac3786df8264cbe9a570f87211bca8b": {
          "model_module": "@jupyter-widgets/base",
          "model_name": "LayoutModel",
          "model_module_version": "1.2.0",
          "state": {
            "_model_module": "@jupyter-widgets/base",
            "_model_module_version": "1.2.0",
            "_model_name": "LayoutModel",
            "_view_count": null,
            "_view_module": "@jupyter-widgets/base",
            "_view_module_version": "1.2.0",
            "_view_name": "LayoutView",
            "align_content": null,
            "align_items": null,
            "align_self": null,
            "border": null,
            "bottom": null,
            "display": null,
            "flex": null,
            "flex_flow": null,
            "grid_area": null,
            "grid_auto_columns": null,
            "grid_auto_flow": null,
            "grid_auto_rows": null,
            "grid_column": null,
            "grid_gap": null,
            "grid_row": null,
            "grid_template_areas": null,
            "grid_template_columns": null,
            "grid_template_rows": null,
            "height": null,
            "justify_content": null,
            "justify_items": null,
            "left": null,
            "margin": null,
            "max_height": null,
            "max_width": null,
            "min_height": null,
            "min_width": null,
            "object_fit": null,
            "object_position": null,
            "order": null,
            "overflow": null,
            "overflow_x": null,
            "overflow_y": null,
            "padding": null,
            "right": null,
            "top": null,
            "visibility": null,
            "width": null
          }
        },
        "8d55484169a74fefbe780e799d325346": {
          "model_module": "@jupyter-widgets/controls",
          "model_name": "ProgressStyleModel",
          "model_module_version": "1.5.0",
          "state": {
            "_model_module": "@jupyter-widgets/controls",
            "_model_module_version": "1.5.0",
            "_model_name": "ProgressStyleModel",
            "_view_count": null,
            "_view_module": "@jupyter-widgets/base",
            "_view_module_version": "1.2.0",
            "_view_name": "StyleView",
            "bar_color": null,
            "description_width": ""
          }
        },
        "783626addc3447edbd81d3d95a329e5a": {
          "model_module": "@jupyter-widgets/base",
          "model_name": "LayoutModel",
          "model_module_version": "1.2.0",
          "state": {
            "_model_module": "@jupyter-widgets/base",
            "_model_module_version": "1.2.0",
            "_model_name": "LayoutModel",
            "_view_count": null,
            "_view_module": "@jupyter-widgets/base",
            "_view_module_version": "1.2.0",
            "_view_name": "LayoutView",
            "align_content": null,
            "align_items": null,
            "align_self": null,
            "border": null,
            "bottom": null,
            "display": null,
            "flex": null,
            "flex_flow": null,
            "grid_area": null,
            "grid_auto_columns": null,
            "grid_auto_flow": null,
            "grid_auto_rows": null,
            "grid_column": null,
            "grid_gap": null,
            "grid_row": null,
            "grid_template_areas": null,
            "grid_template_columns": null,
            "grid_template_rows": null,
            "height": null,
            "justify_content": null,
            "justify_items": null,
            "left": null,
            "margin": null,
            "max_height": null,
            "max_width": null,
            "min_height": null,
            "min_width": null,
            "object_fit": null,
            "object_position": null,
            "order": null,
            "overflow": null,
            "overflow_x": null,
            "overflow_y": null,
            "padding": null,
            "right": null,
            "top": null,
            "visibility": null,
            "width": null
          }
        },
        "c13b6d706e5a478fada6c51d6fc5fca6": {
          "model_module": "@jupyter-widgets/controls",
          "model_name": "DescriptionStyleModel",
          "model_module_version": "1.5.0",
          "state": {
            "_model_module": "@jupyter-widgets/controls",
            "_model_module_version": "1.5.0",
            "_model_name": "DescriptionStyleModel",
            "_view_count": null,
            "_view_module": "@jupyter-widgets/base",
            "_view_module_version": "1.2.0",
            "_view_name": "StyleView",
            "description_width": ""
          }
        },
        "d47db62166da48849f59e32e9c3b3841": {
          "model_module": "@jupyter-widgets/controls",
          "model_name": "HBoxModel",
          "model_module_version": "1.5.0",
          "state": {
            "_dom_classes": [],
            "_model_module": "@jupyter-widgets/controls",
            "_model_module_version": "1.5.0",
            "_model_name": "HBoxModel",
            "_view_count": null,
            "_view_module": "@jupyter-widgets/controls",
            "_view_module_version": "1.5.0",
            "_view_name": "HBoxView",
            "box_style": "",
            "children": [
              "IPY_MODEL_b6849c85097d4fc0bfbd8e1fb1812e0f",
              "IPY_MODEL_c94d2a761a5949f392375137faa172cc",
              "IPY_MODEL_44590562063748bb9e86683c126418ae"
            ],
            "layout": "IPY_MODEL_7cc06b69a2df4ea0a204e3c518a1947d"
          }
        },
        "b6849c85097d4fc0bfbd8e1fb1812e0f": {
          "model_module": "@jupyter-widgets/controls",
          "model_name": "HTMLModel",
          "model_module_version": "1.5.0",
          "state": {
            "_dom_classes": [],
            "_model_module": "@jupyter-widgets/controls",
            "_model_module_version": "1.5.0",
            "_model_name": "HTMLModel",
            "_view_count": null,
            "_view_module": "@jupyter-widgets/controls",
            "_view_module_version": "1.5.0",
            "_view_name": "HTMLView",
            "description": "",
            "description_tooltip": null,
            "layout": "IPY_MODEL_47bb041e534245db826a63392e46786b",
            "placeholder": "​",
            "style": "IPY_MODEL_2132a52e8fea48f490db97c8b8c54833",
            "value": "100%"
          }
        },
        "c94d2a761a5949f392375137faa172cc": {
          "model_module": "@jupyter-widgets/controls",
          "model_name": "FloatProgressModel",
          "model_module_version": "1.5.0",
          "state": {
            "_dom_classes": [],
            "_model_module": "@jupyter-widgets/controls",
            "_model_module_version": "1.5.0",
            "_model_name": "FloatProgressModel",
            "_view_count": null,
            "_view_module": "@jupyter-widgets/controls",
            "_view_module_version": "1.5.0",
            "_view_name": "ProgressView",
            "bar_style": "success",
            "description": "",
            "description_tooltip": null,
            "layout": "IPY_MODEL_19c28efcc9d34c36802dfb6e2ff34359",
            "max": 50,
            "min": 0,
            "orientation": "horizontal",
            "style": "IPY_MODEL_5792ef2da70941c5a31e246c3251023e",
            "value": 50
          }
        },
        "44590562063748bb9e86683c126418ae": {
          "model_module": "@jupyter-widgets/controls",
          "model_name": "HTMLModel",
          "model_module_version": "1.5.0",
          "state": {
            "_dom_classes": [],
            "_model_module": "@jupyter-widgets/controls",
            "_model_module_version": "1.5.0",
            "_model_name": "HTMLModel",
            "_view_count": null,
            "_view_module": "@jupyter-widgets/controls",
            "_view_module_version": "1.5.0",
            "_view_name": "HTMLView",
            "description": "",
            "description_tooltip": null,
            "layout": "IPY_MODEL_429b6d29752e4fa8a595f90d1cdff03a",
            "placeholder": "​",
            "style": "IPY_MODEL_4ff466970bb24405b8012ce6a6b2fc0c",
            "value": " 50/50 [00:02&lt;00:00, 23.83it/s]"
          }
        },
        "7cc06b69a2df4ea0a204e3c518a1947d": {
          "model_module": "@jupyter-widgets/base",
          "model_name": "LayoutModel",
          "model_module_version": "1.2.0",
          "state": {
            "_model_module": "@jupyter-widgets/base",
            "_model_module_version": "1.2.0",
            "_model_name": "LayoutModel",
            "_view_count": null,
            "_view_module": "@jupyter-widgets/base",
            "_view_module_version": "1.2.0",
            "_view_name": "LayoutView",
            "align_content": null,
            "align_items": null,
            "align_self": null,
            "border": null,
            "bottom": null,
            "display": null,
            "flex": null,
            "flex_flow": null,
            "grid_area": null,
            "grid_auto_columns": null,
            "grid_auto_flow": null,
            "grid_auto_rows": null,
            "grid_column": null,
            "grid_gap": null,
            "grid_row": null,
            "grid_template_areas": null,
            "grid_template_columns": null,
            "grid_template_rows": null,
            "height": null,
            "justify_content": null,
            "justify_items": null,
            "left": null,
            "margin": null,
            "max_height": null,
            "max_width": null,
            "min_height": null,
            "min_width": null,
            "object_fit": null,
            "object_position": null,
            "order": null,
            "overflow": null,
            "overflow_x": null,
            "overflow_y": null,
            "padding": null,
            "right": null,
            "top": null,
            "visibility": null,
            "width": null
          }
        },
        "47bb041e534245db826a63392e46786b": {
          "model_module": "@jupyter-widgets/base",
          "model_name": "LayoutModel",
          "model_module_version": "1.2.0",
          "state": {
            "_model_module": "@jupyter-widgets/base",
            "_model_module_version": "1.2.0",
            "_model_name": "LayoutModel",
            "_view_count": null,
            "_view_module": "@jupyter-widgets/base",
            "_view_module_version": "1.2.0",
            "_view_name": "LayoutView",
            "align_content": null,
            "align_items": null,
            "align_self": null,
            "border": null,
            "bottom": null,
            "display": null,
            "flex": null,
            "flex_flow": null,
            "grid_area": null,
            "grid_auto_columns": null,
            "grid_auto_flow": null,
            "grid_auto_rows": null,
            "grid_column": null,
            "grid_gap": null,
            "grid_row": null,
            "grid_template_areas": null,
            "grid_template_columns": null,
            "grid_template_rows": null,
            "height": null,
            "justify_content": null,
            "justify_items": null,
            "left": null,
            "margin": null,
            "max_height": null,
            "max_width": null,
            "min_height": null,
            "min_width": null,
            "object_fit": null,
            "object_position": null,
            "order": null,
            "overflow": null,
            "overflow_x": null,
            "overflow_y": null,
            "padding": null,
            "right": null,
            "top": null,
            "visibility": null,
            "width": null
          }
        },
        "2132a52e8fea48f490db97c8b8c54833": {
          "model_module": "@jupyter-widgets/controls",
          "model_name": "DescriptionStyleModel",
          "model_module_version": "1.5.0",
          "state": {
            "_model_module": "@jupyter-widgets/controls",
            "_model_module_version": "1.5.0",
            "_model_name": "DescriptionStyleModel",
            "_view_count": null,
            "_view_module": "@jupyter-widgets/base",
            "_view_module_version": "1.2.0",
            "_view_name": "StyleView",
            "description_width": ""
          }
        },
        "19c28efcc9d34c36802dfb6e2ff34359": {
          "model_module": "@jupyter-widgets/base",
          "model_name": "LayoutModel",
          "model_module_version": "1.2.0",
          "state": {
            "_model_module": "@jupyter-widgets/base",
            "_model_module_version": "1.2.0",
            "_model_name": "LayoutModel",
            "_view_count": null,
            "_view_module": "@jupyter-widgets/base",
            "_view_module_version": "1.2.0",
            "_view_name": "LayoutView",
            "align_content": null,
            "align_items": null,
            "align_self": null,
            "border": null,
            "bottom": null,
            "display": null,
            "flex": null,
            "flex_flow": null,
            "grid_area": null,
            "grid_auto_columns": null,
            "grid_auto_flow": null,
            "grid_auto_rows": null,
            "grid_column": null,
            "grid_gap": null,
            "grid_row": null,
            "grid_template_areas": null,
            "grid_template_columns": null,
            "grid_template_rows": null,
            "height": null,
            "justify_content": null,
            "justify_items": null,
            "left": null,
            "margin": null,
            "max_height": null,
            "max_width": null,
            "min_height": null,
            "min_width": null,
            "object_fit": null,
            "object_position": null,
            "order": null,
            "overflow": null,
            "overflow_x": null,
            "overflow_y": null,
            "padding": null,
            "right": null,
            "top": null,
            "visibility": null,
            "width": null
          }
        },
        "5792ef2da70941c5a31e246c3251023e": {
          "model_module": "@jupyter-widgets/controls",
          "model_name": "ProgressStyleModel",
          "model_module_version": "1.5.0",
          "state": {
            "_model_module": "@jupyter-widgets/controls",
            "_model_module_version": "1.5.0",
            "_model_name": "ProgressStyleModel",
            "_view_count": null,
            "_view_module": "@jupyter-widgets/base",
            "_view_module_version": "1.2.0",
            "_view_name": "StyleView",
            "bar_color": null,
            "description_width": ""
          }
        },
        "429b6d29752e4fa8a595f90d1cdff03a": {
          "model_module": "@jupyter-widgets/base",
          "model_name": "LayoutModel",
          "model_module_version": "1.2.0",
          "state": {
            "_model_module": "@jupyter-widgets/base",
            "_model_module_version": "1.2.0",
            "_model_name": "LayoutModel",
            "_view_count": null,
            "_view_module": "@jupyter-widgets/base",
            "_view_module_version": "1.2.0",
            "_view_name": "LayoutView",
            "align_content": null,
            "align_items": null,
            "align_self": null,
            "border": null,
            "bottom": null,
            "display": null,
            "flex": null,
            "flex_flow": null,
            "grid_area": null,
            "grid_auto_columns": null,
            "grid_auto_flow": null,
            "grid_auto_rows": null,
            "grid_column": null,
            "grid_gap": null,
            "grid_row": null,
            "grid_template_areas": null,
            "grid_template_columns": null,
            "grid_template_rows": null,
            "height": null,
            "justify_content": null,
            "justify_items": null,
            "left": null,
            "margin": null,
            "max_height": null,
            "max_width": null,
            "min_height": null,
            "min_width": null,
            "object_fit": null,
            "object_position": null,
            "order": null,
            "overflow": null,
            "overflow_x": null,
            "overflow_y": null,
            "padding": null,
            "right": null,
            "top": null,
            "visibility": null,
            "width": null
          }
        },
        "4ff466970bb24405b8012ce6a6b2fc0c": {
          "model_module": "@jupyter-widgets/controls",
          "model_name": "DescriptionStyleModel",
          "model_module_version": "1.5.0",
          "state": {
            "_model_module": "@jupyter-widgets/controls",
            "_model_module_version": "1.5.0",
            "_model_name": "DescriptionStyleModel",
            "_view_count": null,
            "_view_module": "@jupyter-widgets/base",
            "_view_module_version": "1.2.0",
            "_view_name": "StyleView",
            "description_width": ""
          }
        }
      }
    }
  },
  "cells": [
    {
      "cell_type": "markdown",
      "metadata": {
        "id": "JnRXSMEB8tEB"
      },
      "source": [
        "# Time series - multivariate prediction, LSTM network for fixed-sized prediction\n",
        "\n",
        "In this example we will load prepared data and try to predict it with a simple lstm network producing fixed-sized prediction.\n",
        "\n",
        "This example is very similar to the feed-forward network except the model is smaller and it can predict from history of arbitrary length."
      ]
    },
    {
      "cell_type": "code",
      "metadata": {
        "id": "OgGVbU9t8tED",
        "colab": {
          "base_uri": "https://localhost:8080/"
        },
        "outputId": "0ea729bf-522a-4f95-f1dd-eea5381ea18c"
      },
      "source": [
        "%tensorflow_version 2.x\n",
        "%matplotlib inline\n",
        "\n",
        "import numpy as np\n",
        "import os\n",
        "from datetime import date\n",
        "import re\n",
        "\n",
        "import matplotlib.pyplot as plt\n",
        "\n",
        "import pandas as pd\n",
        "pd.options.display.max_rows = 30\n",
        "from pandas.plotting import register_matplotlib_converters\n",
        "register_matplotlib_converters()\n",
        "\n",
        "def show_loss():\n",
        "    loss_history = np.array(progress.history['loss'])\n",
        "    val_loss_history = np.array(progress.history['val_loss'])\n",
        "                                \n",
        "    plt.figure(figsize=(20,5))\n",
        "    plt.ylim(ymin=0, ymax=max(np.max(loss_history), np.max(val_loss_history)))\n",
        "    plt.plot(loss_history, 'r-')\n",
        "    plt.plot(val_loss_history, 'g-')\n",
        "    plt.show()"
      ],
      "execution_count": 2,
      "outputs": [
        {
          "output_type": "stream",
          "name": "stdout",
          "text": [
            "Colab only includes TensorFlow 2.x; %tensorflow_version has no effect.\n"
          ]
        }
      ]
    },
    {
      "cell_type": "markdown",
      "source": [
        "First, **upload data files prepared with the** `weather_data.ipynb` **notebook**\n",
        "\n",
        " - `training_set_temp_dp_press.p`\n",
        " - `testing_set_temp_dp_press.p`\n"
      ],
      "metadata": {
        "id": "dl40EZGN_kUP"
      }
    },
    {
      "cell_type": "code",
      "metadata": {
        "id": "u-fh0vOg8tEH"
      },
      "source": [
        "PATH = '/content/training_set_temp_dp_press.p'\n",
        "training_df = pd.read_pickle(PATH)"
      ],
      "execution_count": 3,
      "outputs": []
    },
    {
      "cell_type": "markdown",
      "metadata": {
        "id": "gXbf-IK48tEL"
      },
      "source": [
        "Notice that we would randomly sample the training data from the whole weather history.\n",
        "\n",
        "The `indices` array will contain starting date for each sample"
      ]
    },
    {
      "cell_type": "code",
      "metadata": {
        "colab": {
          "base_uri": "https://localhost:8080/",
          "height": 238
        },
        "id": "VB9pcLHhXeS5",
        "outputId": "5a162cdd-9be0-4ff5-d967-6f38af017885"
      },
      "source": [
        "training_df.describe().T"
      ],
      "execution_count": 4,
      "outputs": [
        {
          "output_type": "execute_result",
          "data": {
            "text/plain": [
              "              count      mean       std       min       25%           50%  \\\n",
              "Temp[av]     5844.0 -0.001116  0.999123 -2.950767 -0.724290  1.786967e-02   \n",
              "DPoint[av]   5844.0  0.001604  1.000542 -3.524788 -0.708038  3.321240e-02   \n",
              "SLPress[av]  5844.0 -0.004798  1.000654 -4.944317 -0.633782 -1.799073e-02   \n",
              "Precip[sum]  5844.0  0.026801  0.156823  0.000000  0.000000  0.000000e+00   \n",
              "cos(DoY)     5844.0  0.000684  0.707409 -0.999963 -0.708627  4.303538e-03   \n",
              "sin(DoY)     5844.0  0.000012  0.706925 -0.999991 -0.705584 -2.449294e-16   \n",
              "\n",
              "                  75%       max  \n",
              "Temp[av]     0.883722  2.368041  \n",
              "DPoint[av]   0.774463  2.256963  \n",
              "SLPress[av]  0.597800  3.184121  \n",
              "Precip[sum]  0.000000  2.896000  \n",
              "cos(DoY)     0.702527  1.000000  \n",
              "sin(DoY)     0.705584  0.999991  "
            ],
            "text/html": [
              "\n",
              "  <div id=\"df-8464c457-9c8a-4193-8baf-379b44566869\">\n",
              "    <div class=\"colab-df-container\">\n",
              "      <div>\n",
              "<style scoped>\n",
              "    .dataframe tbody tr th:only-of-type {\n",
              "        vertical-align: middle;\n",
              "    }\n",
              "\n",
              "    .dataframe tbody tr th {\n",
              "        vertical-align: top;\n",
              "    }\n",
              "\n",
              "    .dataframe thead th {\n",
              "        text-align: right;\n",
              "    }\n",
              "</style>\n",
              "<table border=\"1\" class=\"dataframe\">\n",
              "  <thead>\n",
              "    <tr style=\"text-align: right;\">\n",
              "      <th></th>\n",
              "      <th>count</th>\n",
              "      <th>mean</th>\n",
              "      <th>std</th>\n",
              "      <th>min</th>\n",
              "      <th>25%</th>\n",
              "      <th>50%</th>\n",
              "      <th>75%</th>\n",
              "      <th>max</th>\n",
              "    </tr>\n",
              "  </thead>\n",
              "  <tbody>\n",
              "    <tr>\n",
              "      <th>Temp[av]</th>\n",
              "      <td>5844.0</td>\n",
              "      <td>-0.001116</td>\n",
              "      <td>0.999123</td>\n",
              "      <td>-2.950767</td>\n",
              "      <td>-0.724290</td>\n",
              "      <td>1.786967e-02</td>\n",
              "      <td>0.883722</td>\n",
              "      <td>2.368041</td>\n",
              "    </tr>\n",
              "    <tr>\n",
              "      <th>DPoint[av]</th>\n",
              "      <td>5844.0</td>\n",
              "      <td>0.001604</td>\n",
              "      <td>1.000542</td>\n",
              "      <td>-3.524788</td>\n",
              "      <td>-0.708038</td>\n",
              "      <td>3.321240e-02</td>\n",
              "      <td>0.774463</td>\n",
              "      <td>2.256963</td>\n",
              "    </tr>\n",
              "    <tr>\n",
              "      <th>SLPress[av]</th>\n",
              "      <td>5844.0</td>\n",
              "      <td>-0.004798</td>\n",
              "      <td>1.000654</td>\n",
              "      <td>-4.944317</td>\n",
              "      <td>-0.633782</td>\n",
              "      <td>-1.799073e-02</td>\n",
              "      <td>0.597800</td>\n",
              "      <td>3.184121</td>\n",
              "    </tr>\n",
              "    <tr>\n",
              "      <th>Precip[sum]</th>\n",
              "      <td>5844.0</td>\n",
              "      <td>0.026801</td>\n",
              "      <td>0.156823</td>\n",
              "      <td>0.000000</td>\n",
              "      <td>0.000000</td>\n",
              "      <td>0.000000e+00</td>\n",
              "      <td>0.000000</td>\n",
              "      <td>2.896000</td>\n",
              "    </tr>\n",
              "    <tr>\n",
              "      <th>cos(DoY)</th>\n",
              "      <td>5844.0</td>\n",
              "      <td>0.000684</td>\n",
              "      <td>0.707409</td>\n",
              "      <td>-0.999963</td>\n",
              "      <td>-0.708627</td>\n",
              "      <td>4.303538e-03</td>\n",
              "      <td>0.702527</td>\n",
              "      <td>1.000000</td>\n",
              "    </tr>\n",
              "    <tr>\n",
              "      <th>sin(DoY)</th>\n",
              "      <td>5844.0</td>\n",
              "      <td>0.000012</td>\n",
              "      <td>0.706925</td>\n",
              "      <td>-0.999991</td>\n",
              "      <td>-0.705584</td>\n",
              "      <td>-2.449294e-16</td>\n",
              "      <td>0.705584</td>\n",
              "      <td>0.999991</td>\n",
              "    </tr>\n",
              "  </tbody>\n",
              "</table>\n",
              "</div>\n",
              "      <button class=\"colab-df-convert\" onclick=\"convertToInteractive('df-8464c457-9c8a-4193-8baf-379b44566869')\"\n",
              "              title=\"Convert this dataframe to an interactive table.\"\n",
              "              style=\"display:none;\">\n",
              "        \n",
              "  <svg xmlns=\"http://www.w3.org/2000/svg\" height=\"24px\"viewBox=\"0 0 24 24\"\n",
              "       width=\"24px\">\n",
              "    <path d=\"M0 0h24v24H0V0z\" fill=\"none\"/>\n",
              "    <path d=\"M18.56 5.44l.94 2.06.94-2.06 2.06-.94-2.06-.94-.94-2.06-.94 2.06-2.06.94zm-11 1L8.5 8.5l.94-2.06 2.06-.94-2.06-.94L8.5 2.5l-.94 2.06-2.06.94zm10 10l.94 2.06.94-2.06 2.06-.94-2.06-.94-.94-2.06-.94 2.06-2.06.94z\"/><path d=\"M17.41 7.96l-1.37-1.37c-.4-.4-.92-.59-1.43-.59-.52 0-1.04.2-1.43.59L10.3 9.45l-7.72 7.72c-.78.78-.78 2.05 0 2.83L4 21.41c.39.39.9.59 1.41.59.51 0 1.02-.2 1.41-.59l7.78-7.78 2.81-2.81c.8-.78.8-2.07 0-2.86zM5.41 20L4 18.59l7.72-7.72 1.47 1.35L5.41 20z\"/>\n",
              "  </svg>\n",
              "      </button>\n",
              "      \n",
              "  <style>\n",
              "    .colab-df-container {\n",
              "      display:flex;\n",
              "      flex-wrap:wrap;\n",
              "      gap: 12px;\n",
              "    }\n",
              "\n",
              "    .colab-df-convert {\n",
              "      background-color: #E8F0FE;\n",
              "      border: none;\n",
              "      border-radius: 50%;\n",
              "      cursor: pointer;\n",
              "      display: none;\n",
              "      fill: #1967D2;\n",
              "      height: 32px;\n",
              "      padding: 0 0 0 0;\n",
              "      width: 32px;\n",
              "    }\n",
              "\n",
              "    .colab-df-convert:hover {\n",
              "      background-color: #E2EBFA;\n",
              "      box-shadow: 0px 1px 2px rgba(60, 64, 67, 0.3), 0px 1px 3px 1px rgba(60, 64, 67, 0.15);\n",
              "      fill: #174EA6;\n",
              "    }\n",
              "\n",
              "    [theme=dark] .colab-df-convert {\n",
              "      background-color: #3B4455;\n",
              "      fill: #D2E3FC;\n",
              "    }\n",
              "\n",
              "    [theme=dark] .colab-df-convert:hover {\n",
              "      background-color: #434B5C;\n",
              "      box-shadow: 0px 1px 3px 1px rgba(0, 0, 0, 0.15);\n",
              "      filter: drop-shadow(0px 1px 2px rgba(0, 0, 0, 0.3));\n",
              "      fill: #FFFFFF;\n",
              "    }\n",
              "  </style>\n",
              "\n",
              "      <script>\n",
              "        const buttonEl =\n",
              "          document.querySelector('#df-8464c457-9c8a-4193-8baf-379b44566869 button.colab-df-convert');\n",
              "        buttonEl.style.display =\n",
              "          google.colab.kernel.accessAllowed ? 'block' : 'none';\n",
              "\n",
              "        async function convertToInteractive(key) {\n",
              "          const element = document.querySelector('#df-8464c457-9c8a-4193-8baf-379b44566869');\n",
              "          const dataTable =\n",
              "            await google.colab.kernel.invokeFunction('convertToInteractive',\n",
              "                                                     [key], {});\n",
              "          if (!dataTable) return;\n",
              "\n",
              "          const docLinkHtml = 'Like what you see? Visit the ' +\n",
              "            '<a target=\"_blank\" href=https://colab.research.google.com/notebooks/data_table.ipynb>data table notebook</a>'\n",
              "            + ' to learn more about interactive tables.';\n",
              "          element.innerHTML = '';\n",
              "          dataTable['output_type'] = 'display_data';\n",
              "          await google.colab.output.renderOutput(dataTable, element);\n",
              "          const docLink = document.createElement('div');\n",
              "          docLink.innerHTML = docLinkHtml;\n",
              "          element.appendChild(docLink);\n",
              "        }\n",
              "      </script>\n",
              "    </div>\n",
              "  </div>\n",
              "  "
            ]
          },
          "metadata": {},
          "execution_count": 4
        }
      ]
    },
    {
      "cell_type": "code",
      "metadata": {
        "id": "S721Dcjs8tEN"
      },
      "source": [
        "import random\n",
        "\n",
        "HISTORY_LEN = 14\n",
        "PREDICTION_LEN = 7\n",
        "NUM_SAMPLES = 2000\n",
        "NUM_INPUTS = 6\n",
        "NUM_OUTPUTS = 4\n",
        "\n",
        "indices = random.sample(range(0,len(training_df) - HISTORY_LEN - PREDICTION_LEN), NUM_SAMPLES)"
      ],
      "execution_count": 5,
      "outputs": []
    },
    {
      "cell_type": "markdown",
      "metadata": {
        "id": "A86yteDa8tER"
      },
      "source": [
        "In this example only the output needs to be reshaped into one-dimensional shape. Inputs need to be in a sequence form"
      ]
    },
    {
      "cell_type": "code",
      "metadata": {
        "id": "_y7kI0_s8tES"
      },
      "source": [
        "ts_data = training_df.values\n",
        "ts_inputs = np.array([ts_data[i:i + HISTORY_LEN] for i in indices])\n",
        "ts_outputs = np.array([ts_data[i + HISTORY_LEN: i + HISTORY_LEN + PREDICTION_LEN,:NUM_OUTPUTS] for i in indices]).reshape((NUM_SAMPLES, PREDICTION_LEN * NUM_OUTPUTS))"
      ],
      "execution_count": 6,
      "outputs": []
    },
    {
      "cell_type": "code",
      "metadata": {
        "colab": {
          "base_uri": "https://localhost:8080/"
        },
        "id": "sRV5vO4EYQXF",
        "outputId": "b9d7fa20-6bab-43ea-88d2-6e5524df46d5"
      },
      "source": [
        "print(ts_inputs.shape)\n",
        "print(ts_outputs.shape)"
      ],
      "execution_count": 7,
      "outputs": [
        {
          "output_type": "stream",
          "name": "stdout",
          "text": [
            "(2000, 14, 6)\n",
            "(2000, 28)\n"
          ]
        }
      ]
    },
    {
      "cell_type": "code",
      "metadata": {
        "id": "eHyaTKls8tEW",
        "colab": {
          "base_uri": "https://localhost:8080/"
        },
        "outputId": "f4be0225-57e2-45d4-c7df-8f1fd44c9c71"
      },
      "source": [
        "from tensorflow.keras import Model\n",
        "from tensorflow.keras.layers import LSTM, GRU, Input, Dense\n",
        "\n",
        "inputs = Input(shape=ts_inputs.shape[1:])\n",
        "x = GRU(32, return_sequences=True, recurrent_activation='sigmoid')(inputs)\n",
        "x = GRU(16, recurrent_activation='sigmoid')(x)\n",
        "outputs = Dense(PREDICTION_LEN * NUM_OUTPUTS, activation='linear')(x)\n",
        "\n",
        "model = Model(inputs, outputs)\n",
        "model.compile(optimizer='adam', loss='mse')\n",
        "model.summary()"
      ],
      "execution_count": 8,
      "outputs": [
        {
          "output_type": "stream",
          "name": "stdout",
          "text": [
            "Model: \"model\"\n",
            "_________________________________________________________________\n",
            " Layer (type)                Output Shape              Param #   \n",
            "=================================================================\n",
            " input_1 (InputLayer)        [(None, 14, 6)]           0         \n",
            "                                                                 \n",
            " gru (GRU)                   (None, 14, 32)            3840      \n",
            "                                                                 \n",
            " gru_1 (GRU)                 (None, 16)                2400      \n",
            "                                                                 \n",
            " dense (Dense)               (None, 28)                476       \n",
            "                                                                 \n",
            "=================================================================\n",
            "Total params: 6,716\n",
            "Trainable params: 6,716\n",
            "Non-trainable params: 0\n",
            "_________________________________________________________________\n"
          ]
        }
      ]
    },
    {
      "cell_type": "code",
      "metadata": {
        "id": "VX13iWFBBphN"
      },
      "source": [
        "def predict(inputs):    \n",
        "    return model.predict(inputs.values.reshape(1, HISTORY_LEN, NUM_INPUTS), verbose=False).reshape((PREDICTION_LEN, NUM_OUTPUTS))"
      ],
      "execution_count": 20,
      "outputs": []
    },
    {
      "cell_type": "code",
      "metadata": {
        "scrolled": false,
        "id": "4qoiycAT8tEZ",
        "colab": {
          "base_uri": "https://localhost:8080/"
        },
        "outputId": "fab2dc95-57fc-4b50-9254-2c0cd932c494"
      },
      "source": [
        "progress = model.fit(ts_inputs, ts_outputs, validation_split=0.1, epochs=100)"
      ],
      "execution_count": 12,
      "outputs": [
        {
          "output_type": "stream",
          "name": "stdout",
          "text": [
            "Epoch 1/100\n",
            "57/57 [==============================] - 0s 6ms/step - loss: 0.2196 - val_loss: 0.2920\n",
            "Epoch 2/100\n",
            "57/57 [==============================] - 0s 5ms/step - loss: 0.2171 - val_loss: 0.2971\n",
            "Epoch 3/100\n",
            "57/57 [==============================] - 0s 6ms/step - loss: 0.2161 - val_loss: 0.3008\n",
            "Epoch 4/100\n",
            "57/57 [==============================] - 0s 6ms/step - loss: 0.2139 - val_loss: 0.2978\n",
            "Epoch 5/100\n",
            "57/57 [==============================] - 0s 6ms/step - loss: 0.2151 - val_loss: 0.2891\n",
            "Epoch 6/100\n",
            "57/57 [==============================] - 0s 6ms/step - loss: 0.2121 - val_loss: 0.2963\n",
            "Epoch 7/100\n",
            "57/57 [==============================] - 0s 6ms/step - loss: 0.2102 - val_loss: 0.2933\n",
            "Epoch 8/100\n",
            "57/57 [==============================] - 0s 6ms/step - loss: 0.2088 - val_loss: 0.2920\n",
            "Epoch 9/100\n",
            "57/57 [==============================] - 0s 6ms/step - loss: 0.2079 - val_loss: 0.2943\n",
            "Epoch 10/100\n",
            "57/57 [==============================] - 0s 5ms/step - loss: 0.2068 - val_loss: 0.2916\n",
            "Epoch 11/100\n",
            "57/57 [==============================] - 0s 6ms/step - loss: 0.2046 - val_loss: 0.2997\n",
            "Epoch 12/100\n",
            "57/57 [==============================] - 0s 6ms/step - loss: 0.2044 - val_loss: 0.2877\n",
            "Epoch 13/100\n",
            "57/57 [==============================] - 0s 6ms/step - loss: 0.2024 - val_loss: 0.2924\n",
            "Epoch 14/100\n",
            "57/57 [==============================] - 0s 5ms/step - loss: 0.2009 - val_loss: 0.2939\n",
            "Epoch 15/100\n",
            "57/57 [==============================] - 0s 5ms/step - loss: 0.2006 - val_loss: 0.2921\n",
            "Epoch 16/100\n",
            "57/57 [==============================] - 0s 5ms/step - loss: 0.1990 - val_loss: 0.2974\n",
            "Epoch 17/100\n",
            "57/57 [==============================] - 0s 6ms/step - loss: 0.1979 - val_loss: 0.2832\n",
            "Epoch 18/100\n",
            "57/57 [==============================] - 0s 6ms/step - loss: 0.1971 - val_loss: 0.2925\n",
            "Epoch 19/100\n",
            "57/57 [==============================] - 0s 6ms/step - loss: 0.1961 - val_loss: 0.2960\n",
            "Epoch 20/100\n",
            "57/57 [==============================] - 0s 5ms/step - loss: 0.1947 - val_loss: 0.2868\n",
            "Epoch 21/100\n",
            "57/57 [==============================] - 0s 6ms/step - loss: 0.1940 - val_loss: 0.2927\n",
            "Epoch 22/100\n",
            "57/57 [==============================] - 0s 6ms/step - loss: 0.1921 - val_loss: 0.2891\n",
            "Epoch 23/100\n",
            "57/57 [==============================] - 0s 6ms/step - loss: 0.1908 - val_loss: 0.2915\n",
            "Epoch 24/100\n",
            "57/57 [==============================] - 0s 5ms/step - loss: 0.1899 - val_loss: 0.2888\n",
            "Epoch 25/100\n",
            "57/57 [==============================] - 0s 5ms/step - loss: 0.1895 - val_loss: 0.2835\n",
            "Epoch 26/100\n",
            "57/57 [==============================] - 0s 6ms/step - loss: 0.1896 - val_loss: 0.2902\n",
            "Epoch 27/100\n",
            "57/57 [==============================] - 0s 5ms/step - loss: 0.1882 - val_loss: 0.2917\n",
            "Epoch 28/100\n",
            "57/57 [==============================] - 0s 5ms/step - loss: 0.1859 - val_loss: 0.2878\n",
            "Epoch 29/100\n",
            "57/57 [==============================] - 0s 5ms/step - loss: 0.1853 - val_loss: 0.2862\n",
            "Epoch 30/100\n",
            "57/57 [==============================] - 0s 5ms/step - loss: 0.1844 - val_loss: 0.2906\n",
            "Epoch 31/100\n",
            "57/57 [==============================] - 0s 5ms/step - loss: 0.1841 - val_loss: 0.2937\n",
            "Epoch 32/100\n",
            "57/57 [==============================] - 0s 5ms/step - loss: 0.1828 - val_loss: 0.2909\n",
            "Epoch 33/100\n",
            "57/57 [==============================] - 0s 5ms/step - loss: 0.1814 - val_loss: 0.2948\n",
            "Epoch 34/100\n",
            "57/57 [==============================] - 0s 5ms/step - loss: 0.1815 - val_loss: 0.2913\n",
            "Epoch 35/100\n",
            "57/57 [==============================] - 0s 5ms/step - loss: 0.1808 - val_loss: 0.2914\n",
            "Epoch 36/100\n",
            "57/57 [==============================] - 0s 6ms/step - loss: 0.1789 - val_loss: 0.2866\n",
            "Epoch 37/100\n",
            "57/57 [==============================] - 0s 6ms/step - loss: 0.1782 - val_loss: 0.2962\n",
            "Epoch 38/100\n",
            "57/57 [==============================] - 0s 6ms/step - loss: 0.1773 - val_loss: 0.2925\n",
            "Epoch 39/100\n",
            "57/57 [==============================] - 0s 5ms/step - loss: 0.1758 - val_loss: 0.2885\n",
            "Epoch 40/100\n",
            "57/57 [==============================] - 0s 6ms/step - loss: 0.1766 - val_loss: 0.2907\n",
            "Epoch 41/100\n",
            "57/57 [==============================] - 0s 5ms/step - loss: 0.1744 - val_loss: 0.2908\n",
            "Epoch 42/100\n",
            "57/57 [==============================] - 0s 6ms/step - loss: 0.1741 - val_loss: 0.2866\n",
            "Epoch 43/100\n",
            "57/57 [==============================] - 0s 5ms/step - loss: 0.1729 - val_loss: 0.2858\n",
            "Epoch 44/100\n",
            "57/57 [==============================] - 0s 6ms/step - loss: 0.1727 - val_loss: 0.2910\n",
            "Epoch 45/100\n",
            "57/57 [==============================] - 0s 6ms/step - loss: 0.1710 - val_loss: 0.2936\n",
            "Epoch 46/100\n",
            "57/57 [==============================] - 0s 6ms/step - loss: 0.1717 - val_loss: 0.2968\n",
            "Epoch 47/100\n",
            "57/57 [==============================] - 0s 6ms/step - loss: 0.1701 - val_loss: 0.2855\n",
            "Epoch 48/100\n",
            "57/57 [==============================] - 0s 5ms/step - loss: 0.1691 - val_loss: 0.2875\n",
            "Epoch 49/100\n",
            "57/57 [==============================] - 0s 5ms/step - loss: 0.1691 - val_loss: 0.2912\n",
            "Epoch 50/100\n",
            "57/57 [==============================] - 0s 6ms/step - loss: 0.1682 - val_loss: 0.2944\n",
            "Epoch 51/100\n",
            "57/57 [==============================] - 0s 6ms/step - loss: 0.1678 - val_loss: 0.2927\n",
            "Epoch 52/100\n",
            "57/57 [==============================] - 0s 6ms/step - loss: 0.1667 - val_loss: 0.2899\n",
            "Epoch 53/100\n",
            "57/57 [==============================] - 0s 6ms/step - loss: 0.1675 - val_loss: 0.2891\n",
            "Epoch 54/100\n",
            "57/57 [==============================] - 0s 6ms/step - loss: 0.1650 - val_loss: 0.2912\n",
            "Epoch 55/100\n",
            "57/57 [==============================] - 0s 5ms/step - loss: 0.1638 - val_loss: 0.2909\n",
            "Epoch 56/100\n",
            "57/57 [==============================] - 0s 5ms/step - loss: 0.1643 - val_loss: 0.2878\n",
            "Epoch 57/100\n",
            "57/57 [==============================] - 0s 5ms/step - loss: 0.1632 - val_loss: 0.2919\n",
            "Epoch 58/100\n",
            "57/57 [==============================] - 0s 5ms/step - loss: 0.1628 - val_loss: 0.2829\n",
            "Epoch 59/100\n",
            "57/57 [==============================] - 0s 6ms/step - loss: 0.1613 - val_loss: 0.2933\n",
            "Epoch 60/100\n",
            "57/57 [==============================] - 0s 6ms/step - loss: 0.1615 - val_loss: 0.2909\n",
            "Epoch 61/100\n",
            "57/57 [==============================] - 0s 5ms/step - loss: 0.1613 - val_loss: 0.2898\n",
            "Epoch 62/100\n",
            "57/57 [==============================] - 0s 6ms/step - loss: 0.1610 - val_loss: 0.2886\n",
            "Epoch 63/100\n",
            "57/57 [==============================] - 0s 6ms/step - loss: 0.1596 - val_loss: 0.2915\n",
            "Epoch 64/100\n",
            "57/57 [==============================] - 0s 6ms/step - loss: 0.1586 - val_loss: 0.2863\n",
            "Epoch 65/100\n",
            "57/57 [==============================] - 0s 5ms/step - loss: 0.1590 - val_loss: 0.2895\n",
            "Epoch 66/100\n",
            "57/57 [==============================] - 0s 6ms/step - loss: 0.1570 - val_loss: 0.2907\n",
            "Epoch 67/100\n",
            "57/57 [==============================] - 0s 6ms/step - loss: 0.1579 - val_loss: 0.2938\n",
            "Epoch 68/100\n",
            "57/57 [==============================] - 0s 5ms/step - loss: 0.1576 - val_loss: 0.2885\n",
            "Epoch 69/100\n",
            "57/57 [==============================] - 0s 6ms/step - loss: 0.1571 - val_loss: 0.2897\n",
            "Epoch 70/100\n",
            "57/57 [==============================] - 0s 5ms/step - loss: 0.1556 - val_loss: 0.2863\n",
            "Epoch 71/100\n",
            "57/57 [==============================] - 0s 6ms/step - loss: 0.1550 - val_loss: 0.2935\n",
            "Epoch 72/100\n",
            "57/57 [==============================] - 0s 6ms/step - loss: 0.1536 - val_loss: 0.2894\n",
            "Epoch 73/100\n",
            "57/57 [==============================] - 0s 5ms/step - loss: 0.1535 - val_loss: 0.2941\n",
            "Epoch 74/100\n",
            "57/57 [==============================] - 0s 5ms/step - loss: 0.1549 - val_loss: 0.2918\n",
            "Epoch 75/100\n",
            "57/57 [==============================] - 0s 6ms/step - loss: 0.1534 - val_loss: 0.2896\n",
            "Epoch 76/100\n",
            "57/57 [==============================] - 0s 6ms/step - loss: 0.1539 - val_loss: 0.2862\n",
            "Epoch 77/100\n",
            "57/57 [==============================] - 0s 6ms/step - loss: 0.1527 - val_loss: 0.2930\n",
            "Epoch 78/100\n",
            "57/57 [==============================] - 0s 5ms/step - loss: 0.1524 - val_loss: 0.2876\n",
            "Epoch 79/100\n",
            "57/57 [==============================] - 0s 5ms/step - loss: 0.1512 - val_loss: 0.2866\n",
            "Epoch 80/100\n",
            "57/57 [==============================] - 0s 6ms/step - loss: 0.1503 - val_loss: 0.2908\n",
            "Epoch 81/100\n",
            "57/57 [==============================] - 0s 6ms/step - loss: 0.1504 - val_loss: 0.2891\n",
            "Epoch 82/100\n",
            "57/57 [==============================] - 0s 6ms/step - loss: 0.1517 - val_loss: 0.2956\n",
            "Epoch 83/100\n",
            "57/57 [==============================] - 0s 6ms/step - loss: 0.1498 - val_loss: 0.2898\n",
            "Epoch 84/100\n",
            "57/57 [==============================] - 0s 6ms/step - loss: 0.1485 - val_loss: 0.2968\n",
            "Epoch 85/100\n",
            "57/57 [==============================] - 0s 5ms/step - loss: 0.1476 - val_loss: 0.2849\n",
            "Epoch 86/100\n",
            "57/57 [==============================] - 0s 5ms/step - loss: 0.1467 - val_loss: 0.2917\n",
            "Epoch 87/100\n",
            "57/57 [==============================] - 0s 5ms/step - loss: 0.1491 - val_loss: 0.2936\n",
            "Epoch 88/100\n",
            "57/57 [==============================] - 0s 5ms/step - loss: 0.1475 - val_loss: 0.2927\n",
            "Epoch 89/100\n",
            "57/57 [==============================] - 0s 5ms/step - loss: 0.1462 - val_loss: 0.2888\n",
            "Epoch 90/100\n",
            "57/57 [==============================] - 0s 6ms/step - loss: 0.1458 - val_loss: 0.2917\n",
            "Epoch 91/100\n",
            "57/57 [==============================] - 0s 5ms/step - loss: 0.1453 - val_loss: 0.2909\n",
            "Epoch 92/100\n",
            "57/57 [==============================] - 0s 5ms/step - loss: 0.1448 - val_loss: 0.2953\n",
            "Epoch 93/100\n",
            "57/57 [==============================] - 0s 5ms/step - loss: 0.1445 - val_loss: 0.2880\n",
            "Epoch 94/100\n",
            "57/57 [==============================] - 0s 6ms/step - loss: 0.1442 - val_loss: 0.2940\n",
            "Epoch 95/100\n",
            "57/57 [==============================] - 0s 6ms/step - loss: 0.1449 - val_loss: 0.2894\n",
            "Epoch 96/100\n",
            "57/57 [==============================] - 0s 6ms/step - loss: 0.1437 - val_loss: 0.2993\n",
            "Epoch 97/100\n",
            "57/57 [==============================] - 0s 6ms/step - loss: 0.1435 - val_loss: 0.2910\n",
            "Epoch 98/100\n",
            "57/57 [==============================] - 0s 5ms/step - loss: 0.1420 - val_loss: 0.2913\n",
            "Epoch 99/100\n",
            "57/57 [==============================] - 0s 6ms/step - loss: 0.1424 - val_loss: 0.2918\n",
            "Epoch 100/100\n",
            "57/57 [==============================] - 0s 6ms/step - loss: 0.1421 - val_loss: 0.2878\n"
          ]
        }
      ]
    },
    {
      "cell_type": "code",
      "metadata": {
        "colab": {
          "base_uri": "https://localhost:8080/",
          "height": 323
        },
        "id": "ucMbsrYo3sL7",
        "outputId": "47c20bc2-8f4f-46bc-d095-90806113a77c"
      },
      "source": [
        "show_loss()"
      ],
      "execution_count": 13,
      "outputs": [
        {
          "output_type": "display_data",
          "data": {
            "text/plain": [
              "<Figure size 1440x360 with 1 Axes>"
            ],
            "image/png": "[encoded data removed]"
          },
          "metadata": {
            "needs_background": "light"
          }
        }
      ]
    },
    {
      "cell_type": "markdown",
      "metadata": {
        "id": "jMy-MJci8tEc"
      },
      "source": [
        "## Prediction phase\n",
        "\n",
        "To test the prediction, we will take a particular date and feed the history into the network.\n",
        "\n",
        "Notice the `DatetimeIndex` usage that allows us to easily align our prediction to the input time series."
      ]
    },
    {
      "cell_type": "code",
      "metadata": {
        "id": "kso7avUG8tEe"
      },
      "source": [
        "import datetime\n",
        "from datetime import timedelta"
      ],
      "execution_count": 14,
      "outputs": []
    },
    {
      "cell_type": "code",
      "metadata": {
        "id": "j59ch_HQqm55"
      },
      "source": [
        "PATH = '/content/testing_set_temp_dp_press.p'\n",
        "testing_df = pd.read_pickle(PATH)"
      ],
      "execution_count": 15,
      "outputs": []
    },
    {
      "cell_type": "code",
      "metadata": {
        "id": "aQGHBfis7O_-"
      },
      "source": [
        "def show_prediction(prediction_date):\n",
        "    \n",
        "    history = testing_df[prediction_date - timedelta(days=HISTORY_LEN - 1): prediction_date]\n",
        "    prediction = predict(history)    \n",
        "\n",
        "    prediction_df = pd.DataFrame(\n",
        "        prediction, \n",
        "        index=pd.date_range(start=prediction_date + timedelta(days=1), freq='D', periods=PREDICTION_LEN)\n",
        "    )\n",
        "\n",
        "    ground_true = testing_df[prediction_date - timedelta(days=HISTORY_LEN - 1): prediction_date + timedelta(days=PREDICTION_LEN)]\n",
        "\n",
        "    plt.figure(figsize = (12, 6))\n",
        "    plt.bar(ground_true.index, ground_true.iloc[:,3], color='powderblue')\n",
        "    plt.bar(prediction_df.index, prediction_df.iloc[:,3], color='skyblue')\n",
        "    plt.twinx()\n",
        "    gt_plt = plt.plot(ground_true.iloc[:,0:3], linestyle='--')    \n",
        "    plt.plot(prediction_df.iloc[:,0], color=gt_plt[0].get_color())\n",
        "    plt.plot(prediction_df.iloc[:,1], color=gt_plt[1].get_color())\n",
        "    plt.plot(prediction_df.iloc[:,2], color=gt_plt[2].get_color())    \n",
        "    plt.show()"
      ],
      "execution_count": 21,
      "outputs": []
    },
    {
      "cell_type": "code",
      "metadata": {
        "id": "B73IsczYrIc_",
        "colab": {
          "base_uri": "https://localhost:8080/",
          "height": 374
        },
        "outputId": "c31f8368-9f98-4cc5-e108-bbedb7d87a48"
      },
      "source": [
        "show_prediction(date(2017, 1, 21))"
      ],
      "execution_count": 22,
      "outputs": [
        {
          "output_type": "display_data",
          "data": {
            "text/plain": [
              "<Figure size 864x432 with 2 Axes>"
            ],
            "image/png": "[encoded data removed]"
          },
          "metadata": {
            "needs_background": "light"
          }
        }
      ]
    },
    {
      "cell_type": "markdown",
      "metadata": {
        "id": "4a7KH_TvqleF"
      },
      "source": [
        "## Evaluation\n",
        "\n",
        "Let's evaluate against some baseline model (constant forecast)"
      ]
    },
    {
      "cell_type": "code",
      "metadata": {
        "id": "3W3V3chqqkje"
      },
      "source": [
        "from tqdm.notebook import tqdm\n",
        "\n",
        "def evaluate_one(prediction_date):\n",
        "    \n",
        "    history = testing_df[prediction_date - timedelta(days=HISTORY_LEN - 1): prediction_date]\n",
        "    prediction = predict(history)\n",
        "\n",
        "    ground_truth = testing_df[prediction_date + timedelta(days=1) : prediction_date + timedelta(days=PREDICTION_LEN)].values\n",
        "    baseline_prediction = np.tile(testing_df.loc[prediction_date:prediction_date], (PREDICTION_LEN, 1))\n",
        "\n",
        "    return (\n",
        "        np.sum((prediction[:,:3] - ground_truth[:,:3]) ** 2), \n",
        "        np.sum((baseline_prediction[:,:3] - ground_truth[:,:3]) ** 2)\n",
        "    )\n",
        "\n",
        "def evaluate_all():\n",
        "    baseline_error = 0\n",
        "    model_error = 0\n",
        "\n",
        "    for i in tqdm(range(2, 52)):\n",
        "        prediction_date = date(2016,12,31) + timedelta(days=i * PREDICTION_LEN)\n",
        "        model_e, baseline_e = evaluate_one(prediction_date)\n",
        "        model_error += model_e\n",
        "        baseline_error += baseline_e\n",
        "\n",
        "    return model_error, baseline_error"
      ],
      "execution_count": 23,
      "outputs": []
    },
    {
      "cell_type": "code",
      "metadata": {
        "colab": {
          "base_uri": "https://localhost:8080/",
          "height": 68,
          "referenced_widgets": [
            "e08ed3cf53da413dbf95af8cd6913494",
            "6919702d1589434fba01361e2e1054fc",
            "acd440cbb71e4715a4aa748cf0e8c823",
            "c192ec43be6a47cf8f2424b93aea2a94",
            "6b66e26707784fd7ae5874221812798c",
            "42c5021ba82c4dc98be93f1b19a72109",
            "bfd2310992a44eb4b2795dd1bcffc1aa",
            "20a6ff30413746769a53eff03fa6c15e",
            "5d835bfd744a4304b8513240d592f879",
            "5782c93a1a3647678b0fb9cdf2d4e009",
            "39d672a86ee54116b23ddadff9848879"
          ]
        },
        "id": "kVDLNCJO2v_A",
        "outputId": "3ee7f4b1-dc42-4e2e-b515-95b30508a80e"
      },
      "source": [
        "evaluate_all()"
      ],
      "execution_count": 24,
      "outputs": [
        {
          "output_type": "display_data",
          "data": {
            "text/plain": [
              "  0%|          | 0/50 [00:00<?, ?it/s]"
            ],
            "application/vnd.jupyter.widget-view+json": {
              "version_major": 2,
              "version_minor": 0,
              "model_id": "e08ed3cf53da413dbf95af8cd6913494"
            }
          },
          "metadata": {}
        },
        {
          "output_type": "execute_result",
          "data": {
            "text/plain": [
              "(546.3666050804725, 696.5734687200606)"
            ]
          },
          "metadata": {},
          "execution_count": 24
        }
      ]
    },
    {
      "cell_type": "markdown",
      "metadata": {
        "id": "eml7h4gj4t_C"
      },
      "source": [
        "## Multiple Outputs\n",
        "\n",
        "To correctly handle this example, we should be training the network with multiple outputs as prediction of precipitation cannot be below zero."
      ]
    },
    {
      "cell_type": "code",
      "metadata": {
        "colab": {
          "base_uri": "https://localhost:8080/"
        },
        "id": "JJGkMNIC4OCn",
        "outputId": "9500845b-ba40-4a9c-c567-a51d80b9b8c2"
      },
      "source": [
        "ts_outputs_1 = np.array([ts_data[i + HISTORY_LEN: i + HISTORY_LEN + PREDICTION_LEN, 0:3] for i in indices]).reshape((NUM_SAMPLES, PREDICTION_LEN * 3))\n",
        "ts_outputs_2 = np.array([ts_data[i + HISTORY_LEN: i + HISTORY_LEN + PREDICTION_LEN, 3:4] for i in indices]).reshape((NUM_SAMPLES, PREDICTION_LEN))\n",
        "\n",
        "print(ts_outputs_1.shape)\n",
        "print(ts_outputs_2.shape)"
      ],
      "execution_count": 25,
      "outputs": [
        {
          "output_type": "stream",
          "name": "stdout",
          "text": [
            "(2000, 21)\n",
            "(2000, 7)\n"
          ]
        }
      ]
    },
    {
      "cell_type": "code",
      "metadata": {
        "colab": {
          "base_uri": "https://localhost:8080/"
        },
        "id": "sVk1ba1P5Yg4",
        "outputId": "54e9bebf-468c-4fda-f789-623b0a6878c4"
      },
      "source": [
        "from tensorflow.keras import Model\n",
        "from tensorflow.keras.layers import LSTM, GRU, Input, Dense\n",
        "\n",
        "inputs = Input(shape=ts_inputs.shape[1:])\n",
        "x = GRU(32, return_sequences=True)(inputs)\n",
        "x = GRU(16)(x)\n",
        "outputs_1 = Dense(PREDICTION_LEN * 3, activation='linear', name='output_1')(x)\n",
        "outputs_2 = Dense(PREDICTION_LEN, activation='relu', name='output_2')(x)\n",
        "\n",
        "model = Model(inputs, [outputs_1, outputs_2])\n",
        "model.compile(optimizer='adam', loss=['mse', 'mse'], loss_weights=[0.5, 1.0])\n",
        "model.summary()"
      ],
      "execution_count": 64,
      "outputs": [
        {
          "output_type": "stream",
          "name": "stdout",
          "text": [
            "Model: \"model_6\"\n",
            "__________________________________________________________________________________________________\n",
            " Layer (type)                   Output Shape         Param #     Connected to                     \n",
            "==================================================================================================\n",
            " input_7 (InputLayer)           [(None, 14, 6)]      0           []                               \n",
            "                                                                                                  \n",
            " gru_12 (GRU)                   (None, 14, 32)       3840        ['input_7[0][0]']                \n",
            "                                                                                                  \n",
            " gru_13 (GRU)                   (None, 16)           2400        ['gru_12[0][0]']                 \n",
            "                                                                                                  \n",
            " output_1 (Dense)               (None, 21)           357         ['gru_13[0][0]']                 \n",
            "                                                                                                  \n",
            " output_2 (Dense)               (None, 7)            119         ['gru_13[0][0]']                 \n",
            "                                                                                                  \n",
            "==================================================================================================\n",
            "Total params: 6,716\n",
            "Trainable params: 6,716\n",
            "Non-trainable params: 0\n",
            "__________________________________________________________________________________________________\n"
          ]
        }
      ]
    },
    {
      "cell_type": "code",
      "metadata": {
        "id": "54CMHzKABlTg"
      },
      "source": [
        "def predict(inputs):    \n",
        "    p1, p2 = model.predict(inputs.values.reshape(1, HISTORY_LEN, NUM_INPUTS), verbose=False)    \n",
        "    return np.concatenate((\n",
        "        p1.reshape((PREDICTION_LEN, 3)),\n",
        "        p2.reshape((PREDICTION_LEN, 1))\n",
        "    ), axis=-1)"
      ],
      "execution_count": 55,
      "outputs": []
    },
    {
      "cell_type": "code",
      "metadata": {
        "id": "79MXN-HW58ki",
        "colab": {
          "base_uri": "https://localhost:8080/"
        },
        "outputId": "d65803ba-d186-4df5-e652-40a80de12155"
      },
      "source": [
        "progress = model.fit(ts_inputs, [ts_outputs_1, ts_outputs_2], validation_split=0.1, epochs=100)"
      ],
      "execution_count": 65,
      "outputs": [
        {
          "output_type": "stream",
          "name": "stdout",
          "text": [
            "Epoch 1/100\n",
            "57/57 [==============================] - 4s 18ms/step - loss: 0.4719 - output_1_loss: 0.8853 - output_2_loss: 0.0293 - val_loss: 0.3556 - val_output_1_loss: 0.6567 - val_output_2_loss: 0.0273\n",
            "Epoch 2/100\n",
            "57/57 [==============================] - 0s 7ms/step - loss: 0.2915 - output_1_loss: 0.5308 - output_2_loss: 0.0261 - val_loss: 0.2859 - val_output_1_loss: 0.5220 - val_output_2_loss: 0.0249\n",
            "Epoch 3/100\n",
            "57/57 [==============================] - 0s 6ms/step - loss: 0.2640 - output_1_loss: 0.4770 - output_2_loss: 0.0255 - val_loss: 0.2758 - val_output_1_loss: 0.5016 - val_output_2_loss: 0.0250\n",
            "Epoch 4/100\n",
            "57/57 [==============================] - 0s 6ms/step - loss: 0.2557 - output_1_loss: 0.4606 - output_2_loss: 0.0255 - val_loss: 0.2691 - val_output_1_loss: 0.4888 - val_output_2_loss: 0.0247\n",
            "Epoch 5/100\n",
            "57/57 [==============================] - 0s 6ms/step - loss: 0.2498 - output_1_loss: 0.4489 - output_2_loss: 0.0254 - val_loss: 0.2655 - val_output_1_loss: 0.4813 - val_output_2_loss: 0.0248\n",
            "Epoch 6/100\n",
            "57/57 [==============================] - 0s 6ms/step - loss: 0.2452 - output_1_loss: 0.4397 - output_2_loss: 0.0253 - val_loss: 0.2630 - val_output_1_loss: 0.4760 - val_output_2_loss: 0.0250\n",
            "Epoch 7/100\n",
            "57/57 [==============================] - 0s 7ms/step - loss: 0.2414 - output_1_loss: 0.4323 - output_2_loss: 0.0253 - val_loss: 0.2598 - val_output_1_loss: 0.4702 - val_output_2_loss: 0.0247\n",
            "Epoch 8/100\n",
            "57/57 [==============================] - 0s 6ms/step - loss: 0.2384 - output_1_loss: 0.4265 - output_2_loss: 0.0252 - val_loss: 0.2582 - val_output_1_loss: 0.4669 - val_output_2_loss: 0.0247\n",
            "Epoch 9/100\n",
            "57/57 [==============================] - 0s 6ms/step - loss: 0.2366 - output_1_loss: 0.4229 - output_2_loss: 0.0252 - val_loss: 0.2574 - val_output_1_loss: 0.4653 - val_output_2_loss: 0.0247\n",
            "Epoch 10/100\n",
            "57/57 [==============================] - 0s 6ms/step - loss: 0.2341 - output_1_loss: 0.4177 - output_2_loss: 0.0252 - val_loss: 0.2557 - val_output_1_loss: 0.4620 - val_output_2_loss: 0.0247\n",
            "Epoch 11/100\n",
            "57/57 [==============================] - 0s 7ms/step - loss: 0.2323 - output_1_loss: 0.4144 - output_2_loss: 0.0251 - val_loss: 0.2558 - val_output_1_loss: 0.4624 - val_output_2_loss: 0.0247\n",
            "Epoch 12/100\n",
            "57/57 [==============================] - 0s 7ms/step - loss: 0.2315 - output_1_loss: 0.4128 - output_2_loss: 0.0251 - val_loss: 0.2550 - val_output_1_loss: 0.4608 - val_output_2_loss: 0.0246\n",
            "Epoch 13/100\n",
            "57/57 [==============================] - 0s 6ms/step - loss: 0.2299 - output_1_loss: 0.4094 - output_2_loss: 0.0252 - val_loss: 0.2539 - val_output_1_loss: 0.4583 - val_output_2_loss: 0.0248\n",
            "Epoch 14/100\n",
            "57/57 [==============================] - 0s 6ms/step - loss: 0.2286 - output_1_loss: 0.4072 - output_2_loss: 0.0250 - val_loss: 0.2551 - val_output_1_loss: 0.4605 - val_output_2_loss: 0.0249\n",
            "Epoch 15/100\n",
            "57/57 [==============================] - 0s 6ms/step - loss: 0.2278 - output_1_loss: 0.4058 - output_2_loss: 0.0249 - val_loss: 0.2541 - val_output_1_loss: 0.4582 - val_output_2_loss: 0.0250\n",
            "Epoch 16/100\n",
            "57/57 [==============================] - 0s 6ms/step - loss: 0.2273 - output_1_loss: 0.4049 - output_2_loss: 0.0249 - val_loss: 0.2541 - val_output_1_loss: 0.4582 - val_output_2_loss: 0.0250\n",
            "Epoch 17/100\n",
            "57/57 [==============================] - 0s 6ms/step - loss: 0.2264 - output_1_loss: 0.4031 - output_2_loss: 0.0249 - val_loss: 0.2540 - val_output_1_loss: 0.4582 - val_output_2_loss: 0.0249\n",
            "Epoch 18/100\n",
            "57/57 [==============================] - 0s 7ms/step - loss: 0.2261 - output_1_loss: 0.4024 - output_2_loss: 0.0249 - val_loss: 0.2529 - val_output_1_loss: 0.4565 - val_output_2_loss: 0.0247\n",
            "Epoch 19/100\n",
            "57/57 [==============================] - 0s 7ms/step - loss: 0.2251 - output_1_loss: 0.4008 - output_2_loss: 0.0248 - val_loss: 0.2554 - val_output_1_loss: 0.4606 - val_output_2_loss: 0.0251\n",
            "Epoch 20/100\n",
            "57/57 [==============================] - 0s 6ms/step - loss: 0.2248 - output_1_loss: 0.4002 - output_2_loss: 0.0247 - val_loss: 0.2548 - val_output_1_loss: 0.4599 - val_output_2_loss: 0.0248\n",
            "Epoch 21/100\n",
            "57/57 [==============================] - 0s 6ms/step - loss: 0.2245 - output_1_loss: 0.3998 - output_2_loss: 0.0246 - val_loss: 0.2543 - val_output_1_loss: 0.4595 - val_output_2_loss: 0.0246\n",
            "Epoch 22/100\n",
            "57/57 [==============================] - 0s 7ms/step - loss: 0.2236 - output_1_loss: 0.3983 - output_2_loss: 0.0245 - val_loss: 0.2540 - val_output_1_loss: 0.4579 - val_output_2_loss: 0.0250\n",
            "Epoch 23/100\n",
            "57/57 [==============================] - 0s 6ms/step - loss: 0.2233 - output_1_loss: 0.3977 - output_2_loss: 0.0245 - val_loss: 0.2535 - val_output_1_loss: 0.4575 - val_output_2_loss: 0.0247\n",
            "Epoch 24/100\n",
            "57/57 [==============================] - 0s 6ms/step - loss: 0.2226 - output_1_loss: 0.3963 - output_2_loss: 0.0244 - val_loss: 0.2536 - val_output_1_loss: 0.4577 - val_output_2_loss: 0.0248\n",
            "Epoch 25/100\n",
            "57/57 [==============================] - 0s 6ms/step - loss: 0.2223 - output_1_loss: 0.3959 - output_2_loss: 0.0243 - val_loss: 0.2535 - val_output_1_loss: 0.4577 - val_output_2_loss: 0.0247\n",
            "Epoch 26/100\n",
            "57/57 [==============================] - 0s 6ms/step - loss: 0.2222 - output_1_loss: 0.3957 - output_2_loss: 0.0243 - val_loss: 0.2529 - val_output_1_loss: 0.4564 - val_output_2_loss: 0.0247\n",
            "Epoch 27/100\n",
            "57/57 [==============================] - 0s 7ms/step - loss: 0.2213 - output_1_loss: 0.3940 - output_2_loss: 0.0243 - val_loss: 0.2541 - val_output_1_loss: 0.4585 - val_output_2_loss: 0.0248\n",
            "Epoch 28/100\n",
            "57/57 [==============================] - 0s 7ms/step - loss: 0.2214 - output_1_loss: 0.3944 - output_2_loss: 0.0242 - val_loss: 0.2534 - val_output_1_loss: 0.4572 - val_output_2_loss: 0.0248\n",
            "Epoch 29/100\n",
            "57/57 [==============================] - 0s 6ms/step - loss: 0.2209 - output_1_loss: 0.3934 - output_2_loss: 0.0242 - val_loss: 0.2533 - val_output_1_loss: 0.4572 - val_output_2_loss: 0.0247\n",
            "Epoch 30/100\n",
            "57/57 [==============================] - 0s 6ms/step - loss: 0.2203 - output_1_loss: 0.3921 - output_2_loss: 0.0242 - val_loss: 0.2535 - val_output_1_loss: 0.4575 - val_output_2_loss: 0.0248\n",
            "Epoch 31/100\n",
            "57/57 [==============================] - 0s 6ms/step - loss: 0.2200 - output_1_loss: 0.3918 - output_2_loss: 0.0241 - val_loss: 0.2528 - val_output_1_loss: 0.4563 - val_output_2_loss: 0.0247\n",
            "Epoch 32/100\n",
            "57/57 [==============================] - 0s 6ms/step - loss: 0.2199 - output_1_loss: 0.3915 - output_2_loss: 0.0241 - val_loss: 0.2544 - val_output_1_loss: 0.4594 - val_output_2_loss: 0.0247\n",
            "Epoch 33/100\n",
            "57/57 [==============================] - 0s 7ms/step - loss: 0.2200 - output_1_loss: 0.3920 - output_2_loss: 0.0241 - val_loss: 0.2536 - val_output_1_loss: 0.4574 - val_output_2_loss: 0.0249\n",
            "Epoch 34/100\n",
            "57/57 [==============================] - 0s 7ms/step - loss: 0.2190 - output_1_loss: 0.3900 - output_2_loss: 0.0240 - val_loss: 0.2533 - val_output_1_loss: 0.4571 - val_output_2_loss: 0.0247\n",
            "Epoch 35/100\n",
            "57/57 [==============================] - 0s 6ms/step - loss: 0.2188 - output_1_loss: 0.3895 - output_2_loss: 0.0240 - val_loss: 0.2544 - val_output_1_loss: 0.4587 - val_output_2_loss: 0.0250\n",
            "Epoch 36/100\n",
            "57/57 [==============================] - 0s 7ms/step - loss: 0.2190 - output_1_loss: 0.3902 - output_2_loss: 0.0239 - val_loss: 0.2518 - val_output_1_loss: 0.4541 - val_output_2_loss: 0.0247\n",
            "Epoch 37/100\n",
            "57/57 [==============================] - 0s 7ms/step - loss: 0.2182 - output_1_loss: 0.3885 - output_2_loss: 0.0239 - val_loss: 0.2521 - val_output_1_loss: 0.4541 - val_output_2_loss: 0.0251\n",
            "Epoch 38/100\n",
            "57/57 [==============================] - 0s 7ms/step - loss: 0.2171 - output_1_loss: 0.3865 - output_2_loss: 0.0238 - val_loss: 0.2515 - val_output_1_loss: 0.4530 - val_output_2_loss: 0.0250\n",
            "Epoch 39/100\n",
            "57/57 [==============================] - 0s 7ms/step - loss: 0.2165 - output_1_loss: 0.3853 - output_2_loss: 0.0238 - val_loss: 0.2524 - val_output_1_loss: 0.4550 - val_output_2_loss: 0.0249\n",
            "Epoch 40/100\n",
            "57/57 [==============================] - 0s 6ms/step - loss: 0.2166 - output_1_loss: 0.3858 - output_2_loss: 0.0237 - val_loss: 0.2526 - val_output_1_loss: 0.4558 - val_output_2_loss: 0.0247\n",
            "Epoch 41/100\n",
            "57/57 [==============================] - 0s 6ms/step - loss: 0.2162 - output_1_loss: 0.3850 - output_2_loss: 0.0237 - val_loss: 0.2513 - val_output_1_loss: 0.4531 - val_output_2_loss: 0.0247\n",
            "Epoch 42/100\n",
            "57/57 [==============================] - 0s 7ms/step - loss: 0.2156 - output_1_loss: 0.3840 - output_2_loss: 0.0235 - val_loss: 0.2507 - val_output_1_loss: 0.4517 - val_output_2_loss: 0.0249\n",
            "Epoch 43/100\n",
            "57/57 [==============================] - 0s 7ms/step - loss: 0.2155 - output_1_loss: 0.3836 - output_2_loss: 0.0237 - val_loss: 0.2520 - val_output_1_loss: 0.4539 - val_output_2_loss: 0.0250\n",
            "Epoch 44/100\n",
            "57/57 [==============================] - 0s 7ms/step - loss: 0.2145 - output_1_loss: 0.3819 - output_2_loss: 0.0236 - val_loss: 0.2518 - val_output_1_loss: 0.4537 - val_output_2_loss: 0.0250\n",
            "Epoch 45/100\n",
            "57/57 [==============================] - 0s 6ms/step - loss: 0.2144 - output_1_loss: 0.3817 - output_2_loss: 0.0236 - val_loss: 0.2511 - val_output_1_loss: 0.4523 - val_output_2_loss: 0.0250\n",
            "Epoch 46/100\n",
            "57/57 [==============================] - 0s 6ms/step - loss: 0.2144 - output_1_loss: 0.3813 - output_2_loss: 0.0237 - val_loss: 0.2514 - val_output_1_loss: 0.4531 - val_output_2_loss: 0.0249\n",
            "Epoch 47/100\n",
            "57/57 [==============================] - 0s 6ms/step - loss: 0.2138 - output_1_loss: 0.3807 - output_2_loss: 0.0235 - val_loss: 0.2504 - val_output_1_loss: 0.4515 - val_output_2_loss: 0.0247\n",
            "Epoch 48/100\n",
            "57/57 [==============================] - 0s 7ms/step - loss: 0.2133 - output_1_loss: 0.3795 - output_2_loss: 0.0235 - val_loss: 0.2534 - val_output_1_loss: 0.4570 - val_output_2_loss: 0.0249\n",
            "Epoch 49/100\n",
            "57/57 [==============================] - 0s 7ms/step - loss: 0.2126 - output_1_loss: 0.3782 - output_2_loss: 0.0235 - val_loss: 0.2518 - val_output_1_loss: 0.4538 - val_output_2_loss: 0.0250\n",
            "Epoch 50/100\n",
            "57/57 [==============================] - 0s 6ms/step - loss: 0.2127 - output_1_loss: 0.3785 - output_2_loss: 0.0234 - val_loss: 0.2503 - val_output_1_loss: 0.4513 - val_output_2_loss: 0.0246\n",
            "Epoch 51/100\n",
            "57/57 [==============================] - 0s 7ms/step - loss: 0.2117 - output_1_loss: 0.3766 - output_2_loss: 0.0234 - val_loss: 0.2494 - val_output_1_loss: 0.4490 - val_output_2_loss: 0.0249\n",
            "Epoch 52/100\n",
            "57/57 [==============================] - 0s 6ms/step - loss: 0.2116 - output_1_loss: 0.3765 - output_2_loss: 0.0234 - val_loss: 0.2498 - val_output_1_loss: 0.4501 - val_output_2_loss: 0.0248\n",
            "Epoch 53/100\n",
            "57/57 [==============================] - 0s 6ms/step - loss: 0.2105 - output_1_loss: 0.3744 - output_2_loss: 0.0233 - val_loss: 0.2493 - val_output_1_loss: 0.4490 - val_output_2_loss: 0.0248\n",
            "Epoch 54/100\n",
            "57/57 [==============================] - 0s 6ms/step - loss: 0.2102 - output_1_loss: 0.3735 - output_2_loss: 0.0234 - val_loss: 0.2488 - val_output_1_loss: 0.4477 - val_output_2_loss: 0.0249\n",
            "Epoch 55/100\n",
            "57/57 [==============================] - 0s 6ms/step - loss: 0.2105 - output_1_loss: 0.3742 - output_2_loss: 0.0234 - val_loss: 0.2489 - val_output_1_loss: 0.4480 - val_output_2_loss: 0.0249\n",
            "Epoch 56/100\n",
            "57/57 [==============================] - 0s 6ms/step - loss: 0.2108 - output_1_loss: 0.3752 - output_2_loss: 0.0232 - val_loss: 0.2474 - val_output_1_loss: 0.4452 - val_output_2_loss: 0.0248\n",
            "Epoch 57/100\n",
            "57/57 [==============================] - 0s 6ms/step - loss: 0.2090 - output_1_loss: 0.3716 - output_2_loss: 0.0232 - val_loss: 0.2478 - val_output_1_loss: 0.4461 - val_output_2_loss: 0.0247\n",
            "Epoch 58/100\n",
            "57/57 [==============================] - 0s 6ms/step - loss: 0.2085 - output_1_loss: 0.3706 - output_2_loss: 0.0232 - val_loss: 0.2488 - val_output_1_loss: 0.4479 - val_output_2_loss: 0.0249\n",
            "Epoch 59/100\n",
            "57/57 [==============================] - 0s 6ms/step - loss: 0.2087 - output_1_loss: 0.3709 - output_2_loss: 0.0232 - val_loss: 0.2474 - val_output_1_loss: 0.4457 - val_output_2_loss: 0.0245\n",
            "Epoch 60/100\n",
            "57/57 [==============================] - 0s 7ms/step - loss: 0.2075 - output_1_loss: 0.3687 - output_2_loss: 0.0232 - val_loss: 0.2470 - val_output_1_loss: 0.4443 - val_output_2_loss: 0.0248\n",
            "Epoch 61/100\n",
            "57/57 [==============================] - 0s 6ms/step - loss: 0.2068 - output_1_loss: 0.3674 - output_2_loss: 0.0231 - val_loss: 0.2464 - val_output_1_loss: 0.4436 - val_output_2_loss: 0.0246\n",
            "Epoch 62/100\n",
            "57/57 [==============================] - 0s 6ms/step - loss: 0.2063 - output_1_loss: 0.3665 - output_2_loss: 0.0231 - val_loss: 0.2470 - val_output_1_loss: 0.4443 - val_output_2_loss: 0.0249\n",
            "Epoch 63/100\n",
            "57/57 [==============================] - 0s 7ms/step - loss: 0.2053 - output_1_loss: 0.3646 - output_2_loss: 0.0231 - val_loss: 0.2471 - val_output_1_loss: 0.4441 - val_output_2_loss: 0.0250\n",
            "Epoch 64/100\n",
            "57/57 [==============================] - 0s 6ms/step - loss: 0.2053 - output_1_loss: 0.3647 - output_2_loss: 0.0230 - val_loss: 0.2447 - val_output_1_loss: 0.4399 - val_output_2_loss: 0.0248\n",
            "Epoch 65/100\n",
            "57/57 [==============================] - 0s 6ms/step - loss: 0.2037 - output_1_loss: 0.3615 - output_2_loss: 0.0230 - val_loss: 0.2446 - val_output_1_loss: 0.4399 - val_output_2_loss: 0.0247\n",
            "Epoch 66/100\n",
            "57/57 [==============================] - 0s 6ms/step - loss: 0.2034 - output_1_loss: 0.3609 - output_2_loss: 0.0229 - val_loss: 0.2439 - val_output_1_loss: 0.4384 - val_output_2_loss: 0.0247\n",
            "Epoch 67/100\n",
            "57/57 [==============================] - 0s 7ms/step - loss: 0.2033 - output_1_loss: 0.3607 - output_2_loss: 0.0229 - val_loss: 0.2422 - val_output_1_loss: 0.4350 - val_output_2_loss: 0.0247\n",
            "Epoch 68/100\n",
            "57/57 [==============================] - 0s 7ms/step - loss: 0.2025 - output_1_loss: 0.3592 - output_2_loss: 0.0229 - val_loss: 0.2440 - val_output_1_loss: 0.4385 - val_output_2_loss: 0.0248\n",
            "Epoch 69/100\n",
            "57/57 [==============================] - 0s 6ms/step - loss: 0.2013 - output_1_loss: 0.3568 - output_2_loss: 0.0228 - val_loss: 0.2426 - val_output_1_loss: 0.4357 - val_output_2_loss: 0.0247\n",
            "Epoch 70/100\n",
            "57/57 [==============================] - 0s 6ms/step - loss: 0.2005 - output_1_loss: 0.3551 - output_2_loss: 0.0229 - val_loss: 0.2431 - val_output_1_loss: 0.4366 - val_output_2_loss: 0.0247\n",
            "Epoch 71/100\n",
            "57/57 [==============================] - 0s 7ms/step - loss: 0.2000 - output_1_loss: 0.3548 - output_2_loss: 0.0226 - val_loss: 0.2405 - val_output_1_loss: 0.4316 - val_output_2_loss: 0.0247\n",
            "Epoch 72/100\n",
            "57/57 [==============================] - 0s 6ms/step - loss: 0.1991 - output_1_loss: 0.3528 - output_2_loss: 0.0227 - val_loss: 0.2421 - val_output_1_loss: 0.4350 - val_output_2_loss: 0.0246\n",
            "Epoch 73/100\n",
            "57/57 [==============================] - 0s 6ms/step - loss: 0.1981 - output_1_loss: 0.3509 - output_2_loss: 0.0226 - val_loss: 0.2409 - val_output_1_loss: 0.4321 - val_output_2_loss: 0.0248\n",
            "Epoch 74/100\n",
            "57/57 [==============================] - 0s 7ms/step - loss: 0.1968 - output_1_loss: 0.3481 - output_2_loss: 0.0227 - val_loss: 0.2379 - val_output_1_loss: 0.4263 - val_output_2_loss: 0.0248\n",
            "Epoch 75/100\n",
            "57/57 [==============================] - 0s 7ms/step - loss: 0.1964 - output_1_loss: 0.3475 - output_2_loss: 0.0226 - val_loss: 0.2385 - val_output_1_loss: 0.4279 - val_output_2_loss: 0.0246\n",
            "Epoch 76/100\n",
            "57/57 [==============================] - 0s 7ms/step - loss: 0.1948 - output_1_loss: 0.3444 - output_2_loss: 0.0226 - val_loss: 0.2357 - val_output_1_loss: 0.4225 - val_output_2_loss: 0.0245\n",
            "Epoch 77/100\n",
            "57/57 [==============================] - 0s 7ms/step - loss: 0.1934 - output_1_loss: 0.3416 - output_2_loss: 0.0226 - val_loss: 0.2352 - val_output_1_loss: 0.4206 - val_output_2_loss: 0.0249\n",
            "Epoch 78/100\n",
            "57/57 [==============================] - 0s 7ms/step - loss: 0.1940 - output_1_loss: 0.3431 - output_2_loss: 0.0225 - val_loss: 0.2364 - val_output_1_loss: 0.4234 - val_output_2_loss: 0.0247\n",
            "Epoch 79/100\n",
            "57/57 [==============================] - 0s 7ms/step - loss: 0.1932 - output_1_loss: 0.3416 - output_2_loss: 0.0224 - val_loss: 0.2337 - val_output_1_loss: 0.4176 - val_output_2_loss: 0.0249\n",
            "Epoch 80/100\n",
            "57/57 [==============================] - 0s 6ms/step - loss: 0.1914 - output_1_loss: 0.3379 - output_2_loss: 0.0224 - val_loss: 0.2312 - val_output_1_loss: 0.4133 - val_output_2_loss: 0.0246\n",
            "Epoch 81/100\n",
            "57/57 [==============================] - 0s 7ms/step - loss: 0.1900 - output_1_loss: 0.3353 - output_2_loss: 0.0224 - val_loss: 0.2335 - val_output_1_loss: 0.4178 - val_output_2_loss: 0.0246\n",
            "Epoch 82/100\n",
            "57/57 [==============================] - 0s 7ms/step - loss: 0.1885 - output_1_loss: 0.3323 - output_2_loss: 0.0224 - val_loss: 0.2350 - val_output_1_loss: 0.4209 - val_output_2_loss: 0.0246\n",
            "Epoch 83/100\n",
            "57/57 [==============================] - 0s 6ms/step - loss: 0.1882 - output_1_loss: 0.3316 - output_2_loss: 0.0223 - val_loss: 0.2319 - val_output_1_loss: 0.4145 - val_output_2_loss: 0.0246\n",
            "Epoch 84/100\n",
            "57/57 [==============================] - 0s 7ms/step - loss: 0.1870 - output_1_loss: 0.3295 - output_2_loss: 0.0222 - val_loss: 0.2293 - val_output_1_loss: 0.4094 - val_output_2_loss: 0.0246\n",
            "Epoch 85/100\n",
            "57/57 [==============================] - 0s 6ms/step - loss: 0.1853 - output_1_loss: 0.3261 - output_2_loss: 0.0222 - val_loss: 0.2279 - val_output_1_loss: 0.4068 - val_output_2_loss: 0.0245\n",
            "Epoch 86/100\n",
            "57/57 [==============================] - 0s 7ms/step - loss: 0.1846 - output_1_loss: 0.3248 - output_2_loss: 0.0222 - val_loss: 0.2351 - val_output_1_loss: 0.4214 - val_output_2_loss: 0.0244\n",
            "Epoch 87/100\n",
            "57/57 [==============================] - 0s 6ms/step - loss: 0.1855 - output_1_loss: 0.3269 - output_2_loss: 0.0221 - val_loss: 0.2258 - val_output_1_loss: 0.4026 - val_output_2_loss: 0.0246\n",
            "Epoch 88/100\n",
            "57/57 [==============================] - 0s 6ms/step - loss: 0.1834 - output_1_loss: 0.3224 - output_2_loss: 0.0222 - val_loss: 0.2242 - val_output_1_loss: 0.3996 - val_output_2_loss: 0.0244\n",
            "Epoch 89/100\n",
            "57/57 [==============================] - 0s 6ms/step - loss: 0.1819 - output_1_loss: 0.3194 - output_2_loss: 0.0222 - val_loss: 0.2266 - val_output_1_loss: 0.4043 - val_output_2_loss: 0.0245\n",
            "Epoch 90/100\n",
            "57/57 [==============================] - 0s 7ms/step - loss: 0.1816 - output_1_loss: 0.3190 - output_2_loss: 0.0221 - val_loss: 0.2228 - val_output_1_loss: 0.3972 - val_output_2_loss: 0.0242\n",
            "Epoch 91/100\n",
            "57/57 [==============================] - 0s 6ms/step - loss: 0.1803 - output_1_loss: 0.3166 - output_2_loss: 0.0220 - val_loss: 0.2241 - val_output_1_loss: 0.3998 - val_output_2_loss: 0.0242\n",
            "Epoch 92/100\n",
            "57/57 [==============================] - 0s 6ms/step - loss: 0.1784 - output_1_loss: 0.3130 - output_2_loss: 0.0219 - val_loss: 0.2231 - val_output_1_loss: 0.3977 - val_output_2_loss: 0.0242\n",
            "Epoch 93/100\n",
            "57/57 [==============================] - 0s 6ms/step - loss: 0.1785 - output_1_loss: 0.3131 - output_2_loss: 0.0219 - val_loss: 0.2195 - val_output_1_loss: 0.3904 - val_output_2_loss: 0.0243\n",
            "Epoch 94/100\n",
            "57/57 [==============================] - 0s 6ms/step - loss: 0.1764 - output_1_loss: 0.3091 - output_2_loss: 0.0218 - val_loss: 0.2184 - val_output_1_loss: 0.3881 - val_output_2_loss: 0.0244\n",
            "Epoch 95/100\n",
            "57/57 [==============================] - 0s 7ms/step - loss: 0.1755 - output_1_loss: 0.3075 - output_2_loss: 0.0218 - val_loss: 0.2222 - val_output_1_loss: 0.3959 - val_output_2_loss: 0.0243\n",
            "Epoch 96/100\n",
            "57/57 [==============================] - 0s 6ms/step - loss: 0.1750 - output_1_loss: 0.3064 - output_2_loss: 0.0218 - val_loss: 0.2189 - val_output_1_loss: 0.3892 - val_output_2_loss: 0.0243\n",
            "Epoch 97/100\n",
            "57/57 [==============================] - 0s 6ms/step - loss: 0.1739 - output_1_loss: 0.3044 - output_2_loss: 0.0217 - val_loss: 0.2197 - val_output_1_loss: 0.3907 - val_output_2_loss: 0.0243\n",
            "Epoch 98/100\n",
            "57/57 [==============================] - 0s 7ms/step - loss: 0.1722 - output_1_loss: 0.3010 - output_2_loss: 0.0217 - val_loss: 0.2176 - val_output_1_loss: 0.3866 - val_output_2_loss: 0.0243\n",
            "Epoch 99/100\n",
            "57/57 [==============================] - 0s 6ms/step - loss: 0.1717 - output_1_loss: 0.3001 - output_2_loss: 0.0216 - val_loss: 0.2198 - val_output_1_loss: 0.3913 - val_output_2_loss: 0.0242\n",
            "Epoch 100/100\n",
            "57/57 [==============================] - 0s 6ms/step - loss: 0.1712 - output_1_loss: 0.2993 - output_2_loss: 0.0215 - val_loss: 0.2175 - val_output_1_loss: 0.3862 - val_output_2_loss: 0.0244\n"
          ]
        }
      ]
    },
    {
      "cell_type": "code",
      "source": [
        "def show_multi_loss():\n",
        "    loss_1 = np.array(progress.history['output_1_loss'])\n",
        "    val_loss_1 = np.array(progress.history['val_output_1_loss'])\n",
        "\n",
        "    loss_2 = np.array(progress.history['output_2_loss'])\n",
        "    val_loss_2 = np.array(progress.history['val_output_2_loss'])\n",
        "                                \n",
        "    plt.figure(figsize=(20,5))    \n",
        "    plt.plot(loss_1, 'r-')\n",
        "    plt.plot(val_loss_1, 'g-')\n",
        "    plt.ylabel(\"output_1\")\n",
        "\n",
        "    ax = plt.gca().twinx()    \n",
        "    ax.plot(loss_2, 'r--')\n",
        "    ax.plot(val_loss_2, 'g--')\n",
        "    ax.set_ylabel(\"output_2\")\n",
        "    \n",
        "    plt.show()"
      ],
      "metadata": {
        "id": "KJCS5K-1C42O"
      },
      "execution_count": 66,
      "outputs": []
    },
    {
      "cell_type": "code",
      "metadata": {
        "colab": {
          "base_uri": "https://localhost:8080/",
          "height": 320
        },
        "id": "U_UKQ0Pj6MJU",
        "outputId": "dc8615f3-1730-4ac6-b76b-3794bc5dc6a0"
      },
      "source": [
        "show_multi_loss()"
      ],
      "execution_count": 67,
      "outputs": [
        {
          "output_type": "display_data",
          "data": {
            "text/plain": [
              "<Figure size 1440x360 with 2 Axes>"
            ],
            "image/png": "[encoded data removed]"
          },
          "metadata": {
            "needs_background": "light"
          }
        }
      ]
    },
    {
      "cell_type": "code",
      "metadata": {
        "colab": {
          "base_uri": "https://localhost:8080/",
          "height": 374
        },
        "id": "To1Kvc2YBIyN",
        "outputId": "264b9229-e55d-478e-c520-cf02886c1ce7"
      },
      "source": [
        "show_prediction(date(2017, 1, 21))"
      ],
      "execution_count": 68,
      "outputs": [
        {
          "output_type": "display_data",
          "data": {
            "text/plain": [
              "<Figure size 864x432 with 2 Axes>"
            ],
            "image/png": "[encoded data removed]"
          },
          "metadata": {
            "needs_background": "light"
          }
        }
      ]
    },
    {
      "cell_type": "code",
      "metadata": {
        "colab": {
          "base_uri": "https://localhost:8080/",
          "height": 68,
          "referenced_widgets": [
            "83eaf5aede9743539be11e468d20e1b5",
            "f706e962ef7d42279213beb40466ffbd",
            "5e54778dfb0b479483912a5bd28c6964",
            "d33c1d323e7e47e8b3746462cdb9c6fc",
            "c62f1047c92e4f36bc868aa2d09a20e4",
            "ed912755f91a4495be7aaaff70fef739",
            "1da758c898ce4ccf9f4d57e7e44a4949",
            "aac3786df8264cbe9a570f87211bca8b",
            "8d55484169a74fefbe780e799d325346",
            "783626addc3447edbd81d3d95a329e5a",
            "c13b6d706e5a478fada6c51d6fc5fca6"
          ]
        },
        "id": "Iti5qQGHBara",
        "outputId": "76eb3dda-9f02-4000-fec1-50573d39f3a7"
      },
      "source": [
        "evaluate_all()"
      ],
      "execution_count": 69,
      "outputs": [
        {
          "output_type": "display_data",
          "data": {
            "text/plain": [
              "  0%|          | 0/50 [00:00<?, ?it/s]"
            ],
            "application/vnd.jupyter.widget-view+json": {
              "version_major": 2,
              "version_minor": 0,
              "model_id": "83eaf5aede9743539be11e468d20e1b5"
            }
          },
          "metadata": {}
        },
        {
          "output_type": "execute_result",
          "data": {
            "text/plain": [
              "(499.761427873879, 696.5734687200606)"
            ]
          },
          "metadata": {},
          "execution_count": 69
        }
      ]
    },
    {
      "cell_type": "markdown",
      "metadata": {
        "id": "g3grFn2KB74w"
      },
      "source": [
        "## Encoder-Decoder example\n",
        "\n",
        "Finally, let's see if we can make a better model for long-term prediction than the previous self-feeded +1 day. We are going to use the seq2seq model usually seen in machine-translation tasks (see https://keras.io/examples/lstm_seq2seq/)"
      ]
    },
    {
      "cell_type": "code",
      "metadata": {
        "colab": {
          "base_uri": "https://localhost:8080/"
        },
        "id": "43A9w8FjB-0b",
        "outputId": "6c08280e-bcb0-422c-f8f6-e9e4d79c0539"
      },
      "source": [
        "inputs = Input(shape=ts_inputs.shape[1:])\n",
        "_, states_h, states_c = LSTM(64, return_state=True)(inputs)\n",
        "encoder_states = [states_h, states_c]\n",
        "\n",
        "x = LSTM(64, return_sequences=True)(inputs, initial_state=encoder_states)\n",
        "outputs_1 = Dense(3, activation='linear', name=\"output_1\")(x)\n",
        "outputs_2 = Dense(1, activation='relu', name=\"output_2\")(x)\n",
        "\n",
        "model = Model(inputs, [outputs_1, outputs_2])\n",
        "model.compile(optimizer='adam', loss=['mse', 'mse'], loss_weights=[0.5, 1.0])\n",
        "model.summary()"
      ],
      "execution_count": 86,
      "outputs": [
        {
          "output_type": "stream",
          "name": "stdout",
          "text": [
            "Model: \"model_9\"\n",
            "__________________________________________________________________________________________________\n",
            " Layer (type)                   Output Shape         Param #     Connected to                     \n",
            "==================================================================================================\n",
            " input_10 (InputLayer)          [(None, 14, 6)]      0           []                               \n",
            "                                                                                                  \n",
            " lstm_4 (LSTM)                  [(None, 64),         18176       ['input_10[0][0]']               \n",
            "                                 (None, 64),                                                      \n",
            "                                 (None, 64)]                                                      \n",
            "                                                                                                  \n",
            " lstm_5 (LSTM)                  (None, 14, 64)       18176       ['input_10[0][0]',               \n",
            "                                                                  'lstm_4[0][1]',                 \n",
            "                                                                  'lstm_4[0][2]']                 \n",
            "                                                                                                  \n",
            " output_1 (Dense)               (None, 14, 3)        195         ['lstm_5[0][0]']                 \n",
            "                                                                                                  \n",
            " output_2 (Dense)               (None, 14, 1)        65          ['lstm_5[0][0]']                 \n",
            "                                                                                                  \n",
            "==================================================================================================\n",
            "Total params: 36,612\n",
            "Trainable params: 36,612\n",
            "Non-trainable params: 0\n",
            "__________________________________________________________________________________________________\n"
          ]
        }
      ]
    },
    {
      "cell_type": "code",
      "metadata": {
        "colab": {
          "base_uri": "https://localhost:8080/"
        },
        "id": "CysDck10CZ2o",
        "outputId": "f74037a7-744e-4a34-d219-a2d4b1191c59"
      },
      "source": [
        "indices = random.sample(range(0,len(training_df) - 2 * HISTORY_LEN), NUM_SAMPLES)\n",
        "random.shuffle(indices)\n",
        "\n",
        "ts_inputs = np.array([ts_data[i:i + HISTORY_LEN] for i in indices])\n",
        "ts_outputs_1 = np.array([ts_data[i + HISTORY_LEN: i + 2 * HISTORY_LEN, 0:3] for i in indices])\n",
        "ts_outputs_2 = np.array([ts_data[i + HISTORY_LEN: i + 2 * HISTORY_LEN, 3:4] for i in indices])\n",
        "\n",
        "print(ts_inputs.shape)\n",
        "print(ts_outputs_1.shape)\n",
        "print(ts_outputs_2.shape)"
      ],
      "execution_count": 87,
      "outputs": [
        {
          "output_type": "stream",
          "name": "stdout",
          "text": [
            "(2000, 14, 6)\n",
            "(2000, 14, 3)\n",
            "(2000, 14, 1)\n"
          ]
        }
      ]
    },
    {
      "cell_type": "code",
      "metadata": {
        "colab": {
          "base_uri": "https://localhost:8080/"
        },
        "id": "WNbCmtoWCz0M",
        "outputId": "cf4cbf9f-e402-4ac0-e3ae-73221d9139d8"
      },
      "source": [
        "progress = model.fit(ts_inputs, [ts_outputs_1, ts_outputs_2], validation_split=0.1, epochs=100)"
      ],
      "execution_count": 93,
      "outputs": [
        {
          "output_type": "stream",
          "name": "stdout",
          "text": [
            "Epoch 1/100\n",
            "57/57 [==============================] - 0s 8ms/step - loss: 0.1498 - output_1_loss: 0.1476 - output_2_loss: 0.0220 - val_loss: 0.3627 - val_output_1_loss: 0.3605 - val_output_2_loss: 0.0224\n",
            "Epoch 2/100\n",
            "57/57 [==============================] - 0s 7ms/step - loss: 0.1474 - output_1_loss: 0.1451 - output_2_loss: 0.0220 - val_loss: 0.3618 - val_output_1_loss: 0.3596 - val_output_2_loss: 0.0225\n",
            "Epoch 3/100\n",
            "57/57 [==============================] - 0s 8ms/step - loss: 0.1451 - output_1_loss: 0.1429 - output_2_loss: 0.0221 - val_loss: 0.3613 - val_output_1_loss: 0.3591 - val_output_2_loss: 0.0222\n",
            "Epoch 4/100\n",
            "57/57 [==============================] - 0s 8ms/step - loss: 0.1436 - output_1_loss: 0.1414 - output_2_loss: 0.0219 - val_loss: 0.3598 - val_output_1_loss: 0.3576 - val_output_2_loss: 0.0224\n",
            "Epoch 5/100\n",
            "57/57 [==============================] - 0s 7ms/step - loss: 0.1442 - output_1_loss: 0.1420 - output_2_loss: 0.0220 - val_loss: 0.3636 - val_output_1_loss: 0.3614 - val_output_2_loss: 0.0224\n",
            "Epoch 6/100\n",
            "57/57 [==============================] - 0s 8ms/step - loss: 0.1432 - output_1_loss: 0.1410 - output_2_loss: 0.0220 - val_loss: 0.3680 - val_output_1_loss: 0.3658 - val_output_2_loss: 0.0222\n",
            "Epoch 7/100\n",
            "57/57 [==============================] - 0s 8ms/step - loss: 0.1435 - output_1_loss: 0.1413 - output_2_loss: 0.0220 - val_loss: 0.3641 - val_output_1_loss: 0.3619 - val_output_2_loss: 0.0224\n",
            "Epoch 8/100\n",
            "57/57 [==============================] - 0s 8ms/step - loss: 0.1420 - output_1_loss: 0.1398 - output_2_loss: 0.0219 - val_loss: 0.3695 - val_output_1_loss: 0.3673 - val_output_2_loss: 0.0221\n",
            "Epoch 9/100\n",
            "57/57 [==============================] - 0s 7ms/step - loss: 0.1434 - output_1_loss: 0.1412 - output_2_loss: 0.0219 - val_loss: 0.3730 - val_output_1_loss: 0.3707 - val_output_2_loss: 0.0225\n",
            "Epoch 10/100\n",
            "57/57 [==============================] - 0s 7ms/step - loss: 0.1418 - output_1_loss: 0.1396 - output_2_loss: 0.0219 - val_loss: 0.3704 - val_output_1_loss: 0.3681 - val_output_2_loss: 0.0224\n",
            "Epoch 11/100\n",
            "57/57 [==============================] - 0s 7ms/step - loss: 0.1438 - output_1_loss: 0.1416 - output_2_loss: 0.0219 - val_loss: 0.3609 - val_output_1_loss: 0.3587 - val_output_2_loss: 0.0219\n",
            "Epoch 12/100\n",
            "57/57 [==============================] - 0s 7ms/step - loss: 0.1459 - output_1_loss: 0.1437 - output_2_loss: 0.0218 - val_loss: 0.3608 - val_output_1_loss: 0.3586 - val_output_2_loss: 0.0225\n",
            "Epoch 13/100\n",
            "57/57 [==============================] - 0s 8ms/step - loss: 0.1417 - output_1_loss: 0.1395 - output_2_loss: 0.0220 - val_loss: 0.3636 - val_output_1_loss: 0.3614 - val_output_2_loss: 0.0220\n",
            "Epoch 14/100\n",
            "57/57 [==============================] - 0s 7ms/step - loss: 0.1415 - output_1_loss: 0.1393 - output_2_loss: 0.0219 - val_loss: 0.3656 - val_output_1_loss: 0.3633 - val_output_2_loss: 0.0224\n",
            "Epoch 15/100\n",
            "57/57 [==============================] - 0s 7ms/step - loss: 0.1370 - output_1_loss: 0.1348 - output_2_loss: 0.0219 - val_loss: 0.3540 - val_output_1_loss: 0.3517 - val_output_2_loss: 0.0222\n",
            "Epoch 16/100\n",
            "57/57 [==============================] - 0s 7ms/step - loss: 0.1341 - output_1_loss: 0.1319 - output_2_loss: 0.0220 - val_loss: 0.3683 - val_output_1_loss: 0.3661 - val_output_2_loss: 0.0222\n",
            "Epoch 17/100\n",
            "57/57 [==============================] - 0s 7ms/step - loss: 0.1333 - output_1_loss: 0.1311 - output_2_loss: 0.0219 - val_loss: 0.3499 - val_output_1_loss: 0.3476 - val_output_2_loss: 0.0222\n",
            "Epoch 18/100\n",
            "57/57 [==============================] - 0s 8ms/step - loss: 0.1348 - output_1_loss: 0.1326 - output_2_loss: 0.0219 - val_loss: 0.3610 - val_output_1_loss: 0.3588 - val_output_2_loss: 0.0221\n",
            "Epoch 19/100\n",
            "57/57 [==============================] - 0s 7ms/step - loss: 0.1336 - output_1_loss: 0.1314 - output_2_loss: 0.0219 - val_loss: 0.3561 - val_output_1_loss: 0.3539 - val_output_2_loss: 0.0222\n",
            "Epoch 20/100\n",
            "57/57 [==============================] - 0s 7ms/step - loss: 0.1307 - output_1_loss: 0.1285 - output_2_loss: 0.0219 - val_loss: 0.3664 - val_output_1_loss: 0.3642 - val_output_2_loss: 0.0222\n",
            "Epoch 21/100\n",
            "57/57 [==============================] - 0s 8ms/step - loss: 0.1298 - output_1_loss: 0.1276 - output_2_loss: 0.0218 - val_loss: 0.3650 - val_output_1_loss: 0.3627 - val_output_2_loss: 0.0225\n",
            "Epoch 22/100\n",
            "57/57 [==============================] - 0s 7ms/step - loss: 0.1276 - output_1_loss: 0.1255 - output_2_loss: 0.0218 - val_loss: 0.3553 - val_output_1_loss: 0.3531 - val_output_2_loss: 0.0223\n",
            "Epoch 23/100\n",
            "57/57 [==============================] - 0s 8ms/step - loss: 0.1265 - output_1_loss: 0.1243 - output_2_loss: 0.0218 - val_loss: 0.3634 - val_output_1_loss: 0.3612 - val_output_2_loss: 0.0223\n",
            "Epoch 24/100\n",
            "57/57 [==============================] - 0s 7ms/step - loss: 0.1281 - output_1_loss: 0.1260 - output_2_loss: 0.0218 - val_loss: 0.3648 - val_output_1_loss: 0.3626 - val_output_2_loss: 0.0224\n",
            "Epoch 25/100\n",
            "57/57 [==============================] - 0s 7ms/step - loss: 0.1296 - output_1_loss: 0.1274 - output_2_loss: 0.0218 - val_loss: 0.3667 - val_output_1_loss: 0.3645 - val_output_2_loss: 0.0224\n",
            "Epoch 26/100\n",
            "57/57 [==============================] - 0s 8ms/step - loss: 0.1263 - output_1_loss: 0.1241 - output_2_loss: 0.0217 - val_loss: 0.3591 - val_output_1_loss: 0.3568 - val_output_2_loss: 0.0224\n",
            "Epoch 27/100\n",
            "57/57 [==============================] - 0s 7ms/step - loss: 0.1245 - output_1_loss: 0.1223 - output_2_loss: 0.0218 - val_loss: 0.3591 - val_output_1_loss: 0.3569 - val_output_2_loss: 0.0224\n",
            "Epoch 28/100\n",
            "57/57 [==============================] - 0s 8ms/step - loss: 0.1240 - output_1_loss: 0.1218 - output_2_loss: 0.0218 - val_loss: 0.3643 - val_output_1_loss: 0.3621 - val_output_2_loss: 0.0222\n",
            "Epoch 29/100\n",
            "57/57 [==============================] - 0s 8ms/step - loss: 0.1226 - output_1_loss: 0.1205 - output_2_loss: 0.0217 - val_loss: 0.3633 - val_output_1_loss: 0.3610 - val_output_2_loss: 0.0223\n",
            "Epoch 30/100\n",
            "57/57 [==============================] - 0s 7ms/step - loss: 0.1308 - output_1_loss: 0.1287 - output_2_loss: 0.0217 - val_loss: 0.3598 - val_output_1_loss: 0.3576 - val_output_2_loss: 0.0221\n",
            "Epoch 31/100\n",
            "57/57 [==============================] - 0s 7ms/step - loss: 0.1289 - output_1_loss: 0.1268 - output_2_loss: 0.0216 - val_loss: 0.3640 - val_output_1_loss: 0.3618 - val_output_2_loss: 0.0223\n",
            "Epoch 32/100\n",
            "57/57 [==============================] - 0s 8ms/step - loss: 0.1286 - output_1_loss: 0.1264 - output_2_loss: 0.0217 - val_loss: 0.3635 - val_output_1_loss: 0.3612 - val_output_2_loss: 0.0227\n",
            "Epoch 33/100\n",
            "57/57 [==============================] - 0s 7ms/step - loss: 0.1234 - output_1_loss: 0.1212 - output_2_loss: 0.0217 - val_loss: 0.3634 - val_output_1_loss: 0.3612 - val_output_2_loss: 0.0220\n",
            "Epoch 34/100\n",
            "57/57 [==============================] - 0s 7ms/step - loss: 0.1187 - output_1_loss: 0.1166 - output_2_loss: 0.0217 - val_loss: 0.3570 - val_output_1_loss: 0.3547 - val_output_2_loss: 0.0227\n",
            "Epoch 35/100\n",
            "57/57 [==============================] - 0s 7ms/step - loss: 0.1198 - output_1_loss: 0.1177 - output_2_loss: 0.0218 - val_loss: 0.3634 - val_output_1_loss: 0.3612 - val_output_2_loss: 0.0224\n",
            "Epoch 36/100\n",
            "57/57 [==============================] - 0s 7ms/step - loss: 0.1200 - output_1_loss: 0.1178 - output_2_loss: 0.0218 - val_loss: 0.3682 - val_output_1_loss: 0.3660 - val_output_2_loss: 0.0225\n",
            "Epoch 37/100\n",
            "57/57 [==============================] - 0s 7ms/step - loss: 0.1192 - output_1_loss: 0.1170 - output_2_loss: 0.0216 - val_loss: 0.3650 - val_output_1_loss: 0.3627 - val_output_2_loss: 0.0226\n",
            "Epoch 38/100\n",
            "57/57 [==============================] - 0s 7ms/step - loss: 0.1194 - output_1_loss: 0.1172 - output_2_loss: 0.0216 - val_loss: 0.3667 - val_output_1_loss: 0.3644 - val_output_2_loss: 0.0225\n",
            "Epoch 39/100\n",
            "57/57 [==============================] - 0s 7ms/step - loss: 0.1184 - output_1_loss: 0.1162 - output_2_loss: 0.0218 - val_loss: 0.3690 - val_output_1_loss: 0.3668 - val_output_2_loss: 0.0225\n",
            "Epoch 40/100\n",
            "57/57 [==============================] - 0s 7ms/step - loss: 0.1183 - output_1_loss: 0.1161 - output_2_loss: 0.0217 - val_loss: 0.3679 - val_output_1_loss: 0.3656 - val_output_2_loss: 0.0223\n",
            "Epoch 41/100\n",
            "57/57 [==============================] - 0s 8ms/step - loss: 0.1154 - output_1_loss: 0.1132 - output_2_loss: 0.0217 - val_loss: 0.3634 - val_output_1_loss: 0.3611 - val_output_2_loss: 0.0228\n",
            "Epoch 42/100\n",
            "57/57 [==============================] - 0s 7ms/step - loss: 0.1147 - output_1_loss: 0.1125 - output_2_loss: 0.0217 - val_loss: 0.3743 - val_output_1_loss: 0.3721 - val_output_2_loss: 0.0223\n",
            "Epoch 43/100\n",
            "57/57 [==============================] - 0s 8ms/step - loss: 0.1139 - output_1_loss: 0.1118 - output_2_loss: 0.0215 - val_loss: 0.3738 - val_output_1_loss: 0.3716 - val_output_2_loss: 0.0224\n",
            "Epoch 44/100\n",
            "57/57 [==============================] - 0s 7ms/step - loss: 0.1125 - output_1_loss: 0.1104 - output_2_loss: 0.0215 - val_loss: 0.3714 - val_output_1_loss: 0.3691 - val_output_2_loss: 0.0227\n",
            "Epoch 45/100\n",
            "57/57 [==============================] - 0s 7ms/step - loss: 0.1113 - output_1_loss: 0.1091 - output_2_loss: 0.0216 - val_loss: 0.3745 - val_output_1_loss: 0.3723 - val_output_2_loss: 0.0226\n",
            "Epoch 46/100\n",
            "57/57 [==============================] - 0s 7ms/step - loss: 0.1097 - output_1_loss: 0.1076 - output_2_loss: 0.0215 - val_loss: 0.3697 - val_output_1_loss: 0.3675 - val_output_2_loss: 0.0228\n",
            "Epoch 47/100\n",
            "57/57 [==============================] - 0s 7ms/step - loss: 0.1096 - output_1_loss: 0.1074 - output_2_loss: 0.0217 - val_loss: 0.3598 - val_output_1_loss: 0.3575 - val_output_2_loss: 0.0227\n",
            "Epoch 48/100\n",
            "57/57 [==============================] - 0s 8ms/step - loss: 0.1124 - output_1_loss: 0.1102 - output_2_loss: 0.0215 - val_loss: 0.3699 - val_output_1_loss: 0.3677 - val_output_2_loss: 0.0225\n",
            "Epoch 49/100\n",
            "57/57 [==============================] - 0s 7ms/step - loss: 0.1111 - output_1_loss: 0.1090 - output_2_loss: 0.0217 - val_loss: 0.3639 - val_output_1_loss: 0.3616 - val_output_2_loss: 0.0224\n",
            "Epoch 50/100\n",
            "57/57 [==============================] - 0s 8ms/step - loss: 0.1126 - output_1_loss: 0.1105 - output_2_loss: 0.0216 - val_loss: 0.3736 - val_output_1_loss: 0.3713 - val_output_2_loss: 0.0230\n",
            "Epoch 51/100\n",
            "57/57 [==============================] - 0s 7ms/step - loss: 0.1109 - output_1_loss: 0.1087 - output_2_loss: 0.0216 - val_loss: 0.3602 - val_output_1_loss: 0.3579 - val_output_2_loss: 0.0224\n",
            "Epoch 52/100\n",
            "57/57 [==============================] - 0s 7ms/step - loss: 0.1081 - output_1_loss: 0.1059 - output_2_loss: 0.0215 - val_loss: 0.3722 - val_output_1_loss: 0.3699 - val_output_2_loss: 0.0229\n",
            "Epoch 53/100\n",
            "57/57 [==============================] - 0s 7ms/step - loss: 0.1113 - output_1_loss: 0.1091 - output_2_loss: 0.0218 - val_loss: 0.3733 - val_output_1_loss: 0.3710 - val_output_2_loss: 0.0227\n",
            "Epoch 54/100\n",
            "57/57 [==============================] - 0s 7ms/step - loss: 0.1083 - output_1_loss: 0.1061 - output_2_loss: 0.0216 - val_loss: 0.3695 - val_output_1_loss: 0.3672 - val_output_2_loss: 0.0226\n",
            "Epoch 55/100\n",
            "57/57 [==============================] - 0s 8ms/step - loss: 0.1054 - output_1_loss: 0.1033 - output_2_loss: 0.0214 - val_loss: 0.3685 - val_output_1_loss: 0.3663 - val_output_2_loss: 0.0226\n",
            "Epoch 56/100\n",
            "57/57 [==============================] - 0s 7ms/step - loss: 0.1061 - output_1_loss: 0.1040 - output_2_loss: 0.0215 - val_loss: 0.3654 - val_output_1_loss: 0.3631 - val_output_2_loss: 0.0226\n",
            "Epoch 57/100\n",
            "57/57 [==============================] - 0s 7ms/step - loss: 0.1060 - output_1_loss: 0.1038 - output_2_loss: 0.0213 - val_loss: 0.3719 - val_output_1_loss: 0.3696 - val_output_2_loss: 0.0227\n",
            "Epoch 58/100\n",
            "57/57 [==============================] - 0s 7ms/step - loss: 0.1042 - output_1_loss: 0.1021 - output_2_loss: 0.0214 - val_loss: 0.3742 - val_output_1_loss: 0.3719 - val_output_2_loss: 0.0228\n",
            "Epoch 59/100\n",
            "57/57 [==============================] - 0s 9ms/step - loss: 0.1042 - output_1_loss: 0.1020 - output_2_loss: 0.0215 - val_loss: 0.3683 - val_output_1_loss: 0.3660 - val_output_2_loss: 0.0229\n",
            "Epoch 60/100\n",
            "57/57 [==============================] - 0s 8ms/step - loss: 0.1033 - output_1_loss: 0.1012 - output_2_loss: 0.0214 - val_loss: 0.3692 - val_output_1_loss: 0.3670 - val_output_2_loss: 0.0227\n",
            "Epoch 61/100\n",
            "57/57 [==============================] - 0s 8ms/step - loss: 0.1019 - output_1_loss: 0.0997 - output_2_loss: 0.0214 - val_loss: 0.3716 - val_output_1_loss: 0.3693 - val_output_2_loss: 0.0227\n",
            "Epoch 62/100\n",
            "57/57 [==============================] - 0s 8ms/step - loss: 0.1027 - output_1_loss: 0.1006 - output_2_loss: 0.0215 - val_loss: 0.3762 - val_output_1_loss: 0.3740 - val_output_2_loss: 0.0228\n",
            "Epoch 63/100\n",
            "57/57 [==============================] - 0s 7ms/step - loss: 0.1019 - output_1_loss: 0.0997 - output_2_loss: 0.0216 - val_loss: 0.3724 - val_output_1_loss: 0.3701 - val_output_2_loss: 0.0229\n",
            "Epoch 64/100\n",
            "57/57 [==============================] - 0s 7ms/step - loss: 0.1022 - output_1_loss: 0.1001 - output_2_loss: 0.0215 - val_loss: 0.3760 - val_output_1_loss: 0.3737 - val_output_2_loss: 0.0227\n",
            "Epoch 65/100\n",
            "57/57 [==============================] - 0s 8ms/step - loss: 0.1040 - output_1_loss: 0.1018 - output_2_loss: 0.0214 - val_loss: 0.3783 - val_output_1_loss: 0.3760 - val_output_2_loss: 0.0231\n",
            "Epoch 66/100\n",
            "57/57 [==============================] - 0s 8ms/step - loss: 0.1061 - output_1_loss: 0.1040 - output_2_loss: 0.0214 - val_loss: 0.3841 - val_output_1_loss: 0.3818 - val_output_2_loss: 0.0231\n",
            "Epoch 67/100\n",
            "57/57 [==============================] - 0s 7ms/step - loss: 0.1053 - output_1_loss: 0.1032 - output_2_loss: 0.0214 - val_loss: 0.3814 - val_output_1_loss: 0.3791 - val_output_2_loss: 0.0232\n",
            "Epoch 68/100\n",
            "57/57 [==============================] - 0s 7ms/step - loss: 0.1037 - output_1_loss: 0.1016 - output_2_loss: 0.0214 - val_loss: 0.3712 - val_output_1_loss: 0.3689 - val_output_2_loss: 0.0228\n",
            "Epoch 69/100\n",
            "57/57 [==============================] - 0s 7ms/step - loss: 0.1012 - output_1_loss: 0.0991 - output_2_loss: 0.0214 - val_loss: 0.3763 - val_output_1_loss: 0.3739 - val_output_2_loss: 0.0231\n",
            "Epoch 70/100\n",
            "57/57 [==============================] - 0s 7ms/step - loss: 0.1008 - output_1_loss: 0.0987 - output_2_loss: 0.0214 - val_loss: 0.3738 - val_output_1_loss: 0.3715 - val_output_2_loss: 0.0232\n",
            "Epoch 71/100\n",
            "57/57 [==============================] - 0s 8ms/step - loss: 0.0991 - output_1_loss: 0.0969 - output_2_loss: 0.0214 - val_loss: 0.3774 - val_output_1_loss: 0.3751 - val_output_2_loss: 0.0229\n",
            "Epoch 72/100\n",
            "57/57 [==============================] - 0s 8ms/step - loss: 0.1000 - output_1_loss: 0.0979 - output_2_loss: 0.0214 - val_loss: 0.3724 - val_output_1_loss: 0.3701 - val_output_2_loss: 0.0227\n",
            "Epoch 73/100\n",
            "57/57 [==============================] - 0s 8ms/step - loss: 0.0984 - output_1_loss: 0.0963 - output_2_loss: 0.0213 - val_loss: 0.3734 - val_output_1_loss: 0.3711 - val_output_2_loss: 0.0232\n",
            "Epoch 74/100\n",
            "57/57 [==============================] - 0s 7ms/step - loss: 0.1000 - output_1_loss: 0.0978 - output_2_loss: 0.0213 - val_loss: 0.3707 - val_output_1_loss: 0.3684 - val_output_2_loss: 0.0232\n",
            "Epoch 75/100\n",
            "57/57 [==============================] - 0s 7ms/step - loss: 0.0975 - output_1_loss: 0.0954 - output_2_loss: 0.0213 - val_loss: 0.3768 - val_output_1_loss: 0.3745 - val_output_2_loss: 0.0234\n",
            "Epoch 76/100\n",
            "57/57 [==============================] - 0s 7ms/step - loss: 0.0953 - output_1_loss: 0.0932 - output_2_loss: 0.0214 - val_loss: 0.3700 - val_output_1_loss: 0.3677 - val_output_2_loss: 0.0229\n",
            "Epoch 77/100\n",
            "57/57 [==============================] - 0s 8ms/step - loss: 0.0970 - output_1_loss: 0.0948 - output_2_loss: 0.0214 - val_loss: 0.3801 - val_output_1_loss: 0.3778 - val_output_2_loss: 0.0230\n",
            "Epoch 78/100\n",
            "57/57 [==============================] - 0s 7ms/step - loss: 0.0957 - output_1_loss: 0.0936 - output_2_loss: 0.0214 - val_loss: 0.3805 - val_output_1_loss: 0.3782 - val_output_2_loss: 0.0233\n",
            "Epoch 79/100\n",
            "57/57 [==============================] - 0s 7ms/step - loss: 0.0937 - output_1_loss: 0.0916 - output_2_loss: 0.0213 - val_loss: 0.3718 - val_output_1_loss: 0.3695 - val_output_2_loss: 0.0230\n",
            "Epoch 80/100\n",
            "57/57 [==============================] - 0s 8ms/step - loss: 0.0931 - output_1_loss: 0.0910 - output_2_loss: 0.0213 - val_loss: 0.3778 - val_output_1_loss: 0.3754 - val_output_2_loss: 0.0232\n",
            "Epoch 81/100\n",
            "57/57 [==============================] - 0s 7ms/step - loss: 0.0945 - output_1_loss: 0.0923 - output_2_loss: 0.0213 - val_loss: 0.3748 - val_output_1_loss: 0.3725 - val_output_2_loss: 0.0233\n",
            "Epoch 82/100\n",
            "57/57 [==============================] - 0s 8ms/step - loss: 0.0979 - output_1_loss: 0.0957 - output_2_loss: 0.0212 - val_loss: 0.3821 - val_output_1_loss: 0.3797 - val_output_2_loss: 0.0234\n",
            "Epoch 83/100\n",
            "57/57 [==============================] - 0s 7ms/step - loss: 0.0943 - output_1_loss: 0.0922 - output_2_loss: 0.0212 - val_loss: 0.3736 - val_output_1_loss: 0.3713 - val_output_2_loss: 0.0231\n",
            "Epoch 84/100\n",
            "57/57 [==============================] - 0s 8ms/step - loss: 0.0940 - output_1_loss: 0.0919 - output_2_loss: 0.0213 - val_loss: 0.3716 - val_output_1_loss: 0.3693 - val_output_2_loss: 0.0234\n",
            "Epoch 85/100\n",
            "57/57 [==============================] - 0s 8ms/step - loss: 0.0939 - output_1_loss: 0.0917 - output_2_loss: 0.0215 - val_loss: 0.3809 - val_output_1_loss: 0.3786 - val_output_2_loss: 0.0232\n",
            "Epoch 86/100\n",
            "57/57 [==============================] - 0s 7ms/step - loss: 0.0959 - output_1_loss: 0.0938 - output_2_loss: 0.0213 - val_loss: 0.3766 - val_output_1_loss: 0.3743 - val_output_2_loss: 0.0234\n",
            "Epoch 87/100\n",
            "57/57 [==============================] - 0s 8ms/step - loss: 0.0930 - output_1_loss: 0.0909 - output_2_loss: 0.0212 - val_loss: 0.3769 - val_output_1_loss: 0.3746 - val_output_2_loss: 0.0232\n",
            "Epoch 88/100\n",
            "57/57 [==============================] - 0s 8ms/step - loss: 0.0911 - output_1_loss: 0.0889 - output_2_loss: 0.0213 - val_loss: 0.3819 - val_output_1_loss: 0.3796 - val_output_2_loss: 0.0230\n",
            "Epoch 89/100\n",
            "57/57 [==============================] - 0s 8ms/step - loss: 0.0902 - output_1_loss: 0.0880 - output_2_loss: 0.0212 - val_loss: 0.3836 - val_output_1_loss: 0.3813 - val_output_2_loss: 0.0229\n",
            "Epoch 90/100\n",
            "57/57 [==============================] - 0s 7ms/step - loss: 0.0883 - output_1_loss: 0.0861 - output_2_loss: 0.0211 - val_loss: 0.3827 - val_output_1_loss: 0.3804 - val_output_2_loss: 0.0231\n",
            "Epoch 91/100\n",
            "57/57 [==============================] - 0s 7ms/step - loss: 0.0885 - output_1_loss: 0.0864 - output_2_loss: 0.0212 - val_loss: 0.3848 - val_output_1_loss: 0.3825 - val_output_2_loss: 0.0232\n",
            "Epoch 92/100\n",
            "57/57 [==============================] - 0s 7ms/step - loss: 0.0895 - output_1_loss: 0.0874 - output_2_loss: 0.0211 - val_loss: 0.3825 - val_output_1_loss: 0.3801 - val_output_2_loss: 0.0234\n",
            "Epoch 93/100\n",
            "57/57 [==============================] - 0s 8ms/step - loss: 0.0918 - output_1_loss: 0.0897 - output_2_loss: 0.0214 - val_loss: 0.3888 - val_output_1_loss: 0.3865 - val_output_2_loss: 0.0232\n",
            "Epoch 94/100\n",
            "57/57 [==============================] - 1s 11ms/step - loss: 0.0923 - output_1_loss: 0.0902 - output_2_loss: 0.0213 - val_loss: 0.3828 - val_output_1_loss: 0.3804 - val_output_2_loss: 0.0237\n",
            "Epoch 95/100\n",
            "57/57 [==============================] - 1s 11ms/step - loss: 0.0911 - output_1_loss: 0.0890 - output_2_loss: 0.0211 - val_loss: 0.3845 - val_output_1_loss: 0.3823 - val_output_2_loss: 0.0227\n",
            "Epoch 96/100\n",
            "57/57 [==============================] - 1s 12ms/step - loss: 0.0901 - output_1_loss: 0.0879 - output_2_loss: 0.0211 - val_loss: 0.3823 - val_output_1_loss: 0.3800 - val_output_2_loss: 0.0236\n",
            "Epoch 97/100\n",
            "57/57 [==============================] - 1s 10ms/step - loss: 0.0923 - output_1_loss: 0.0902 - output_2_loss: 0.0211 - val_loss: 0.3773 - val_output_1_loss: 0.3749 - val_output_2_loss: 0.0236\n",
            "Epoch 98/100\n",
            "57/57 [==============================] - 0s 7ms/step - loss: 0.0924 - output_1_loss: 0.0903 - output_2_loss: 0.0212 - val_loss: 0.3788 - val_output_1_loss: 0.3764 - val_output_2_loss: 0.0236\n",
            "Epoch 99/100\n",
            "57/57 [==============================] - 0s 8ms/step - loss: 0.0913 - output_1_loss: 0.0892 - output_2_loss: 0.0211 - val_loss: 0.3828 - val_output_1_loss: 0.3805 - val_output_2_loss: 0.0232\n",
            "Epoch 100/100\n",
            "57/57 [==============================] - 0s 8ms/step - loss: 0.0888 - output_1_loss: 0.0867 - output_2_loss: 0.0210 - val_loss: 0.3851 - val_output_1_loss: 0.3827 - val_output_2_loss: 0.0233\n"
          ]
        }
      ]
    },
    {
      "cell_type": "code",
      "metadata": {
        "colab": {
          "base_uri": "https://localhost:8080/",
          "height": 322
        },
        "id": "TzI9dLwEDZr_",
        "outputId": "66ddef17-c0ca-4e13-8cc5-53bd38acec99"
      },
      "source": [
        "show_multi_loss()"
      ],
      "execution_count": 94,
      "outputs": [
        {
          "output_type": "display_data",
          "data": {
            "text/plain": [
              "<Figure size 1440x360 with 2 Axes>"
            ],
            "image/png": "[encoded data removed]"
          },
          "metadata": {
            "needs_background": "light"
          }
        }
      ]
    },
    {
      "cell_type": "code",
      "metadata": {
        "id": "-xtSQe1TDF0K"
      },
      "source": [
        "def predict(inputs):    \n",
        "    p1, p2 = model.predict(inputs.values.reshape(1, HISTORY_LEN, NUM_INPUTS), verbose=False)    \n",
        "    return np.concatenate((\n",
        "        p1.reshape((HISTORY_LEN, 3)),\n",
        "        p2.reshape((HISTORY_LEN, 1))\n",
        "    ), axis=-1)[:PREDICTION_LEN,:]"
      ],
      "execution_count": 95,
      "outputs": []
    },
    {
      "cell_type": "code",
      "metadata": {
        "colab": {
          "base_uri": "https://localhost:8080/",
          "height": 374
        },
        "id": "UHSCXQArDuww",
        "outputId": "39e4222f-200d-47bc-9664-07e5e7818add"
      },
      "source": [
        "show_prediction(date(2017, 1, 21))"
      ],
      "execution_count": 96,
      "outputs": [
        {
          "output_type": "display_data",
          "data": {
            "text/plain": [
              "<Figure size 864x432 with 2 Axes>"
            ],
            "image/png": "[encoded data removed]"
          },
          "metadata": {
            "needs_background": "light"
          }
        }
      ]
    },
    {
      "cell_type": "code",
      "metadata": {
        "colab": {
          "base_uri": "https://localhost:8080/",
          "height": 68,
          "referenced_widgets": [
            "d47db62166da48849f59e32e9c3b3841",
            "b6849c85097d4fc0bfbd8e1fb1812e0f",
            "c94d2a761a5949f392375137faa172cc",
            "44590562063748bb9e86683c126418ae",
            "7cc06b69a2df4ea0a204e3c518a1947d",
            "47bb041e534245db826a63392e46786b",
            "2132a52e8fea48f490db97c8b8c54833",
            "19c28efcc9d34c36802dfb6e2ff34359",
            "5792ef2da70941c5a31e246c3251023e",
            "429b6d29752e4fa8a595f90d1cdff03a",
            "4ff466970bb24405b8012ce6a6b2fc0c"
          ]
        },
        "id": "fI-PLw4MD03b",
        "outputId": "ac93250b-d893-4d23-930d-ceb13f7a76a9"
      },
      "source": [
        "evaluate_all()"
      ],
      "execution_count": 97,
      "outputs": [
        {
          "output_type": "display_data",
          "data": {
            "text/plain": [
              "  0%|          | 0/50 [00:00<?, ?it/s]"
            ],
            "application/vnd.jupyter.widget-view+json": {
              "version_major": 2,
              "version_minor": 0,
              "model_id": "d47db62166da48849f59e32e9c3b3841"
            }
          },
          "metadata": {}
        },
        {
          "output_type": "execute_result",
          "data": {
            "text/plain": [
              "(755.0061804350543, 696.5734687200606)"
            ]
          },
          "metadata": {},
          "execution_count": 97
        }
      ]
    }
  ]
}