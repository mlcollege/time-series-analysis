{
  "nbformat": 4,
  "nbformat_minor": 0,
  "metadata": {
    "kernelspec": {
      "name": "python3",
      "display_name": "Python 3"
    },
    "language_info": {
      "codemirror_mode": {
        "name": "ipython",
        "version": 3
      },
      "file_extension": ".py",
      "mimetype": "text/x-python",
      "name": "python",
      "nbconvert_exporter": "python",
      "pygments_lexer": "ipython3",
      "version": "3.5.2"
    },
    "colab": {
      "name": "weather_lstm_simple-complete.ipynb",
      "provenance": [],
      "collapsed_sections": []
    },
    "accelerator": "GPU",
    "widgets": {
      "application/vnd.jupyter.widget-state+json": {
        "8a92e94c628246b5b7105ca73d51decd": {
          "model_module": "@jupyter-widgets/controls",
          "model_name": "HBoxModel",
          "model_module_version": "1.5.0",
          "state": {
            "_view_name": "HBoxView",
            "_dom_classes": [],
            "_model_name": "HBoxModel",
            "_view_module": "@jupyter-widgets/controls",
            "_model_module_version": "1.5.0",
            "_view_count": null,
            "_view_module_version": "1.5.0",
            "box_style": "",
            "layout": "IPY_MODEL_5fe66bea8570430b851ca1ba60903fdc",
            "_model_module": "@jupyter-widgets/controls",
            "children": [
              "IPY_MODEL_0dd0fc77a82949138c944a4b9692a94a",
              "IPY_MODEL_a348436540114a6a9de09ce55deebf40",
              "IPY_MODEL_5fa6ccc057d74b70a1f74bb314a811ea"
            ]
          }
        },
        "5fe66bea8570430b851ca1ba60903fdc": {
          "model_module": "@jupyter-widgets/base",
          "model_name": "LayoutModel",
          "model_module_version": "1.2.0",
          "state": {
            "_view_name": "LayoutView",
            "grid_template_rows": null,
            "right": null,
            "justify_content": null,
            "_view_module": "@jupyter-widgets/base",
            "overflow": null,
            "_model_module_version": "1.2.0",
            "_view_count": null,
            "flex_flow": null,
            "width": null,
            "min_width": null,
            "border": null,
            "align_items": null,
            "bottom": null,
            "_model_module": "@jupyter-widgets/base",
            "top": null,
            "grid_column": null,
            "overflow_y": null,
            "overflow_x": null,
            "grid_auto_flow": null,
            "grid_area": null,
            "grid_template_columns": null,
            "flex": null,
            "_model_name": "LayoutModel",
            "justify_items": null,
            "grid_row": null,
            "max_height": null,
            "align_content": null,
            "visibility": null,
            "align_self": null,
            "height": null,
            "min_height": null,
            "padding": null,
            "grid_auto_rows": null,
            "grid_gap": null,
            "max_width": null,
            "order": null,
            "_view_module_version": "1.2.0",
            "grid_template_areas": null,
            "object_position": null,
            "object_fit": null,
            "grid_auto_columns": null,
            "margin": null,
            "display": null,
            "left": null
          }
        },
        "0dd0fc77a82949138c944a4b9692a94a": {
          "model_module": "@jupyter-widgets/controls",
          "model_name": "HTMLModel",
          "model_module_version": "1.5.0",
          "state": {
            "_view_name": "HTMLView",
            "style": "IPY_MODEL_8fe82d801d9642d7a0377af26234c517",
            "_dom_classes": [],
            "description": "",
            "_model_name": "HTMLModel",
            "placeholder": "​",
            "_view_module": "@jupyter-widgets/controls",
            "_model_module_version": "1.5.0",
            "value": "100%",
            "_view_count": null,
            "_view_module_version": "1.5.0",
            "description_tooltip": null,
            "_model_module": "@jupyter-widgets/controls",
            "layout": "IPY_MODEL_36d64249738b4f8588c312787a552fcb"
          }
        },
        "a348436540114a6a9de09ce55deebf40": {
          "model_module": "@jupyter-widgets/controls",
          "model_name": "FloatProgressModel",
          "model_module_version": "1.5.0",
          "state": {
            "_view_name": "ProgressView",
            "style": "IPY_MODEL_88b184069d8044a58122a80185035dbb",
            "_dom_classes": [],
            "description": "",
            "_model_name": "FloatProgressModel",
            "bar_style": "success",
            "max": 50,
            "_view_module": "@jupyter-widgets/controls",
            "_model_module_version": "1.5.0",
            "value": 50,
            "_view_count": null,
            "_view_module_version": "1.5.0",
            "orientation": "horizontal",
            "min": 0,
            "description_tooltip": null,
            "_model_module": "@jupyter-widgets/controls",
            "layout": "IPY_MODEL_234c88c6facc4a8691b3e1d27ccf6dc2"
          }
        },
        "5fa6ccc057d74b70a1f74bb314a811ea": {
          "model_module": "@jupyter-widgets/controls",
          "model_name": "HTMLModel",
          "model_module_version": "1.5.0",
          "state": {
            "_view_name": "HTMLView",
            "style": "IPY_MODEL_0c51eeab61e247c7abdeed93c584ef2e",
            "_dom_classes": [],
            "description": "",
            "_model_name": "HTMLModel",
            "placeholder": "​",
            "_view_module": "@jupyter-widgets/controls",
            "_model_module_version": "1.5.0",
            "value": " 50/50 [00:02&lt;00:00, 19.17it/s]",
            "_view_count": null,
            "_view_module_version": "1.5.0",
            "description_tooltip": null,
            "_model_module": "@jupyter-widgets/controls",
            "layout": "IPY_MODEL_46ca5001aef54ca5a9066dcff25f6acb"
          }
        },
        "8fe82d801d9642d7a0377af26234c517": {
          "model_module": "@jupyter-widgets/controls",
          "model_name": "DescriptionStyleModel",
          "model_module_version": "1.5.0",
          "state": {
            "_view_name": "StyleView",
            "_model_name": "DescriptionStyleModel",
            "description_width": "",
            "_view_module": "@jupyter-widgets/base",
            "_model_module_version": "1.5.0",
            "_view_count": null,
            "_view_module_version": "1.2.0",
            "_model_module": "@jupyter-widgets/controls"
          }
        },
        "36d64249738b4f8588c312787a552fcb": {
          "model_module": "@jupyter-widgets/base",
          "model_name": "LayoutModel",
          "model_module_version": "1.2.0",
          "state": {
            "_view_name": "LayoutView",
            "grid_template_rows": null,
            "right": null,
            "justify_content": null,
            "_view_module": "@jupyter-widgets/base",
            "overflow": null,
            "_model_module_version": "1.2.0",
            "_view_count": null,
            "flex_flow": null,
            "width": null,
            "min_width": null,
            "border": null,
            "align_items": null,
            "bottom": null,
            "_model_module": "@jupyter-widgets/base",
            "top": null,
            "grid_column": null,
            "overflow_y": null,
            "overflow_x": null,
            "grid_auto_flow": null,
            "grid_area": null,
            "grid_template_columns": null,
            "flex": null,
            "_model_name": "LayoutModel",
            "justify_items": null,
            "grid_row": null,
            "max_height": null,
            "align_content": null,
            "visibility": null,
            "align_self": null,
            "height": null,
            "min_height": null,
            "padding": null,
            "grid_auto_rows": null,
            "grid_gap": null,
            "max_width": null,
            "order": null,
            "_view_module_version": "1.2.0",
            "grid_template_areas": null,
            "object_position": null,
            "object_fit": null,
            "grid_auto_columns": null,
            "margin": null,
            "display": null,
            "left": null
          }
        },
        "88b184069d8044a58122a80185035dbb": {
          "model_module": "@jupyter-widgets/controls",
          "model_name": "ProgressStyleModel",
          "model_module_version": "1.5.0",
          "state": {
            "_view_name": "StyleView",
            "_model_name": "ProgressStyleModel",
            "description_width": "",
            "_view_module": "@jupyter-widgets/base",
            "_model_module_version": "1.5.0",
            "_view_count": null,
            "_view_module_version": "1.2.0",
            "bar_color": null,
            "_model_module": "@jupyter-widgets/controls"
          }
        },
        "234c88c6facc4a8691b3e1d27ccf6dc2": {
          "model_module": "@jupyter-widgets/base",
          "model_name": "LayoutModel",
          "model_module_version": "1.2.0",
          "state": {
            "_view_name": "LayoutView",
            "grid_template_rows": null,
            "right": null,
            "justify_content": null,
            "_view_module": "@jupyter-widgets/base",
            "overflow": null,
            "_model_module_version": "1.2.0",
            "_view_count": null,
            "flex_flow": null,
            "width": null,
            "min_width": null,
            "border": null,
            "align_items": null,
            "bottom": null,
            "_model_module": "@jupyter-widgets/base",
            "top": null,
            "grid_column": null,
            "overflow_y": null,
            "overflow_x": null,
            "grid_auto_flow": null,
            "grid_area": null,
            "grid_template_columns": null,
            "flex": null,
            "_model_name": "LayoutModel",
            "justify_items": null,
            "grid_row": null,
            "max_height": null,
            "align_content": null,
            "visibility": null,
            "align_self": null,
            "height": null,
            "min_height": null,
            "padding": null,
            "grid_auto_rows": null,
            "grid_gap": null,
            "max_width": null,
            "order": null,
            "_view_module_version": "1.2.0",
            "grid_template_areas": null,
            "object_position": null,
            "object_fit": null,
            "grid_auto_columns": null,
            "margin": null,
            "display": null,
            "left": null
          }
        },
        "0c51eeab61e247c7abdeed93c584ef2e": {
          "model_module": "@jupyter-widgets/controls",
          "model_name": "DescriptionStyleModel",
          "model_module_version": "1.5.0",
          "state": {
            "_view_name": "StyleView",
            "_model_name": "DescriptionStyleModel",
            "description_width": "",
            "_view_module": "@jupyter-widgets/base",
            "_model_module_version": "1.5.0",
            "_view_count": null,
            "_view_module_version": "1.2.0",
            "_model_module": "@jupyter-widgets/controls"
          }
        },
        "46ca5001aef54ca5a9066dcff25f6acb": {
          "model_module": "@jupyter-widgets/base",
          "model_name": "LayoutModel",
          "model_module_version": "1.2.0",
          "state": {
            "_view_name": "LayoutView",
            "grid_template_rows": null,
            "right": null,
            "justify_content": null,
            "_view_module": "@jupyter-widgets/base",
            "overflow": null,
            "_model_module_version": "1.2.0",
            "_view_count": null,
            "flex_flow": null,
            "width": null,
            "min_width": null,
            "border": null,
            "align_items": null,
            "bottom": null,
            "_model_module": "@jupyter-widgets/base",
            "top": null,
            "grid_column": null,
            "overflow_y": null,
            "overflow_x": null,
            "grid_auto_flow": null,
            "grid_area": null,
            "grid_template_columns": null,
            "flex": null,
            "_model_name": "LayoutModel",
            "justify_items": null,
            "grid_row": null,
            "max_height": null,
            "align_content": null,
            "visibility": null,
            "align_self": null,
            "height": null,
            "min_height": null,
            "padding": null,
            "grid_auto_rows": null,
            "grid_gap": null,
            "max_width": null,
            "order": null,
            "_view_module_version": "1.2.0",
            "grid_template_areas": null,
            "object_position": null,
            "object_fit": null,
            "grid_auto_columns": null,
            "margin": null,
            "display": null,
            "left": null
          }
        },
        "76095c09630e4a54a3de38a149d0d086": {
          "model_module": "@jupyter-widgets/controls",
          "model_name": "HBoxModel",
          "model_module_version": "1.5.0",
          "state": {
            "_view_name": "HBoxView",
            "_dom_classes": [],
            "_model_name": "HBoxModel",
            "_view_module": "@jupyter-widgets/controls",
            "_model_module_version": "1.5.0",
            "_view_count": null,
            "_view_module_version": "1.5.0",
            "box_style": "",
            "layout": "IPY_MODEL_eb033816cd1844b691fd0bc5daf42888",
            "_model_module": "@jupyter-widgets/controls",
            "children": [
              "IPY_MODEL_4a414e99ce6d458fb7cca9329b0b0542",
              "IPY_MODEL_f1efd40d2b4b4609928c4dcea36538d7",
              "IPY_MODEL_b5c393bd30874772885b3f653f73e3df"
            ]
          }
        },
        "eb033816cd1844b691fd0bc5daf42888": {
          "model_module": "@jupyter-widgets/base",
          "model_name": "LayoutModel",
          "model_module_version": "1.2.0",
          "state": {
            "_view_name": "LayoutView",
            "grid_template_rows": null,
            "right": null,
            "justify_content": null,
            "_view_module": "@jupyter-widgets/base",
            "overflow": null,
            "_model_module_version": "1.2.0",
            "_view_count": null,
            "flex_flow": null,
            "width": null,
            "min_width": null,
            "border": null,
            "align_items": null,
            "bottom": null,
            "_model_module": "@jupyter-widgets/base",
            "top": null,
            "grid_column": null,
            "overflow_y": null,
            "overflow_x": null,
            "grid_auto_flow": null,
            "grid_area": null,
            "grid_template_columns": null,
            "flex": null,
            "_model_name": "LayoutModel",
            "justify_items": null,
            "grid_row": null,
            "max_height": null,
            "align_content": null,
            "visibility": null,
            "align_self": null,
            "height": null,
            "min_height": null,
            "padding": null,
            "grid_auto_rows": null,
            "grid_gap": null,
            "max_width": null,
            "order": null,
            "_view_module_version": "1.2.0",
            "grid_template_areas": null,
            "object_position": null,
            "object_fit": null,
            "grid_auto_columns": null,
            "margin": null,
            "display": null,
            "left": null
          }
        },
        "4a414e99ce6d458fb7cca9329b0b0542": {
          "model_module": "@jupyter-widgets/controls",
          "model_name": "HTMLModel",
          "model_module_version": "1.5.0",
          "state": {
            "_view_name": "HTMLView",
            "style": "IPY_MODEL_6b66985fc4254dcf9dd1d8530ec6cd8f",
            "_dom_classes": [],
            "description": "",
            "_model_name": "HTMLModel",
            "placeholder": "​",
            "_view_module": "@jupyter-widgets/controls",
            "_model_module_version": "1.5.0",
            "value": "100%",
            "_view_count": null,
            "_view_module_version": "1.5.0",
            "description_tooltip": null,
            "_model_module": "@jupyter-widgets/controls",
            "layout": "IPY_MODEL_8c5a5a5f16c54f438540b400be6fab29"
          }
        },
        "f1efd40d2b4b4609928c4dcea36538d7": {
          "model_module": "@jupyter-widgets/controls",
          "model_name": "FloatProgressModel",
          "model_module_version": "1.5.0",
          "state": {
            "_view_name": "ProgressView",
            "style": "IPY_MODEL_24387287081741148f281f6fa71d814d",
            "_dom_classes": [],
            "description": "",
            "_model_name": "FloatProgressModel",
            "bar_style": "success",
            "max": 50,
            "_view_module": "@jupyter-widgets/controls",
            "_model_module_version": "1.5.0",
            "value": 50,
            "_view_count": null,
            "_view_module_version": "1.5.0",
            "orientation": "horizontal",
            "min": 0,
            "description_tooltip": null,
            "_model_module": "@jupyter-widgets/controls",
            "layout": "IPY_MODEL_685a4329ebbd4b70a0bb84d6b4c6a20d"
          }
        },
        "b5c393bd30874772885b3f653f73e3df": {
          "model_module": "@jupyter-widgets/controls",
          "model_name": "HTMLModel",
          "model_module_version": "1.5.0",
          "state": {
            "_view_name": "HTMLView",
            "style": "IPY_MODEL_a5e420b748fb4a9db5a5d85220f50a10",
            "_dom_classes": [],
            "description": "",
            "_model_name": "HTMLModel",
            "placeholder": "​",
            "_view_module": "@jupyter-widgets/controls",
            "_model_module_version": "1.5.0",
            "value": " 50/50 [00:02&lt;00:00, 20.12it/s]",
            "_view_count": null,
            "_view_module_version": "1.5.0",
            "description_tooltip": null,
            "_model_module": "@jupyter-widgets/controls",
            "layout": "IPY_MODEL_6394e403c1284a32ab06967c3cbbac7d"
          }
        },
        "6b66985fc4254dcf9dd1d8530ec6cd8f": {
          "model_module": "@jupyter-widgets/controls",
          "model_name": "DescriptionStyleModel",
          "model_module_version": "1.5.0",
          "state": {
            "_view_name": "StyleView",
            "_model_name": "DescriptionStyleModel",
            "description_width": "",
            "_view_module": "@jupyter-widgets/base",
            "_model_module_version": "1.5.0",
            "_view_count": null,
            "_view_module_version": "1.2.0",
            "_model_module": "@jupyter-widgets/controls"
          }
        },
        "8c5a5a5f16c54f438540b400be6fab29": {
          "model_module": "@jupyter-widgets/base",
          "model_name": "LayoutModel",
          "model_module_version": "1.2.0",
          "state": {
            "_view_name": "LayoutView",
            "grid_template_rows": null,
            "right": null,
            "justify_content": null,
            "_view_module": "@jupyter-widgets/base",
            "overflow": null,
            "_model_module_version": "1.2.0",
            "_view_count": null,
            "flex_flow": null,
            "width": null,
            "min_width": null,
            "border": null,
            "align_items": null,
            "bottom": null,
            "_model_module": "@jupyter-widgets/base",
            "top": null,
            "grid_column": null,
            "overflow_y": null,
            "overflow_x": null,
            "grid_auto_flow": null,
            "grid_area": null,
            "grid_template_columns": null,
            "flex": null,
            "_model_name": "LayoutModel",
            "justify_items": null,
            "grid_row": null,
            "max_height": null,
            "align_content": null,
            "visibility": null,
            "align_self": null,
            "height": null,
            "min_height": null,
            "padding": null,
            "grid_auto_rows": null,
            "grid_gap": null,
            "max_width": null,
            "order": null,
            "_view_module_version": "1.2.0",
            "grid_template_areas": null,
            "object_position": null,
            "object_fit": null,
            "grid_auto_columns": null,
            "margin": null,
            "display": null,
            "left": null
          }
        },
        "24387287081741148f281f6fa71d814d": {
          "model_module": "@jupyter-widgets/controls",
          "model_name": "ProgressStyleModel",
          "model_module_version": "1.5.0",
          "state": {
            "_view_name": "StyleView",
            "_model_name": "ProgressStyleModel",
            "description_width": "",
            "_view_module": "@jupyter-widgets/base",
            "_model_module_version": "1.5.0",
            "_view_count": null,
            "_view_module_version": "1.2.0",
            "bar_color": null,
            "_model_module": "@jupyter-widgets/controls"
          }
        },
        "685a4329ebbd4b70a0bb84d6b4c6a20d": {
          "model_module": "@jupyter-widgets/base",
          "model_name": "LayoutModel",
          "model_module_version": "1.2.0",
          "state": {
            "_view_name": "LayoutView",
            "grid_template_rows": null,
            "right": null,
            "justify_content": null,
            "_view_module": "@jupyter-widgets/base",
            "overflow": null,
            "_model_module_version": "1.2.0",
            "_view_count": null,
            "flex_flow": null,
            "width": null,
            "min_width": null,
            "border": null,
            "align_items": null,
            "bottom": null,
            "_model_module": "@jupyter-widgets/base",
            "top": null,
            "grid_column": null,
            "overflow_y": null,
            "overflow_x": null,
            "grid_auto_flow": null,
            "grid_area": null,
            "grid_template_columns": null,
            "flex": null,
            "_model_name": "LayoutModel",
            "justify_items": null,
            "grid_row": null,
            "max_height": null,
            "align_content": null,
            "visibility": null,
            "align_self": null,
            "height": null,
            "min_height": null,
            "padding": null,
            "grid_auto_rows": null,
            "grid_gap": null,
            "max_width": null,
            "order": null,
            "_view_module_version": "1.2.0",
            "grid_template_areas": null,
            "object_position": null,
            "object_fit": null,
            "grid_auto_columns": null,
            "margin": null,
            "display": null,
            "left": null
          }
        },
        "a5e420b748fb4a9db5a5d85220f50a10": {
          "model_module": "@jupyter-widgets/controls",
          "model_name": "DescriptionStyleModel",
          "model_module_version": "1.5.0",
          "state": {
            "_view_name": "StyleView",
            "_model_name": "DescriptionStyleModel",
            "description_width": "",
            "_view_module": "@jupyter-widgets/base",
            "_model_module_version": "1.5.0",
            "_view_count": null,
            "_view_module_version": "1.2.0",
            "_model_module": "@jupyter-widgets/controls"
          }
        },
        "6394e403c1284a32ab06967c3cbbac7d": {
          "model_module": "@jupyter-widgets/base",
          "model_name": "LayoutModel",
          "model_module_version": "1.2.0",
          "state": {
            "_view_name": "LayoutView",
            "grid_template_rows": null,
            "right": null,
            "justify_content": null,
            "_view_module": "@jupyter-widgets/base",
            "overflow": null,
            "_model_module_version": "1.2.0",
            "_view_count": null,
            "flex_flow": null,
            "width": null,
            "min_width": null,
            "border": null,
            "align_items": null,
            "bottom": null,
            "_model_module": "@jupyter-widgets/base",
            "top": null,
            "grid_column": null,
            "overflow_y": null,
            "overflow_x": null,
            "grid_auto_flow": null,
            "grid_area": null,
            "grid_template_columns": null,
            "flex": null,
            "_model_name": "LayoutModel",
            "justify_items": null,
            "grid_row": null,
            "max_height": null,
            "align_content": null,
            "visibility": null,
            "align_self": null,
            "height": null,
            "min_height": null,
            "padding": null,
            "grid_auto_rows": null,
            "grid_gap": null,
            "max_width": null,
            "order": null,
            "_view_module_version": "1.2.0",
            "grid_template_areas": null,
            "object_position": null,
            "object_fit": null,
            "grid_auto_columns": null,
            "margin": null,
            "display": null,
            "left": null
          }
        },
        "792380862a0b48338efac9b1eb6cc49d": {
          "model_module": "@jupyter-widgets/controls",
          "model_name": "HBoxModel",
          "model_module_version": "1.5.0",
          "state": {
            "_view_name": "HBoxView",
            "_dom_classes": [],
            "_model_name": "HBoxModel",
            "_view_module": "@jupyter-widgets/controls",
            "_model_module_version": "1.5.0",
            "_view_count": null,
            "_view_module_version": "1.5.0",
            "box_style": "",
            "layout": "IPY_MODEL_7d483004f7454e58bfb8d3164fc616f8",
            "_model_module": "@jupyter-widgets/controls",
            "children": [
              "IPY_MODEL_edb74e3ef2a9490e9fced163bf00fd18",
              "IPY_MODEL_48921903d72e453cb16ec667f1e6787e",
              "IPY_MODEL_fe5ab2a29d244c5ab4bbda1760a802d6"
            ]
          }
        },
        "7d483004f7454e58bfb8d3164fc616f8": {
          "model_module": "@jupyter-widgets/base",
          "model_name": "LayoutModel",
          "model_module_version": "1.2.0",
          "state": {
            "_view_name": "LayoutView",
            "grid_template_rows": null,
            "right": null,
            "justify_content": null,
            "_view_module": "@jupyter-widgets/base",
            "overflow": null,
            "_model_module_version": "1.2.0",
            "_view_count": null,
            "flex_flow": null,
            "width": null,
            "min_width": null,
            "border": null,
            "align_items": null,
            "bottom": null,
            "_model_module": "@jupyter-widgets/base",
            "top": null,
            "grid_column": null,
            "overflow_y": null,
            "overflow_x": null,
            "grid_auto_flow": null,
            "grid_area": null,
            "grid_template_columns": null,
            "flex": null,
            "_model_name": "LayoutModel",
            "justify_items": null,
            "grid_row": null,
            "max_height": null,
            "align_content": null,
            "visibility": null,
            "align_self": null,
            "height": null,
            "min_height": null,
            "padding": null,
            "grid_auto_rows": null,
            "grid_gap": null,
            "max_width": null,
            "order": null,
            "_view_module_version": "1.2.0",
            "grid_template_areas": null,
            "object_position": null,
            "object_fit": null,
            "grid_auto_columns": null,
            "margin": null,
            "display": null,
            "left": null
          }
        },
        "edb74e3ef2a9490e9fced163bf00fd18": {
          "model_module": "@jupyter-widgets/controls",
          "model_name": "HTMLModel",
          "model_module_version": "1.5.0",
          "state": {
            "_view_name": "HTMLView",
            "style": "IPY_MODEL_0f8def9aa3524fcfb646d75290f316e0",
            "_dom_classes": [],
            "description": "",
            "_model_name": "HTMLModel",
            "placeholder": "​",
            "_view_module": "@jupyter-widgets/controls",
            "_model_module_version": "1.5.0",
            "value": "100%",
            "_view_count": null,
            "_view_module_version": "1.5.0",
            "description_tooltip": null,
            "_model_module": "@jupyter-widgets/controls",
            "layout": "IPY_MODEL_07f77fc540af4872ba460f8ff8ec3acc"
          }
        },
        "48921903d72e453cb16ec667f1e6787e": {
          "model_module": "@jupyter-widgets/controls",
          "model_name": "FloatProgressModel",
          "model_module_version": "1.5.0",
          "state": {
            "_view_name": "ProgressView",
            "style": "IPY_MODEL_1c9563e84bc24eb3b2cf70b6e4374c25",
            "_dom_classes": [],
            "description": "",
            "_model_name": "FloatProgressModel",
            "bar_style": "success",
            "max": 50,
            "_view_module": "@jupyter-widgets/controls",
            "_model_module_version": "1.5.0",
            "value": 50,
            "_view_count": null,
            "_view_module_version": "1.5.0",
            "orientation": "horizontal",
            "min": 0,
            "description_tooltip": null,
            "_model_module": "@jupyter-widgets/controls",
            "layout": "IPY_MODEL_506c56e7fd9f49268c78c1292455514f"
          }
        },
        "fe5ab2a29d244c5ab4bbda1760a802d6": {
          "model_module": "@jupyter-widgets/controls",
          "model_name": "HTMLModel",
          "model_module_version": "1.5.0",
          "state": {
            "_view_name": "HTMLView",
            "style": "IPY_MODEL_8c5c886cf3a040a2af6ff74f43dbfcb9",
            "_dom_classes": [],
            "description": "",
            "_model_name": "HTMLModel",
            "placeholder": "​",
            "_view_module": "@jupyter-widgets/controls",
            "_model_module_version": "1.5.0",
            "value": " 50/50 [00:03&lt;00:00, 18.18it/s]",
            "_view_count": null,
            "_view_module_version": "1.5.0",
            "description_tooltip": null,
            "_model_module": "@jupyter-widgets/controls",
            "layout": "IPY_MODEL_fc0372c838204a8db6465c497a6ddea9"
          }
        },
        "0f8def9aa3524fcfb646d75290f316e0": {
          "model_module": "@jupyter-widgets/controls",
          "model_name": "DescriptionStyleModel",
          "model_module_version": "1.5.0",
          "state": {
            "_view_name": "StyleView",
            "_model_name": "DescriptionStyleModel",
            "description_width": "",
            "_view_module": "@jupyter-widgets/base",
            "_model_module_version": "1.5.0",
            "_view_count": null,
            "_view_module_version": "1.2.0",
            "_model_module": "@jupyter-widgets/controls"
          }
        },
        "07f77fc540af4872ba460f8ff8ec3acc": {
          "model_module": "@jupyter-widgets/base",
          "model_name": "LayoutModel",
          "model_module_version": "1.2.0",
          "state": {
            "_view_name": "LayoutView",
            "grid_template_rows": null,
            "right": null,
            "justify_content": null,
            "_view_module": "@jupyter-widgets/base",
            "overflow": null,
            "_model_module_version": "1.2.0",
            "_view_count": null,
            "flex_flow": null,
            "width": null,
            "min_width": null,
            "border": null,
            "align_items": null,
            "bottom": null,
            "_model_module": "@jupyter-widgets/base",
            "top": null,
            "grid_column": null,
            "overflow_y": null,
            "overflow_x": null,
            "grid_auto_flow": null,
            "grid_area": null,
            "grid_template_columns": null,
            "flex": null,
            "_model_name": "LayoutModel",
            "justify_items": null,
            "grid_row": null,
            "max_height": null,
            "align_content": null,
            "visibility": null,
            "align_self": null,
            "height": null,
            "min_height": null,
            "padding": null,
            "grid_auto_rows": null,
            "grid_gap": null,
            "max_width": null,
            "order": null,
            "_view_module_version": "1.2.0",
            "grid_template_areas": null,
            "object_position": null,
            "object_fit": null,
            "grid_auto_columns": null,
            "margin": null,
            "display": null,
            "left": null
          }
        },
        "1c9563e84bc24eb3b2cf70b6e4374c25": {
          "model_module": "@jupyter-widgets/controls",
          "model_name": "ProgressStyleModel",
          "model_module_version": "1.5.0",
          "state": {
            "_view_name": "StyleView",
            "_model_name": "ProgressStyleModel",
            "description_width": "",
            "_view_module": "@jupyter-widgets/base",
            "_model_module_version": "1.5.0",
            "_view_count": null,
            "_view_module_version": "1.2.0",
            "bar_color": null,
            "_model_module": "@jupyter-widgets/controls"
          }
        },
        "506c56e7fd9f49268c78c1292455514f": {
          "model_module": "@jupyter-widgets/base",
          "model_name": "LayoutModel",
          "model_module_version": "1.2.0",
          "state": {
            "_view_name": "LayoutView",
            "grid_template_rows": null,
            "right": null,
            "justify_content": null,
            "_view_module": "@jupyter-widgets/base",
            "overflow": null,
            "_model_module_version": "1.2.0",
            "_view_count": null,
            "flex_flow": null,
            "width": null,
            "min_width": null,
            "border": null,
            "align_items": null,
            "bottom": null,
            "_model_module": "@jupyter-widgets/base",
            "top": null,
            "grid_column": null,
            "overflow_y": null,
            "overflow_x": null,
            "grid_auto_flow": null,
            "grid_area": null,
            "grid_template_columns": null,
            "flex": null,
            "_model_name": "LayoutModel",
            "justify_items": null,
            "grid_row": null,
            "max_height": null,
            "align_content": null,
            "visibility": null,
            "align_self": null,
            "height": null,
            "min_height": null,
            "padding": null,
            "grid_auto_rows": null,
            "grid_gap": null,
            "max_width": null,
            "order": null,
            "_view_module_version": "1.2.0",
            "grid_template_areas": null,
            "object_position": null,
            "object_fit": null,
            "grid_auto_columns": null,
            "margin": null,
            "display": null,
            "left": null
          }
        },
        "8c5c886cf3a040a2af6ff74f43dbfcb9": {
          "model_module": "@jupyter-widgets/controls",
          "model_name": "DescriptionStyleModel",
          "model_module_version": "1.5.0",
          "state": {
            "_view_name": "StyleView",
            "_model_name": "DescriptionStyleModel",
            "description_width": "",
            "_view_module": "@jupyter-widgets/base",
            "_model_module_version": "1.5.0",
            "_view_count": null,
            "_view_module_version": "1.2.0",
            "_model_module": "@jupyter-widgets/controls"
          }
        },
        "fc0372c838204a8db6465c497a6ddea9": {
          "model_module": "@jupyter-widgets/base",
          "model_name": "LayoutModel",
          "model_module_version": "1.2.0",
          "state": {
            "_view_name": "LayoutView",
            "grid_template_rows": null,
            "right": null,
            "justify_content": null,
            "_view_module": "@jupyter-widgets/base",
            "overflow": null,
            "_model_module_version": "1.2.0",
            "_view_count": null,
            "flex_flow": null,
            "width": null,
            "min_width": null,
            "border": null,
            "align_items": null,
            "bottom": null,
            "_model_module": "@jupyter-widgets/base",
            "top": null,
            "grid_column": null,
            "overflow_y": null,
            "overflow_x": null,
            "grid_auto_flow": null,
            "grid_area": null,
            "grid_template_columns": null,
            "flex": null,
            "_model_name": "LayoutModel",
            "justify_items": null,
            "grid_row": null,
            "max_height": null,
            "align_content": null,
            "visibility": null,
            "align_self": null,
            "height": null,
            "min_height": null,
            "padding": null,
            "grid_auto_rows": null,
            "grid_gap": null,
            "max_width": null,
            "order": null,
            "_view_module_version": "1.2.0",
            "grid_template_areas": null,
            "object_position": null,
            "object_fit": null,
            "grid_auto_columns": null,
            "margin": null,
            "display": null,
            "left": null
          }
        }
      }
    }
  },
  "cells": [
    {
      "cell_type": "markdown",
      "metadata": {
        "id": "JnRXSMEB8tEB"
      },
      "source": [
        "# Time series - multivariate prediction, LSTM network for fixed-sized prediction\n",
        "\n",
        "In this example we will load prepared data and try to predict it with a simple lstm network producing fixed-sized prediction.\n",
        "\n",
        "This example is very similar to the feed-forward network except the model is smaller and it can predict from history of arbitrary length."
      ]
    },
    {
      "cell_type": "code",
      "metadata": {
        "id": "OgGVbU9t8tED"
      },
      "source": [
        "%tensorflow_version 2.x\n",
        "%matplotlib inline\n",
        "\n",
        "import numpy as np\n",
        "import os\n",
        "from datetime import date\n",
        "import re\n",
        "\n",
        "import matplotlib.pyplot as plt\n",
        "\n",
        "import pandas as pd\n",
        "pd.options.display.max_rows = 30\n",
        "from pandas.plotting import register_matplotlib_converters\n",
        "register_matplotlib_converters()\n",
        "\n",
        "def show_loss():\n",
        "    loss_history = np.array(progress.history['loss'])\n",
        "    val_loss_history = np.array(progress.history['val_loss'])\n",
        "                                \n",
        "    plt.figure(figsize=(20,5))\n",
        "    plt.ylim(ymin=0, ymax=max(np.max(loss_history), np.max(val_loss_history)))\n",
        "    plt.plot(loss_history, 'r-')\n",
        "    plt.plot(val_loss_history, 'g-')\n",
        "    plt.show()"
      ],
      "execution_count": 1,
      "outputs": []
    },
    {
      "cell_type": "code",
      "metadata": {
        "id": "j5DcldIuCiI_",
        "colab": {
          "base_uri": "https://localhost:8080/"
        },
        "outputId": "9d72dd7c-06b1-4f38-9849-4524cd3ff611"
      },
      "source": [
        "from google.colab import drive\n",
        "drive.mount('/content/drive/')"
      ],
      "execution_count": 2,
      "outputs": [
        {
          "output_type": "stream",
          "name": "stdout",
          "text": [
            "Drive already mounted at /content/drive/; to attempt to forcibly remount, call drive.mount(\"/content/drive/\", force_remount=True).\n"
          ]
        }
      ]
    },
    {
      "cell_type": "code",
      "metadata": {
        "id": "u-fh0vOg8tEH"
      },
      "source": [
        "PATH = '/content/drive/My Drive/ml-college/time-series-analysis/data/weather/training_set_temp_dp_press.p'\n",
        "training_df = pd.read_pickle(PATH)"
      ],
      "execution_count": 3,
      "outputs": []
    },
    {
      "cell_type": "markdown",
      "metadata": {
        "id": "gXbf-IK48tEL"
      },
      "source": [
        "Notice that we would randomly sample the training data from the whole weather history.\n",
        "\n",
        "The `indices` array will contain starting date for each sample"
      ]
    },
    {
      "cell_type": "code",
      "metadata": {
        "colab": {
          "base_uri": "https://localhost:8080/",
          "height": 235
        },
        "id": "VB9pcLHhXeS5",
        "outputId": "42ccd58e-d69b-4b54-97a9-2a0a0114ba87"
      },
      "source": [
        "training_df.describe().T"
      ],
      "execution_count": 4,
      "outputs": [
        {
          "output_type": "execute_result",
          "data": {
            "text/html": [
              "<div>\n",
              "<style scoped>\n",
              "    .dataframe tbody tr th:only-of-type {\n",
              "        vertical-align: middle;\n",
              "    }\n",
              "\n",
              "    .dataframe tbody tr th {\n",
              "        vertical-align: top;\n",
              "    }\n",
              "\n",
              "    .dataframe thead th {\n",
              "        text-align: right;\n",
              "    }\n",
              "</style>\n",
              "<table border=\"1\" class=\"dataframe\">\n",
              "  <thead>\n",
              "    <tr style=\"text-align: right;\">\n",
              "      <th></th>\n",
              "      <th>count</th>\n",
              "      <th>mean</th>\n",
              "      <th>std</th>\n",
              "      <th>min</th>\n",
              "      <th>25%</th>\n",
              "      <th>50%</th>\n",
              "      <th>75%</th>\n",
              "      <th>max</th>\n",
              "    </tr>\n",
              "  </thead>\n",
              "  <tbody>\n",
              "    <tr>\n",
              "      <th>Temp[av]</th>\n",
              "      <td>5844.0</td>\n",
              "      <td>-0.001116</td>\n",
              "      <td>0.999123</td>\n",
              "      <td>-2.950767</td>\n",
              "      <td>-0.724290</td>\n",
              "      <td>1.786967e-02</td>\n",
              "      <td>0.883722</td>\n",
              "      <td>2.368041</td>\n",
              "    </tr>\n",
              "    <tr>\n",
              "      <th>DPoint[av]</th>\n",
              "      <td>5844.0</td>\n",
              "      <td>0.001604</td>\n",
              "      <td>1.000542</td>\n",
              "      <td>-3.524788</td>\n",
              "      <td>-0.708038</td>\n",
              "      <td>3.321240e-02</td>\n",
              "      <td>0.774463</td>\n",
              "      <td>2.256963</td>\n",
              "    </tr>\n",
              "    <tr>\n",
              "      <th>SLPress[av]</th>\n",
              "      <td>5844.0</td>\n",
              "      <td>-0.004798</td>\n",
              "      <td>1.000654</td>\n",
              "      <td>-4.944317</td>\n",
              "      <td>-0.633782</td>\n",
              "      <td>-1.799073e-02</td>\n",
              "      <td>0.597800</td>\n",
              "      <td>3.184121</td>\n",
              "    </tr>\n",
              "    <tr>\n",
              "      <th>Precip[sum]</th>\n",
              "      <td>5844.0</td>\n",
              "      <td>0.026801</td>\n",
              "      <td>0.156823</td>\n",
              "      <td>0.000000</td>\n",
              "      <td>0.000000</td>\n",
              "      <td>0.000000e+00</td>\n",
              "      <td>0.000000</td>\n",
              "      <td>2.896000</td>\n",
              "    </tr>\n",
              "    <tr>\n",
              "      <th>cos(DoY)</th>\n",
              "      <td>5844.0</td>\n",
              "      <td>0.000684</td>\n",
              "      <td>0.707409</td>\n",
              "      <td>-0.999963</td>\n",
              "      <td>-0.708627</td>\n",
              "      <td>4.303538e-03</td>\n",
              "      <td>0.702527</td>\n",
              "      <td>1.000000</td>\n",
              "    </tr>\n",
              "    <tr>\n",
              "      <th>sin(DoY)</th>\n",
              "      <td>5844.0</td>\n",
              "      <td>0.000012</td>\n",
              "      <td>0.706925</td>\n",
              "      <td>-0.999991</td>\n",
              "      <td>-0.705584</td>\n",
              "      <td>-2.449294e-16</td>\n",
              "      <td>0.705584</td>\n",
              "      <td>0.999991</td>\n",
              "    </tr>\n",
              "  </tbody>\n",
              "</table>\n",
              "</div>"
            ],
            "text/plain": [
              "              count      mean       std  ...           50%       75%       max\n",
              "Temp[av]     5844.0 -0.001116  0.999123  ...  1.786967e-02  0.883722  2.368041\n",
              "DPoint[av]   5844.0  0.001604  1.000542  ...  3.321240e-02  0.774463  2.256963\n",
              "SLPress[av]  5844.0 -0.004798  1.000654  ... -1.799073e-02  0.597800  3.184121\n",
              "Precip[sum]  5844.0  0.026801  0.156823  ...  0.000000e+00  0.000000  2.896000\n",
              "cos(DoY)     5844.0  0.000684  0.707409  ...  4.303538e-03  0.702527  1.000000\n",
              "sin(DoY)     5844.0  0.000012  0.706925  ... -2.449294e-16  0.705584  0.999991\n",
              "\n",
              "[6 rows x 8 columns]"
            ]
          },
          "metadata": {},
          "execution_count": 4
        }
      ]
    },
    {
      "cell_type": "code",
      "metadata": {
        "id": "S721Dcjs8tEN"
      },
      "source": [
        "import random\n",
        "\n",
        "HISTORY_LEN = 14\n",
        "PREDICTION_LEN = 7\n",
        "NUM_SAMPLES = 2000\n",
        "NUM_INPUTS = 6\n",
        "NUM_OUTPUTS = 4\n",
        "\n",
        "indices = random.sample(range(0,len(training_df) - HISTORY_LEN - PREDICTION_LEN), NUM_SAMPLES)"
      ],
      "execution_count": 5,
      "outputs": []
    },
    {
      "cell_type": "markdown",
      "metadata": {
        "id": "A86yteDa8tER"
      },
      "source": [
        "In this example only the output needs to be reshaped into one-dimensional shape. Inputs need to be in a sequence form"
      ]
    },
    {
      "cell_type": "code",
      "metadata": {
        "id": "_y7kI0_s8tES"
      },
      "source": [
        "ts_data = training_df.values\n",
        "ts_inputs = np.array([ts_data[i:i + HISTORY_LEN] for i in indices])\n",
        "ts_outputs = np.array([ts_data[i + HISTORY_LEN: i + HISTORY_LEN + PREDICTION_LEN,:NUM_OUTPUTS] for i in indices]).reshape((NUM_SAMPLES, PREDICTION_LEN * NUM_OUTPUTS))"
      ],
      "execution_count": 6,
      "outputs": []
    },
    {
      "cell_type": "code",
      "metadata": {
        "colab": {
          "base_uri": "https://localhost:8080/"
        },
        "id": "sRV5vO4EYQXF",
        "outputId": "316b52cd-9596-4a7d-ee74-806ab21b75bb"
      },
      "source": [
        "print(ts_inputs.shape)\n",
        "print(ts_outputs.shape)"
      ],
      "execution_count": 7,
      "outputs": [
        {
          "output_type": "stream",
          "name": "stdout",
          "text": [
            "(2000, 14, 6)\n",
            "(2000, 28)\n"
          ]
        }
      ]
    },
    {
      "cell_type": "code",
      "metadata": {
        "id": "eHyaTKls8tEW",
        "colab": {
          "base_uri": "https://localhost:8080/"
        },
        "outputId": "d5a7408f-4b0b-497b-a041-17e950cdd41c"
      },
      "source": [
        "from tensorflow.keras import Model\n",
        "from tensorflow.keras.layers import LSTM, GRU, Input, Dense\n",
        "\n",
        "inputs = Input(shape=ts_inputs.shape[1:])\n",
        "x = GRU(32, return_sequences=True, recurrent_activation='sigmoid')(inputs)\n",
        "x = GRU(16, recurrent_activation='sigmoid')(x)\n",
        "outputs = Dense(PREDICTION_LEN * NUM_OUTPUTS, activation='linear')(x)\n",
        "\n",
        "model = Model(inputs, outputs)\n",
        "model.compile(optimizer='adam', loss='mse')\n",
        "model.summary()"
      ],
      "execution_count": 8,
      "outputs": [
        {
          "output_type": "stream",
          "name": "stdout",
          "text": [
            "Model: \"model\"\n",
            "_________________________________________________________________\n",
            "Layer (type)                 Output Shape              Param #   \n",
            "=================================================================\n",
            "input_1 (InputLayer)         [(None, 14, 6)]           0         \n",
            "_________________________________________________________________\n",
            "gru (GRU)                    (None, 14, 32)            3840      \n",
            "_________________________________________________________________\n",
            "gru_1 (GRU)                  (None, 16)                2400      \n",
            "_________________________________________________________________\n",
            "dense (Dense)                (None, 28)                476       \n",
            "=================================================================\n",
            "Total params: 6,716\n",
            "Trainable params: 6,716\n",
            "Non-trainable params: 0\n",
            "_________________________________________________________________\n"
          ]
        }
      ]
    },
    {
      "cell_type": "code",
      "metadata": {
        "id": "VX13iWFBBphN"
      },
      "source": [
        "def predict(inputs):    \n",
        "    return model.predict(inputs.values.reshape(1, HISTORY_LEN, NUM_INPUTS)).reshape((PREDICTION_LEN, NUM_OUTPUTS))"
      ],
      "execution_count": null,
      "outputs": []
    },
    {
      "cell_type": "code",
      "metadata": {
        "scrolled": false,
        "id": "4qoiycAT8tEZ"
      },
      "source": [
        "progress = model.fit(ts_inputs, ts_outputs, validation_split=0.1, epochs=100)"
      ],
      "execution_count": null,
      "outputs": []
    },
    {
      "cell_type": "code",
      "metadata": {
        "colab": {
          "base_uri": "https://localhost:8080/",
          "height": 320
        },
        "id": "ucMbsrYo3sL7",
        "outputId": "9e51dedb-6060-4a17-b36d-58f4fc916db0"
      },
      "source": [
        "show_loss()"
      ],
      "execution_count": 10,
      "outputs": [
        {
          "output_type": "display_data",
          "data": {
            "image/png": "[encoded data removed]",
            "text/plain": [
              "<Figure size 1440x360 with 1 Axes>"
            ]
          },
          "metadata": {
            "needs_background": "light"
          }
        }
      ]
    },
    {
      "cell_type": "markdown",
      "metadata": {
        "id": "jMy-MJci8tEc"
      },
      "source": [
        "## Prediction phase\n",
        "\n",
        "To test the prediction, we will take a particular date and feed the history into the network.\n",
        "\n",
        "Notice the `DatetimeIndex` usage that allows us to easily align our prediction to the input time series."
      ]
    },
    {
      "cell_type": "code",
      "metadata": {
        "id": "kso7avUG8tEe"
      },
      "source": [
        "import datetime\n",
        "from datetime import timedelta"
      ],
      "execution_count": 11,
      "outputs": []
    },
    {
      "cell_type": "code",
      "metadata": {
        "id": "j59ch_HQqm55"
      },
      "source": [
        "PATH = '/content/drive/My Drive/ml-college/time-series-analysis/data/weather/testing_set_temp_dp_press.p'\n",
        "testing_df = pd.read_pickle(PATH)"
      ],
      "execution_count": 12,
      "outputs": []
    },
    {
      "cell_type": "code",
      "metadata": {
        "id": "aQGHBfis7O_-"
      },
      "source": [
        "def show_prediction(prediction_date):\n",
        "    \n",
        "    history = testing_df[prediction_date - timedelta(days=HISTORY_LEN - 1): prediction_date]\n",
        "    prediction = predict(history)    \n",
        "\n",
        "    prediction_df = pd.DataFrame(\n",
        "        prediction, \n",
        "        index=pd.date_range(start=prediction_date + timedelta(days=1), freq='D', periods=PREDICTION_LEN)\n",
        "    )\n",
        "\n",
        "    ground_true = testing_df[prediction_date - timedelta(days=HISTORY_LEN - 1): prediction_date + timedelta(days=PREDICTION_LEN)]\n",
        "\n",
        "    plt.figure(figsize = (12, 6))\n",
        "    plt.bar(ground_true.index, ground_true.iloc[:,3], color='powderblue')\n",
        "    plt.bar(prediction_df.index, prediction_df.iloc[:,3], color='skyblue')\n",
        "    plt.twinx()\n",
        "    gt_plt = plt.plot(ground_true.iloc[:,0:3], linestyle='--')    \n",
        "    plt.plot(prediction_df.iloc[:,0], color=gt_plt[0].get_color())\n",
        "    plt.plot(prediction_df.iloc[:,1], color=gt_plt[1].get_color())\n",
        "    plt.plot(prediction_df.iloc[:,2], color=gt_plt[2].get_color())    \n",
        "    plt.show()"
      ],
      "execution_count": 15,
      "outputs": []
    },
    {
      "cell_type": "code",
      "metadata": {
        "id": "B73IsczYrIc_",
        "colab": {
          "base_uri": "https://localhost:8080/",
          "height": 374
        },
        "outputId": "a20de22a-8170-42b1-8fcf-af72518976cd"
      },
      "source": [
        "show_prediction(date(2017, 1, 21))"
      ],
      "execution_count": 16,
      "outputs": [
        {
          "output_type": "display_data",
          "data": {
            "image/png": "[encoded data removed]",
            "text/plain": [
              "<Figure size 864x432 with 2 Axes>"
            ]
          },
          "metadata": {
            "needs_background": "light"
          }
        }
      ]
    },
    {
      "cell_type": "markdown",
      "metadata": {
        "id": "4a7KH_TvqleF"
      },
      "source": [
        "## Evaluation\n",
        "\n",
        "Let's evaluate against some baseline model (constant forecast)"
      ]
    },
    {
      "cell_type": "code",
      "metadata": {
        "id": "3W3V3chqqkje"
      },
      "source": [
        "from tqdm.notebook import tqdm\n",
        "\n",
        "def evaluate_one(prediction_date):\n",
        "    \n",
        "    history = testing_df[prediction_date - timedelta(days=HISTORY_LEN - 1): prediction_date]\n",
        "    prediction = predict(history)\n",
        "\n",
        "    ground_truth = testing_df[prediction_date + timedelta(days=1) : prediction_date + timedelta(days=PREDICTION_LEN)].values\n",
        "    baseline_prediction = np.tile(testing_df.loc[prediction_date:prediction_date], (PREDICTION_LEN, 1))\n",
        "\n",
        "    return (\n",
        "        np.sum((prediction[:,:3] - ground_truth[:,:3]) ** 2), \n",
        "        np.sum((baseline_prediction[:,:3] - ground_truth[:,:3]) ** 2)\n",
        "    )\n",
        "\n",
        "def evaluate_all():\n",
        "    baseline_error = 0\n",
        "    model_error = 0\n",
        "\n",
        "    for i in tqdm(range(2, 52)):\n",
        "        prediction_date = date(2016,12,31) + timedelta(days=i * PREDICTION_LEN)\n",
        "        model_e, baseline_e = evaluate_one(prediction_date)\n",
        "        model_error += model_e\n",
        "        baseline_error += baseline_e\n",
        "\n",
        "    return model_error, baseline_error"
      ],
      "execution_count": 17,
      "outputs": []
    },
    {
      "cell_type": "code",
      "metadata": {
        "colab": {
          "base_uri": "https://localhost:8080/",
          "height": 66,
          "referenced_widgets": [
            "8a92e94c628246b5b7105ca73d51decd",
            "5fe66bea8570430b851ca1ba60903fdc",
            "0dd0fc77a82949138c944a4b9692a94a",
            "a348436540114a6a9de09ce55deebf40",
            "5fa6ccc057d74b70a1f74bb314a811ea",
            "8fe82d801d9642d7a0377af26234c517",
            "36d64249738b4f8588c312787a552fcb",
            "88b184069d8044a58122a80185035dbb",
            "234c88c6facc4a8691b3e1d27ccf6dc2",
            "0c51eeab61e247c7abdeed93c584ef2e",
            "46ca5001aef54ca5a9066dcff25f6acb"
          ]
        },
        "id": "kVDLNCJO2v_A",
        "outputId": "f272e4e0-20c2-4ddc-ad77-d95df9a9eed4"
      },
      "source": [
        "evaluate_all()"
      ],
      "execution_count": 18,
      "outputs": [
        {
          "output_type": "display_data",
          "data": {
            "application/vnd.jupyter.widget-view+json": {
              "model_id": "8a92e94c628246b5b7105ca73d51decd",
              "version_minor": 0,
              "version_major": 2
            },
            "text/plain": [
              "  0%|          | 0/50 [00:00<?, ?it/s]"
            ]
          },
          "metadata": {}
        },
        {
          "output_type": "execute_result",
          "data": {
            "text/plain": [
              "(497.1973959596607, 696.5734687200461)"
            ]
          },
          "metadata": {},
          "execution_count": 18
        }
      ]
    },
    {
      "cell_type": "markdown",
      "metadata": {
        "id": "eml7h4gj4t_C"
      },
      "source": [
        "## Multiple Outputs\n",
        "\n",
        "To correctly handle this example, we should be training the network with multiple outputs as prediction of precipitation cannot be below zero."
      ]
    },
    {
      "cell_type": "code",
      "metadata": {
        "colab": {
          "base_uri": "https://localhost:8080/"
        },
        "id": "JJGkMNIC4OCn",
        "outputId": "d76d8b24-f696-41ab-a94f-1602e21578c5"
      },
      "source": [
        "ts_outputs_1 = np.array([ts_data[i + HISTORY_LEN: i + HISTORY_LEN + PREDICTION_LEN, 0:3] for i in indices]).reshape((NUM_SAMPLES, PREDICTION_LEN * 3))\n",
        "ts_outputs_2 = np.array([ts_data[i + HISTORY_LEN: i + HISTORY_LEN + PREDICTION_LEN, 3:4] for i in indices]).reshape((NUM_SAMPLES, PREDICTION_LEN))\n",
        "\n",
        "print(ts_outputs_1.shape)\n",
        "print(ts_outputs_2.shape)"
      ],
      "execution_count": 19,
      "outputs": [
        {
          "output_type": "stream",
          "name": "stdout",
          "text": [
            "(2000, 21)\n",
            "(2000, 7)\n"
          ]
        }
      ]
    },
    {
      "cell_type": "code",
      "metadata": {
        "colab": {
          "base_uri": "https://localhost:8080/"
        },
        "id": "sVk1ba1P5Yg4",
        "outputId": "85dc94fa-7318-41b5-d10d-ffbec947cbf2"
      },
      "source": [
        "from tensorflow.keras import Model\n",
        "from tensorflow.keras.layers import LSTM, GRU, Input, Dense\n",
        "\n",
        "inputs = Input(shape=ts_inputs.shape[1:])\n",
        "x = GRU(32, return_sequences=True)(inputs)\n",
        "x = GRU(16)(x)\n",
        "outputs_1 = Dense(PREDICTION_LEN * 3, activation='linear')(x)\n",
        "outputs_2 = Dense(PREDICTION_LEN, activation='relu')(x)\n",
        "\n",
        "model = Model(inputs, [outputs_1, outputs_2])\n",
        "model.compile(optimizer='adam', loss=['mse', 'mse'], loss_weights=[0.5, 1.0])\n",
        "model.summary()"
      ],
      "execution_count": 20,
      "outputs": [
        {
          "output_type": "stream",
          "name": "stdout",
          "text": [
            "Model: \"model_1\"\n",
            "__________________________________________________________________________________________________\n",
            "Layer (type)                    Output Shape         Param #     Connected to                     \n",
            "==================================================================================================\n",
            "input_2 (InputLayer)            [(None, 14, 6)]      0                                            \n",
            "__________________________________________________________________________________________________\n",
            "gru_2 (GRU)                     (None, 14, 32)       3840        input_2[0][0]                    \n",
            "__________________________________________________________________________________________________\n",
            "gru_3 (GRU)                     (None, 16)           2400        gru_2[0][0]                      \n",
            "__________________________________________________________________________________________________\n",
            "dense_1 (Dense)                 (None, 21)           357         gru_3[0][0]                      \n",
            "__________________________________________________________________________________________________\n",
            "dense_2 (Dense)                 (None, 7)            119         gru_3[0][0]                      \n",
            "==================================================================================================\n",
            "Total params: 6,716\n",
            "Trainable params: 6,716\n",
            "Non-trainable params: 0\n",
            "__________________________________________________________________________________________________\n"
          ]
        }
      ]
    },
    {
      "cell_type": "code",
      "metadata": {
        "id": "54CMHzKABlTg"
      },
      "source": [
        "def predict(inputs):    \n",
        "    p1, p2 = model.predict(inputs.values.reshape(1, HISTORY_LEN, NUM_INPUTS))    \n",
        "    return np.concatenate((\n",
        "        p1.reshape((PREDICTION_LEN, 3)),\n",
        "        p2.reshape((PREDICTION_LEN, 1))\n",
        "    ), axis=-1)"
      ],
      "execution_count": null,
      "outputs": []
    },
    {
      "cell_type": "code",
      "metadata": {
        "id": "79MXN-HW58ki"
      },
      "source": [
        "progress = model.fit(ts_inputs, [ts_outputs_1, ts_outputs_2], validation_split=0.1, epochs=100)"
      ],
      "execution_count": null,
      "outputs": []
    },
    {
      "cell_type": "code",
      "metadata": {
        "colab": {
          "base_uri": "https://localhost:8080/",
          "height": 320
        },
        "id": "U_UKQ0Pj6MJU",
        "outputId": "06d9d99d-de22-4136-e269-d87e3957899d"
      },
      "source": [
        "show_loss()"
      ],
      "execution_count": 22,
      "outputs": [
        {
          "output_type": "display_data",
          "data": {
            "image/png": "[encoded data removed]",
            "text/plain": [
              "<Figure size 1440x360 with 1 Axes>"
            ]
          },
          "metadata": {
            "needs_background": "light"
          }
        }
      ]
    },
    {
      "cell_type": "code",
      "metadata": {
        "colab": {
          "base_uri": "https://localhost:8080/",
          "height": 374
        },
        "id": "To1Kvc2YBIyN",
        "outputId": "eb65469e-833e-4d8c-b27b-6fc89e664562"
      },
      "source": [
        "show_prediction(date(2017, 1, 21))"
      ],
      "execution_count": 25,
      "outputs": [
        {
          "output_type": "display_data",
          "data": {
            "image/png": "[encoded data removed]",
            "text/plain": [
              "<Figure size 864x432 with 2 Axes>"
            ]
          },
          "metadata": {
            "needs_background": "light"
          }
        }
      ]
    },
    {
      "cell_type": "code",
      "metadata": {
        "colab": {
          "base_uri": "https://localhost:8080/",
          "height": 66,
          "referenced_widgets": [
            "76095c09630e4a54a3de38a149d0d086",
            "eb033816cd1844b691fd0bc5daf42888",
            "4a414e99ce6d458fb7cca9329b0b0542",
            "f1efd40d2b4b4609928c4dcea36538d7",
            "b5c393bd30874772885b3f653f73e3df",
            "6b66985fc4254dcf9dd1d8530ec6cd8f",
            "8c5a5a5f16c54f438540b400be6fab29",
            "24387287081741148f281f6fa71d814d",
            "685a4329ebbd4b70a0bb84d6b4c6a20d",
            "a5e420b748fb4a9db5a5d85220f50a10",
            "6394e403c1284a32ab06967c3cbbac7d"
          ]
        },
        "id": "Iti5qQGHBara",
        "outputId": "6610d3b6-8425-481c-a6f5-3e80a2a35376"
      },
      "source": [
        "evaluate_all()"
      ],
      "execution_count": 26,
      "outputs": [
        {
          "output_type": "display_data",
          "data": {
            "application/vnd.jupyter.widget-view+json": {
              "model_id": "76095c09630e4a54a3de38a149d0d086",
              "version_minor": 0,
              "version_major": 2
            },
            "text/plain": [
              "  0%|          | 0/50 [00:00<?, ?it/s]"
            ]
          },
          "metadata": {}
        },
        {
          "output_type": "execute_result",
          "data": {
            "text/plain": [
              "(558.9457758405725, 696.5734687200461)"
            ]
          },
          "metadata": {},
          "execution_count": 26
        }
      ]
    },
    {
      "cell_type": "markdown",
      "metadata": {
        "id": "g3grFn2KB74w"
      },
      "source": [
        "## Encoder-Decoder example\n",
        "\n",
        "Finally, let's see if we can make a better model for long-term prediction than the previous self-feeded +1 day. We are going to use the seq2seq model usually seen in machine-translation tasks (see https://keras.io/examples/lstm_seq2seq/)"
      ]
    },
    {
      "cell_type": "code",
      "metadata": {
        "colab": {
          "base_uri": "https://localhost:8080/"
        },
        "id": "43A9w8FjB-0b",
        "outputId": "89fee1cd-b8a8-4188-c773-6495de27514f"
      },
      "source": [
        "inputs = Input(shape=ts_inputs.shape[1:])\n",
        "_, states_h, states_c = LSTM(64, return_state=True)(inputs)\n",
        "encoder_states = [states_h, states_c]\n",
        "\n",
        "x = LSTM(64, return_sequences=True)(inputs, initial_state=encoder_states)\n",
        "outputs_1 = Dense(3, activation='linear')(x)\n",
        "outputs_2 = Dense(1, activation='relu')(x)\n",
        "\n",
        "model = Model(inputs, [outputs_1, outputs_2])\n",
        "model.compile(optimizer='adam', loss=['mse', 'mse'], loss_weights=[0.5, 1.0])\n",
        "model.summary()"
      ],
      "execution_count": 41,
      "outputs": [
        {
          "output_type": "stream",
          "name": "stdout",
          "text": [
            "Model: \"model_3\"\n",
            "__________________________________________________________________________________________________\n",
            "Layer (type)                    Output Shape         Param #     Connected to                     \n",
            "==================================================================================================\n",
            "input_4 (InputLayer)            [(None, 14, 6)]      0                                            \n",
            "__________________________________________________________________________________________________\n",
            "lstm_2 (LSTM)                   [(None, 64), (None,  18176       input_4[0][0]                    \n",
            "__________________________________________________________________________________________________\n",
            "lstm_3 (LSTM)                   (None, 14, 64)       18176       input_4[0][0]                    \n",
            "                                                                 lstm_2[0][1]                     \n",
            "                                                                 lstm_2[0][2]                     \n",
            "__________________________________________________________________________________________________\n",
            "dense_5 (Dense)                 (None, 14, 3)        195         lstm_3[0][0]                     \n",
            "__________________________________________________________________________________________________\n",
            "dense_6 (Dense)                 (None, 14, 1)        65          lstm_3[0][0]                     \n",
            "==================================================================================================\n",
            "Total params: 36,612\n",
            "Trainable params: 36,612\n",
            "Non-trainable params: 0\n",
            "__________________________________________________________________________________________________\n"
          ]
        }
      ]
    },
    {
      "cell_type": "code",
      "metadata": {
        "colab": {
          "base_uri": "https://localhost:8080/"
        },
        "id": "CysDck10CZ2o",
        "outputId": "e6c84c13-4d72-4909-bdfa-2a66c04181a0"
      },
      "source": [
        "indices = random.sample(range(0,len(training_df) - 2 * HISTORY_LEN), NUM_SAMPLES)\n",
        "random.shuffle(indices)\n",
        "\n",
        "ts_inputs = np.array([ts_data[i:i + HISTORY_LEN] for i in indices])\n",
        "ts_outputs_1 = np.array([ts_data[i + HISTORY_LEN: i + 2 * HISTORY_LEN, 0:3] for i in indices])\n",
        "ts_outputs_2 = np.array([ts_data[i + HISTORY_LEN: i + 2 * HISTORY_LEN, 3:4] for i in indices])\n",
        "\n",
        "print(ts_inputs.shape)\n",
        "print(ts_outputs_1.shape)\n",
        "print(ts_outputs_2.shape)"
      ],
      "execution_count": 42,
      "outputs": [
        {
          "output_type": "stream",
          "name": "stdout",
          "text": [
            "(2000, 14, 6)\n",
            "(2000, 14, 3)\n",
            "(2000, 14, 1)\n"
          ]
        }
      ]
    },
    {
      "cell_type": "code",
      "metadata": {
        "colab": {
          "base_uri": "https://localhost:8080/"
        },
        "id": "WNbCmtoWCz0M",
        "outputId": "513f3d0d-b8b6-4049-eb0d-b3fe1fadc3e6"
      },
      "source": [
        "progress = model.fit(ts_inputs, [ts_outputs_1, ts_outputs_2], validation_split=0.1, epochs=100)"
      ],
      "execution_count": 43,
      "outputs": [
        {
          "output_type": "stream",
          "name": "stdout",
          "text": [
            "Epoch 1/100\n",
            "57/57 [==============================] - 5s 30ms/step - loss: 0.3361 - dense_5_loss: 0.6202 - dense_6_loss: 0.0260 - val_loss: 0.2663 - val_dense_5_loss: 0.4853 - val_dense_6_loss: 0.0237\n",
            "Epoch 2/100\n",
            "57/57 [==============================] - 1s 13ms/step - loss: 0.2695 - dense_5_loss: 0.4887 - dense_6_loss: 0.0251 - val_loss: 0.2593 - val_dense_5_loss: 0.4696 - val_dense_6_loss: 0.0245\n",
            "Epoch 3/100\n",
            "57/57 [==============================] - 1s 14ms/step - loss: 0.2620 - dense_5_loss: 0.4740 - dense_6_loss: 0.0250 - val_loss: 0.2523 - val_dense_5_loss: 0.4571 - val_dense_6_loss: 0.0237\n",
            "Epoch 4/100\n",
            "57/57 [==============================] - 1s 14ms/step - loss: 0.2571 - dense_5_loss: 0.4650 - dense_6_loss: 0.0246 - val_loss: 0.2519 - val_dense_5_loss: 0.4565 - val_dense_6_loss: 0.0236\n",
            "Epoch 5/100\n",
            "57/57 [==============================] - 1s 14ms/step - loss: 0.2539 - dense_5_loss: 0.4587 - dense_6_loss: 0.0246 - val_loss: 0.2525 - val_dense_5_loss: 0.4583 - val_dense_6_loss: 0.0233\n",
            "Epoch 6/100\n",
            "57/57 [==============================] - 1s 14ms/step - loss: 0.2508 - dense_5_loss: 0.4534 - dense_6_loss: 0.0241 - val_loss: 0.2511 - val_dense_5_loss: 0.4552 - val_dense_6_loss: 0.0235\n",
            "Epoch 7/100\n",
            "57/57 [==============================] - 1s 14ms/step - loss: 0.2487 - dense_5_loss: 0.4493 - dense_6_loss: 0.0241 - val_loss: 0.2501 - val_dense_5_loss: 0.4538 - val_dense_6_loss: 0.0232\n",
            "Epoch 8/100\n",
            "57/57 [==============================] - 1s 14ms/step - loss: 0.2474 - dense_5_loss: 0.4469 - dense_6_loss: 0.0239 - val_loss: 0.2506 - val_dense_5_loss: 0.4539 - val_dense_6_loss: 0.0236\n",
            "Epoch 9/100\n",
            "57/57 [==============================] - 1s 14ms/step - loss: 0.2459 - dense_5_loss: 0.4443 - dense_6_loss: 0.0237 - val_loss: 0.2489 - val_dense_5_loss: 0.4519 - val_dense_6_loss: 0.0230\n",
            "Epoch 10/100\n",
            "57/57 [==============================] - 1s 14ms/step - loss: 0.2446 - dense_5_loss: 0.4422 - dense_6_loss: 0.0235 - val_loss: 0.2473 - val_dense_5_loss: 0.4474 - val_dense_6_loss: 0.0236\n",
            "Epoch 11/100\n",
            "57/57 [==============================] - 1s 14ms/step - loss: 0.2436 - dense_5_loss: 0.4398 - dense_6_loss: 0.0238 - val_loss: 0.2470 - val_dense_5_loss: 0.4479 - val_dense_6_loss: 0.0231\n",
            "Epoch 12/100\n",
            "57/57 [==============================] - 1s 14ms/step - loss: 0.2417 - dense_5_loss: 0.4363 - dense_6_loss: 0.0235 - val_loss: 0.2455 - val_dense_5_loss: 0.4455 - val_dense_6_loss: 0.0228\n",
            "Epoch 13/100\n",
            "57/57 [==============================] - 1s 14ms/step - loss: 0.2403 - dense_5_loss: 0.4340 - dense_6_loss: 0.0234 - val_loss: 0.2447 - val_dense_5_loss: 0.4428 - val_dense_6_loss: 0.0233\n",
            "Epoch 14/100\n",
            "57/57 [==============================] - 1s 14ms/step - loss: 0.2386 - dense_5_loss: 0.4304 - dense_6_loss: 0.0234 - val_loss: 0.2448 - val_dense_5_loss: 0.4435 - val_dense_6_loss: 0.0230\n",
            "Epoch 15/100\n",
            "57/57 [==============================] - 1s 14ms/step - loss: 0.2385 - dense_5_loss: 0.4302 - dense_6_loss: 0.0234 - val_loss: 0.2442 - val_dense_5_loss: 0.4420 - val_dense_6_loss: 0.0231\n",
            "Epoch 16/100\n",
            "57/57 [==============================] - 1s 14ms/step - loss: 0.2338 - dense_5_loss: 0.4212 - dense_6_loss: 0.0232 - val_loss: 0.2451 - val_dense_5_loss: 0.4444 - val_dense_6_loss: 0.0229\n",
            "Epoch 17/100\n",
            "57/57 [==============================] - 1s 14ms/step - loss: 0.2316 - dense_5_loss: 0.4170 - dense_6_loss: 0.0231 - val_loss: 0.2417 - val_dense_5_loss: 0.4379 - val_dense_6_loss: 0.0227\n",
            "Epoch 18/100\n",
            "57/57 [==============================] - 1s 15ms/step - loss: 0.2305 - dense_5_loss: 0.4152 - dense_6_loss: 0.0229 - val_loss: 0.2443 - val_dense_5_loss: 0.4438 - val_dense_6_loss: 0.0224\n",
            "Epoch 19/100\n",
            "57/57 [==============================] - 1s 15ms/step - loss: 0.2304 - dense_5_loss: 0.4151 - dense_6_loss: 0.0229 - val_loss: 0.2368 - val_dense_5_loss: 0.4280 - val_dense_6_loss: 0.0228\n",
            "Epoch 20/100\n",
            "57/57 [==============================] - 1s 14ms/step - loss: 0.2260 - dense_5_loss: 0.4061 - dense_6_loss: 0.0230 - val_loss: 0.2429 - val_dense_5_loss: 0.4403 - val_dense_6_loss: 0.0228\n",
            "Epoch 21/100\n",
            "57/57 [==============================] - 1s 14ms/step - loss: 0.2235 - dense_5_loss: 0.4016 - dense_6_loss: 0.0227 - val_loss: 0.2421 - val_dense_5_loss: 0.4388 - val_dense_6_loss: 0.0227\n",
            "Epoch 22/100\n",
            "57/57 [==============================] - 1s 15ms/step - loss: 0.2224 - dense_5_loss: 0.3994 - dense_6_loss: 0.0227 - val_loss: 0.2400 - val_dense_5_loss: 0.4340 - val_dense_6_loss: 0.0230\n",
            "Epoch 23/100\n",
            "57/57 [==============================] - 1s 14ms/step - loss: 0.2182 - dense_5_loss: 0.3908 - dense_6_loss: 0.0228 - val_loss: 0.2393 - val_dense_5_loss: 0.4336 - val_dense_6_loss: 0.0225\n",
            "Epoch 24/100\n",
            "57/57 [==============================] - 1s 14ms/step - loss: 0.2167 - dense_5_loss: 0.3885 - dense_6_loss: 0.0224 - val_loss: 0.2355 - val_dense_5_loss: 0.4258 - val_dense_6_loss: 0.0226\n",
            "Epoch 25/100\n",
            "57/57 [==============================] - 1s 14ms/step - loss: 0.2124 - dense_5_loss: 0.3801 - dense_6_loss: 0.0224 - val_loss: 0.2363 - val_dense_5_loss: 0.4254 - val_dense_6_loss: 0.0236\n",
            "Epoch 26/100\n",
            "57/57 [==============================] - 1s 14ms/step - loss: 0.2103 - dense_5_loss: 0.3755 - dense_6_loss: 0.0225 - val_loss: 0.2304 - val_dense_5_loss: 0.4160 - val_dense_6_loss: 0.0224\n",
            "Epoch 27/100\n",
            "57/57 [==============================] - 1s 14ms/step - loss: 0.2055 - dense_5_loss: 0.3666 - dense_6_loss: 0.0222 - val_loss: 0.2315 - val_dense_5_loss: 0.4182 - val_dense_6_loss: 0.0224\n",
            "Epoch 28/100\n",
            "57/57 [==============================] - 1s 14ms/step - loss: 0.2049 - dense_5_loss: 0.3652 - dense_6_loss: 0.0223 - val_loss: 0.2362 - val_dense_5_loss: 0.4273 - val_dense_6_loss: 0.0226\n",
            "Epoch 29/100\n",
            "57/57 [==============================] - 1s 14ms/step - loss: 0.1989 - dense_5_loss: 0.3539 - dense_6_loss: 0.0219 - val_loss: 0.2290 - val_dense_5_loss: 0.4126 - val_dense_6_loss: 0.0227\n",
            "Epoch 30/100\n",
            "57/57 [==============================] - 1s 14ms/step - loss: 0.1996 - dense_5_loss: 0.3552 - dense_6_loss: 0.0220 - val_loss: 0.2272 - val_dense_5_loss: 0.4085 - val_dense_6_loss: 0.0229\n",
            "Epoch 31/100\n",
            "57/57 [==============================] - 1s 14ms/step - loss: 0.1955 - dense_5_loss: 0.3474 - dense_6_loss: 0.0218 - val_loss: 0.2276 - val_dense_5_loss: 0.4088 - val_dense_6_loss: 0.0232\n",
            "Epoch 32/100\n",
            "57/57 [==============================] - 1s 14ms/step - loss: 0.1918 - dense_5_loss: 0.3398 - dense_6_loss: 0.0219 - val_loss: 0.2245 - val_dense_5_loss: 0.4036 - val_dense_6_loss: 0.0227\n",
            "Epoch 33/100\n",
            "57/57 [==============================] - 1s 14ms/step - loss: 0.1898 - dense_5_loss: 0.3361 - dense_6_loss: 0.0217 - val_loss: 0.2198 - val_dense_5_loss: 0.3940 - val_dense_6_loss: 0.0228\n",
            "Epoch 34/100\n",
            "57/57 [==============================] - 1s 14ms/step - loss: 0.1862 - dense_5_loss: 0.3293 - dense_6_loss: 0.0216 - val_loss: 0.2192 - val_dense_5_loss: 0.3929 - val_dense_6_loss: 0.0227\n",
            "Epoch 35/100\n",
            "57/57 [==============================] - 1s 13ms/step - loss: 0.1805 - dense_5_loss: 0.3184 - dense_6_loss: 0.0213 - val_loss: 0.2178 - val_dense_5_loss: 0.3891 - val_dense_6_loss: 0.0233\n",
            "Epoch 36/100\n",
            "57/57 [==============================] - 1s 13ms/step - loss: 0.1782 - dense_5_loss: 0.3136 - dense_6_loss: 0.0214 - val_loss: 0.2164 - val_dense_5_loss: 0.3876 - val_dense_6_loss: 0.0226\n",
            "Epoch 37/100\n",
            "57/57 [==============================] - 1s 13ms/step - loss: 0.1773 - dense_5_loss: 0.3128 - dense_6_loss: 0.0210 - val_loss: 0.2167 - val_dense_5_loss: 0.3873 - val_dense_6_loss: 0.0231\n",
            "Epoch 38/100\n",
            "57/57 [==============================] - 1s 14ms/step - loss: 0.1762 - dense_5_loss: 0.3099 - dense_6_loss: 0.0212 - val_loss: 0.2136 - val_dense_5_loss: 0.3811 - val_dense_6_loss: 0.0230\n",
            "Epoch 39/100\n",
            "57/57 [==============================] - 1s 14ms/step - loss: 0.1730 - dense_5_loss: 0.3039 - dense_6_loss: 0.0211 - val_loss: 0.2093 - val_dense_5_loss: 0.3721 - val_dense_6_loss: 0.0233\n",
            "Epoch 40/100\n",
            "57/57 [==============================] - 1s 14ms/step - loss: 0.1695 - dense_5_loss: 0.2969 - dense_6_loss: 0.0210 - val_loss: 0.2086 - val_dense_5_loss: 0.3720 - val_dense_6_loss: 0.0227\n",
            "Epoch 41/100\n",
            "57/57 [==============================] - 1s 13ms/step - loss: 0.1707 - dense_5_loss: 0.2994 - dense_6_loss: 0.0210 - val_loss: 0.2074 - val_dense_5_loss: 0.3692 - val_dense_6_loss: 0.0228\n",
            "Epoch 42/100\n",
            "57/57 [==============================] - 1s 13ms/step - loss: 0.1640 - dense_5_loss: 0.2864 - dense_6_loss: 0.0208 - val_loss: 0.2065 - val_dense_5_loss: 0.3678 - val_dense_6_loss: 0.0226\n",
            "Epoch 43/100\n",
            "57/57 [==============================] - 1s 13ms/step - loss: 0.1617 - dense_5_loss: 0.2821 - dense_6_loss: 0.0207 - val_loss: 0.2033 - val_dense_5_loss: 0.3607 - val_dense_6_loss: 0.0229\n",
            "Epoch 44/100\n",
            "57/57 [==============================] - 1s 14ms/step - loss: 0.1597 - dense_5_loss: 0.2781 - dense_6_loss: 0.0207 - val_loss: 0.2093 - val_dense_5_loss: 0.3729 - val_dense_6_loss: 0.0228\n",
            "Epoch 45/100\n",
            "57/57 [==============================] - 1s 13ms/step - loss: 0.1574 - dense_5_loss: 0.2739 - dense_6_loss: 0.0205 - val_loss: 0.2015 - val_dense_5_loss: 0.3576 - val_dense_6_loss: 0.0227\n",
            "Epoch 46/100\n",
            "57/57 [==============================] - 1s 14ms/step - loss: 0.1539 - dense_5_loss: 0.2670 - dense_6_loss: 0.0204 - val_loss: 0.2040 - val_dense_5_loss: 0.3628 - val_dense_6_loss: 0.0226\n",
            "Epoch 47/100\n",
            "57/57 [==============================] - 1s 13ms/step - loss: 0.1518 - dense_5_loss: 0.2629 - dense_6_loss: 0.0204 - val_loss: 0.2038 - val_dense_5_loss: 0.3623 - val_dense_6_loss: 0.0226\n",
            "Epoch 48/100\n",
            "57/57 [==============================] - 1s 13ms/step - loss: 0.1492 - dense_5_loss: 0.2580 - dense_6_loss: 0.0202 - val_loss: 0.2034 - val_dense_5_loss: 0.3613 - val_dense_6_loss: 0.0228\n",
            "Epoch 49/100\n",
            "57/57 [==============================] - 1s 14ms/step - loss: 0.1504 - dense_5_loss: 0.2603 - dense_6_loss: 0.0203 - val_loss: 0.2066 - val_dense_5_loss: 0.3682 - val_dense_6_loss: 0.0225\n",
            "Epoch 50/100\n",
            "57/57 [==============================] - 1s 14ms/step - loss: 0.1469 - dense_5_loss: 0.2534 - dense_6_loss: 0.0202 - val_loss: 0.2038 - val_dense_5_loss: 0.3616 - val_dense_6_loss: 0.0230\n",
            "Epoch 51/100\n",
            "57/57 [==============================] - 1s 13ms/step - loss: 0.1445 - dense_5_loss: 0.2486 - dense_6_loss: 0.0202 - val_loss: 0.2007 - val_dense_5_loss: 0.3559 - val_dense_6_loss: 0.0227\n",
            "Epoch 52/100\n",
            "57/57 [==============================] - 1s 13ms/step - loss: 0.1419 - dense_5_loss: 0.2439 - dense_6_loss: 0.0200 - val_loss: 0.2007 - val_dense_5_loss: 0.3563 - val_dense_6_loss: 0.0226\n",
            "Epoch 53/100\n",
            "57/57 [==============================] - 1s 13ms/step - loss: 0.1423 - dense_5_loss: 0.2448 - dense_6_loss: 0.0199 - val_loss: 0.2072 - val_dense_5_loss: 0.3698 - val_dense_6_loss: 0.0223\n",
            "Epoch 54/100\n",
            "57/57 [==============================] - 1s 14ms/step - loss: 0.1394 - dense_5_loss: 0.2388 - dense_6_loss: 0.0200 - val_loss: 0.2036 - val_dense_5_loss: 0.3621 - val_dense_6_loss: 0.0225\n",
            "Epoch 55/100\n",
            "57/57 [==============================] - 1s 13ms/step - loss: 0.1395 - dense_5_loss: 0.2394 - dense_6_loss: 0.0198 - val_loss: 0.1981 - val_dense_5_loss: 0.3520 - val_dense_6_loss: 0.0221\n",
            "Epoch 56/100\n",
            "57/57 [==============================] - 1s 13ms/step - loss: 0.1357 - dense_5_loss: 0.2318 - dense_6_loss: 0.0197 - val_loss: 0.1994 - val_dense_5_loss: 0.3540 - val_dense_6_loss: 0.0224\n",
            "Epoch 57/100\n",
            "57/57 [==============================] - 1s 14ms/step - loss: 0.1343 - dense_5_loss: 0.2287 - dense_6_loss: 0.0199 - val_loss: 0.1990 - val_dense_5_loss: 0.3539 - val_dense_6_loss: 0.0220\n",
            "Epoch 58/100\n",
            "57/57 [==============================] - 1s 13ms/step - loss: 0.1315 - dense_5_loss: 0.2241 - dense_6_loss: 0.0194 - val_loss: 0.1985 - val_dense_5_loss: 0.3523 - val_dense_6_loss: 0.0224\n",
            "Epoch 59/100\n",
            "57/57 [==============================] - 1s 13ms/step - loss: 0.1286 - dense_5_loss: 0.2185 - dense_6_loss: 0.0194 - val_loss: 0.2007 - val_dense_5_loss: 0.3569 - val_dense_6_loss: 0.0223\n",
            "Epoch 60/100\n",
            "57/57 [==============================] - 1s 13ms/step - loss: 0.1282 - dense_5_loss: 0.2175 - dense_6_loss: 0.0194 - val_loss: 0.1970 - val_dense_5_loss: 0.3500 - val_dense_6_loss: 0.0220\n",
            "Epoch 61/100\n",
            "57/57 [==============================] - 1s 14ms/step - loss: 0.1272 - dense_5_loss: 0.2159 - dense_6_loss: 0.0193 - val_loss: 0.1977 - val_dense_5_loss: 0.3514 - val_dense_6_loss: 0.0221\n",
            "Epoch 62/100\n",
            "57/57 [==============================] - 1s 13ms/step - loss: 0.1275 - dense_5_loss: 0.2167 - dense_6_loss: 0.0191 - val_loss: 0.1944 - val_dense_5_loss: 0.3449 - val_dense_6_loss: 0.0219\n",
            "Epoch 63/100\n",
            "57/57 [==============================] - 1s 14ms/step - loss: 0.1257 - dense_5_loss: 0.2130 - dense_6_loss: 0.0192 - val_loss: 0.1948 - val_dense_5_loss: 0.3455 - val_dense_6_loss: 0.0220\n",
            "Epoch 64/100\n",
            "57/57 [==============================] - 1s 14ms/step - loss: 0.1233 - dense_5_loss: 0.2087 - dense_6_loss: 0.0190 - val_loss: 0.1968 - val_dense_5_loss: 0.3498 - val_dense_6_loss: 0.0219\n",
            "Epoch 65/100\n",
            "57/57 [==============================] - 1s 13ms/step - loss: 0.1212 - dense_5_loss: 0.2044 - dense_6_loss: 0.0190 - val_loss: 0.1997 - val_dense_5_loss: 0.3551 - val_dense_6_loss: 0.0222\n",
            "Epoch 66/100\n",
            "57/57 [==============================] - 1s 13ms/step - loss: 0.1201 - dense_5_loss: 0.2023 - dense_6_loss: 0.0190 - val_loss: 0.1958 - val_dense_5_loss: 0.3476 - val_dense_6_loss: 0.0220\n",
            "Epoch 67/100\n",
            "57/57 [==============================] - 1s 14ms/step - loss: 0.1179 - dense_5_loss: 0.1983 - dense_6_loss: 0.0188 - val_loss: 0.1925 - val_dense_5_loss: 0.3418 - val_dense_6_loss: 0.0216\n",
            "Epoch 68/100\n",
            "57/57 [==============================] - 1s 13ms/step - loss: 0.1169 - dense_5_loss: 0.1966 - dense_6_loss: 0.0187 - val_loss: 0.1918 - val_dense_5_loss: 0.3406 - val_dense_6_loss: 0.0215\n",
            "Epoch 69/100\n",
            "57/57 [==============================] - 1s 13ms/step - loss: 0.1175 - dense_5_loss: 0.1975 - dense_6_loss: 0.0188 - val_loss: 0.1952 - val_dense_5_loss: 0.3463 - val_dense_6_loss: 0.0221\n",
            "Epoch 70/100\n",
            "57/57 [==============================] - 1s 14ms/step - loss: 0.1236 - dense_5_loss: 0.2094 - dense_6_loss: 0.0189 - val_loss: 0.1898 - val_dense_5_loss: 0.3356 - val_dense_6_loss: 0.0220\n",
            "Epoch 71/100\n",
            "57/57 [==============================] - 1s 14ms/step - loss: 0.1159 - dense_5_loss: 0.1943 - dense_6_loss: 0.0188 - val_loss: 0.1896 - val_dense_5_loss: 0.3360 - val_dense_6_loss: 0.0216\n",
            "Epoch 72/100\n",
            "57/57 [==============================] - 1s 13ms/step - loss: 0.1134 - dense_5_loss: 0.1896 - dense_6_loss: 0.0186 - val_loss: 0.1912 - val_dense_5_loss: 0.3402 - val_dense_6_loss: 0.0211\n",
            "Epoch 73/100\n",
            "57/57 [==============================] - 1s 14ms/step - loss: 0.1131 - dense_5_loss: 0.1890 - dense_6_loss: 0.0186 - val_loss: 0.1896 - val_dense_5_loss: 0.3368 - val_dense_6_loss: 0.0212\n",
            "Epoch 74/100\n",
            "57/57 [==============================] - 1s 13ms/step - loss: 0.1114 - dense_5_loss: 0.1861 - dense_6_loss: 0.0184 - val_loss: 0.1915 - val_dense_5_loss: 0.3395 - val_dense_6_loss: 0.0218\n",
            "Epoch 75/100\n",
            "57/57 [==============================] - 1s 14ms/step - loss: 0.1089 - dense_5_loss: 0.1813 - dense_6_loss: 0.0182 - val_loss: 0.1940 - val_dense_5_loss: 0.3457 - val_dense_6_loss: 0.0212\n",
            "Epoch 76/100\n",
            "57/57 [==============================] - 1s 13ms/step - loss: 0.1092 - dense_5_loss: 0.1819 - dense_6_loss: 0.0182 - val_loss: 0.1890 - val_dense_5_loss: 0.3351 - val_dense_6_loss: 0.0215\n",
            "Epoch 77/100\n",
            "57/57 [==============================] - 1s 13ms/step - loss: 0.1076 - dense_5_loss: 0.1788 - dense_6_loss: 0.0182 - val_loss: 0.1893 - val_dense_5_loss: 0.3362 - val_dense_6_loss: 0.0212\n",
            "Epoch 78/100\n",
            "57/57 [==============================] - 1s 13ms/step - loss: 0.1057 - dense_5_loss: 0.1756 - dense_6_loss: 0.0180 - val_loss: 0.1900 - val_dense_5_loss: 0.3386 - val_dense_6_loss: 0.0208\n",
            "Epoch 79/100\n",
            "57/57 [==============================] - 1s 14ms/step - loss: 0.1062 - dense_5_loss: 0.1765 - dense_6_loss: 0.0180 - val_loss: 0.1886 - val_dense_5_loss: 0.3350 - val_dense_6_loss: 0.0211\n",
            "Epoch 80/100\n",
            "57/57 [==============================] - 1s 14ms/step - loss: 0.1054 - dense_5_loss: 0.1751 - dense_6_loss: 0.0179 - val_loss: 0.1957 - val_dense_5_loss: 0.3498 - val_dense_6_loss: 0.0208\n",
            "Epoch 81/100\n",
            "57/57 [==============================] - 1s 14ms/step - loss: 0.1048 - dense_5_loss: 0.1736 - dense_6_loss: 0.0180 - val_loss: 0.1897 - val_dense_5_loss: 0.3377 - val_dense_6_loss: 0.0209\n",
            "Epoch 82/100\n",
            "57/57 [==============================] - 1s 14ms/step - loss: 0.1038 - dense_5_loss: 0.1719 - dense_6_loss: 0.0179 - val_loss: 0.1923 - val_dense_5_loss: 0.3426 - val_dense_6_loss: 0.0210\n",
            "Epoch 83/100\n",
            "57/57 [==============================] - 1s 13ms/step - loss: 0.1010 - dense_5_loss: 0.1667 - dense_6_loss: 0.0176 - val_loss: 0.1895 - val_dense_5_loss: 0.3368 - val_dense_6_loss: 0.0211\n",
            "Epoch 84/100\n",
            "57/57 [==============================] - 1s 15ms/step - loss: 0.1006 - dense_5_loss: 0.1661 - dense_6_loss: 0.0176 - val_loss: 0.1848 - val_dense_5_loss: 0.3279 - val_dense_6_loss: 0.0209\n",
            "Epoch 85/100\n",
            "57/57 [==============================] - 1s 14ms/step - loss: 0.0991 - dense_5_loss: 0.1632 - dense_6_loss: 0.0175 - val_loss: 0.1851 - val_dense_5_loss: 0.3279 - val_dense_6_loss: 0.0211\n",
            "Epoch 86/100\n",
            "57/57 [==============================] - 1s 14ms/step - loss: 0.1036 - dense_5_loss: 0.1720 - dense_6_loss: 0.0176 - val_loss: 0.1865 - val_dense_5_loss: 0.3321 - val_dense_6_loss: 0.0205\n",
            "Epoch 87/100\n",
            "57/57 [==============================] - 1s 14ms/step - loss: 0.1013 - dense_5_loss: 0.1669 - dense_6_loss: 0.0178 - val_loss: 0.1847 - val_dense_5_loss: 0.3276 - val_dense_6_loss: 0.0209\n",
            "Epoch 88/100\n",
            "57/57 [==============================] - 1s 14ms/step - loss: 0.0981 - dense_5_loss: 0.1620 - dense_6_loss: 0.0172 - val_loss: 0.1899 - val_dense_5_loss: 0.3387 - val_dense_6_loss: 0.0205\n",
            "Epoch 89/100\n",
            "57/57 [==============================] - 1s 13ms/step - loss: 0.0986 - dense_5_loss: 0.1619 - dense_6_loss: 0.0176 - val_loss: 0.1837 - val_dense_5_loss: 0.3269 - val_dense_6_loss: 0.0203\n",
            "Epoch 90/100\n",
            "57/57 [==============================] - 1s 14ms/step - loss: 0.0954 - dense_5_loss: 0.1564 - dense_6_loss: 0.0172 - val_loss: 0.1848 - val_dense_5_loss: 0.3285 - val_dense_6_loss: 0.0205\n",
            "Epoch 91/100\n",
            "57/57 [==============================] - 1s 14ms/step - loss: 0.0946 - dense_5_loss: 0.1552 - dense_6_loss: 0.0170 - val_loss: 0.1876 - val_dense_5_loss: 0.3337 - val_dense_6_loss: 0.0207\n",
            "Epoch 92/100\n",
            "57/57 [==============================] - 1s 14ms/step - loss: 0.0937 - dense_5_loss: 0.1535 - dense_6_loss: 0.0170 - val_loss: 0.1838 - val_dense_5_loss: 0.3261 - val_dense_6_loss: 0.0207\n",
            "Epoch 93/100\n",
            "57/57 [==============================] - 1s 13ms/step - loss: 0.0940 - dense_5_loss: 0.1539 - dense_6_loss: 0.0171 - val_loss: 0.1909 - val_dense_5_loss: 0.3400 - val_dense_6_loss: 0.0209\n",
            "Epoch 94/100\n",
            "57/57 [==============================] - 1s 13ms/step - loss: 0.0922 - dense_5_loss: 0.1507 - dense_6_loss: 0.0169 - val_loss: 0.1896 - val_dense_5_loss: 0.3381 - val_dense_6_loss: 0.0206\n",
            "Epoch 95/100\n",
            "57/57 [==============================] - 1s 14ms/step - loss: 0.0924 - dense_5_loss: 0.1512 - dense_6_loss: 0.0168 - val_loss: 0.1879 - val_dense_5_loss: 0.3350 - val_dense_6_loss: 0.0203\n",
            "Epoch 96/100\n",
            "57/57 [==============================] - 1s 13ms/step - loss: 0.0931 - dense_5_loss: 0.1524 - dense_6_loss: 0.0169 - val_loss: 0.1861 - val_dense_5_loss: 0.3297 - val_dense_6_loss: 0.0212\n",
            "Epoch 97/100\n",
            "57/57 [==============================] - 1s 14ms/step - loss: 0.0944 - dense_5_loss: 0.1546 - dense_6_loss: 0.0171 - val_loss: 0.1884 - val_dense_5_loss: 0.3360 - val_dense_6_loss: 0.0205\n",
            "Epoch 98/100\n",
            "57/57 [==============================] - 1s 14ms/step - loss: 0.0910 - dense_5_loss: 0.1489 - dense_6_loss: 0.0166 - val_loss: 0.1854 - val_dense_5_loss: 0.3301 - val_dense_6_loss: 0.0204\n",
            "Epoch 99/100\n",
            "57/57 [==============================] - 1s 14ms/step - loss: 0.0905 - dense_5_loss: 0.1476 - dense_6_loss: 0.0167 - val_loss: 0.1863 - val_dense_5_loss: 0.3324 - val_dense_6_loss: 0.0201\n",
            "Epoch 100/100\n",
            "57/57 [==============================] - 1s 14ms/step - loss: 0.0881 - dense_5_loss: 0.1433 - dense_6_loss: 0.0165 - val_loss: 0.1827 - val_dense_5_loss: 0.3245 - val_dense_6_loss: 0.0205\n"
          ]
        }
      ]
    },
    {
      "cell_type": "code",
      "metadata": {
        "colab": {
          "base_uri": "https://localhost:8080/",
          "height": 320
        },
        "id": "TzI9dLwEDZr_",
        "outputId": "47eb3d9b-7eae-431e-81ea-ff6ac60cf121"
      },
      "source": [
        "show_loss()"
      ],
      "execution_count": 44,
      "outputs": [
        {
          "output_type": "display_data",
          "data": {
            "image/png": "[encoded data removed]",
            "text/plain": [
              "<Figure size 1440x360 with 1 Axes>"
            ]
          },
          "metadata": {
            "needs_background": "light"
          }
        }
      ]
    },
    {
      "cell_type": "code",
      "metadata": {
        "id": "-xtSQe1TDF0K"
      },
      "source": [
        "def predict(inputs):    \n",
        "    p1, p2 = model.predict(inputs.values.reshape(1, HISTORY_LEN, NUM_INPUTS))    \n",
        "    return np.concatenate((\n",
        "        p1.reshape((HISTORY_LEN, 3)),\n",
        "        p2.reshape((HISTORY_LEN, 1))\n",
        "    ), axis=-1)[:PREDICTION_LEN,:]"
      ],
      "execution_count": 45,
      "outputs": []
    },
    {
      "cell_type": "code",
      "metadata": {
        "colab": {
          "base_uri": "https://localhost:8080/",
          "height": 374
        },
        "id": "UHSCXQArDuww",
        "outputId": "f7fc6e8f-afa6-49db-9880-76f50b41d81a"
      },
      "source": [
        "show_prediction(date(2017, 1, 21))"
      ],
      "execution_count": 46,
      "outputs": [
        {
          "output_type": "display_data",
          "data": {
            "image/png": "[encoded data removed]",
            "text/plain": [
              "<Figure size 864x432 with 2 Axes>"
            ]
          },
          "metadata": {
            "needs_background": "light"
          }
        }
      ]
    },
    {
      "cell_type": "code",
      "metadata": {
        "colab": {
          "base_uri": "https://localhost:8080/",
          "height": 66,
          "referenced_widgets": [
            "792380862a0b48338efac9b1eb6cc49d",
            "7d483004f7454e58bfb8d3164fc616f8",
            "edb74e3ef2a9490e9fced163bf00fd18",
            "48921903d72e453cb16ec667f1e6787e",
            "fe5ab2a29d244c5ab4bbda1760a802d6",
            "0f8def9aa3524fcfb646d75290f316e0",
            "07f77fc540af4872ba460f8ff8ec3acc",
            "1c9563e84bc24eb3b2cf70b6e4374c25",
            "506c56e7fd9f49268c78c1292455514f",
            "8c5c886cf3a040a2af6ff74f43dbfcb9",
            "fc0372c838204a8db6465c497a6ddea9"
          ]
        },
        "id": "fI-PLw4MD03b",
        "outputId": "467c7c4c-56f4-49da-859b-fdce239869d2"
      },
      "source": [
        "evaluate_all()"
      ],
      "execution_count": 47,
      "outputs": [
        {
          "output_type": "display_data",
          "data": {
            "application/vnd.jupyter.widget-view+json": {
              "model_id": "792380862a0b48338efac9b1eb6cc49d",
              "version_minor": 0,
              "version_major": 2
            },
            "text/plain": [
              "  0%|          | 0/50 [00:00<?, ?it/s]"
            ]
          },
          "metadata": {}
        },
        {
          "output_type": "execute_result",
          "data": {
            "text/plain": [
              "(559.4239663862238, 696.5734687200461)"
            ]
          },
          "metadata": {},
          "execution_count": 47
        }
      ]
    }
  ]
}