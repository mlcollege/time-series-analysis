{
  "nbformat": 4,
  "nbformat_minor": 0,
  "metadata": {
    "accelerator": "GPU",
    "colab": {
      "provenance": [],
      "collapsed_sections": []
    },
    "kernelspec": {
      "display_name": "Python 3",
      "name": "python3"
    },
    "widgets": {
      "application/vnd.jupyter.widget-state+json": {
        "614a02d31b1b47619317ae53462f237f": {
          "model_module": "@jupyter-widgets/controls",
          "model_name": "HBoxModel",
          "model_module_version": "1.5.0",
          "state": {
            "_dom_classes": [],
            "_model_module": "@jupyter-widgets/controls",
            "_model_module_version": "1.5.0",
            "_model_name": "HBoxModel",
            "_view_count": null,
            "_view_module": "@jupyter-widgets/controls",
            "_view_module_version": "1.5.0",
            "_view_name": "HBoxView",
            "box_style": "",
            "children": [
              "IPY_MODEL_21e0c43cc2eb42c0a4a53705ecea65f2",
              "IPY_MODEL_ee681288fac04c36af24606eeca0d272",
              "IPY_MODEL_b30913262d2d4bfa82e55e1160f41283"
            ],
            "layout": "IPY_MODEL_78f4cddac5a945728d74adf1f81c7225"
          }
        },
        "21e0c43cc2eb42c0a4a53705ecea65f2": {
          "model_module": "@jupyter-widgets/controls",
          "model_name": "HTMLModel",
          "model_module_version": "1.5.0",
          "state": {
            "_dom_classes": [],
            "_model_module": "@jupyter-widgets/controls",
            "_model_module_version": "1.5.0",
            "_model_name": "HTMLModel",
            "_view_count": null,
            "_view_module": "@jupyter-widgets/controls",
            "_view_module_version": "1.5.0",
            "_view_name": "HTMLView",
            "description": "",
            "description_tooltip": null,
            "layout": "IPY_MODEL_741e6f1f9bc646fe8aff3fffd87db597",
            "placeholder": "​",
            "style": "IPY_MODEL_e76a68edfbfb4a25a2ff569043eda763",
            "value": "100%"
          }
        },
        "ee681288fac04c36af24606eeca0d272": {
          "model_module": "@jupyter-widgets/controls",
          "model_name": "FloatProgressModel",
          "model_module_version": "1.5.0",
          "state": {
            "_dom_classes": [],
            "_model_module": "@jupyter-widgets/controls",
            "_model_module_version": "1.5.0",
            "_model_name": "FloatProgressModel",
            "_view_count": null,
            "_view_module": "@jupyter-widgets/controls",
            "_view_module_version": "1.5.0",
            "_view_name": "ProgressView",
            "bar_style": "success",
            "description": "",
            "description_tooltip": null,
            "layout": "IPY_MODEL_9af5dcdc9c484128b8a52cd1b450be2c",
            "max": 16,
            "min": 0,
            "orientation": "horizontal",
            "style": "IPY_MODEL_c71de495b6454325b97ffc42d8974107",
            "value": 16
          }
        },
        "b30913262d2d4bfa82e55e1160f41283": {
          "model_module": "@jupyter-widgets/controls",
          "model_name": "HTMLModel",
          "model_module_version": "1.5.0",
          "state": {
            "_dom_classes": [],
            "_model_module": "@jupyter-widgets/controls",
            "_model_module_version": "1.5.0",
            "_model_name": "HTMLModel",
            "_view_count": null,
            "_view_module": "@jupyter-widgets/controls",
            "_view_module_version": "1.5.0",
            "_view_name": "HTMLView",
            "description": "",
            "description_tooltip": null,
            "layout": "IPY_MODEL_41d5b06bfe1b456b9bd0254eb93ab627",
            "placeholder": "​",
            "style": "IPY_MODEL_0aa480bf657d4699b536658fd5f6a99d",
            "value": " 16/16 [00:03&lt;00:00,  4.81it/s]"
          }
        },
        "78f4cddac5a945728d74adf1f81c7225": {
          "model_module": "@jupyter-widgets/base",
          "model_name": "LayoutModel",
          "model_module_version": "1.2.0",
          "state": {
            "_model_module": "@jupyter-widgets/base",
            "_model_module_version": "1.2.0",
            "_model_name": "LayoutModel",
            "_view_count": null,
            "_view_module": "@jupyter-widgets/base",
            "_view_module_version": "1.2.0",
            "_view_name": "LayoutView",
            "align_content": null,
            "align_items": null,
            "align_self": null,
            "border": null,
            "bottom": null,
            "display": null,
            "flex": null,
            "flex_flow": null,
            "grid_area": null,
            "grid_auto_columns": null,
            "grid_auto_flow": null,
            "grid_auto_rows": null,
            "grid_column": null,
            "grid_gap": null,
            "grid_row": null,
            "grid_template_areas": null,
            "grid_template_columns": null,
            "grid_template_rows": null,
            "height": null,
            "justify_content": null,
            "justify_items": null,
            "left": null,
            "margin": null,
            "max_height": null,
            "max_width": null,
            "min_height": null,
            "min_width": null,
            "object_fit": null,
            "object_position": null,
            "order": null,
            "overflow": null,
            "overflow_x": null,
            "overflow_y": null,
            "padding": null,
            "right": null,
            "top": null,
            "visibility": null,
            "width": null
          }
        },
        "741e6f1f9bc646fe8aff3fffd87db597": {
          "model_module": "@jupyter-widgets/base",
          "model_name": "LayoutModel",
          "model_module_version": "1.2.0",
          "state": {
            "_model_module": "@jupyter-widgets/base",
            "_model_module_version": "1.2.0",
            "_model_name": "LayoutModel",
            "_view_count": null,
            "_view_module": "@jupyter-widgets/base",
            "_view_module_version": "1.2.0",
            "_view_name": "LayoutView",
            "align_content": null,
            "align_items": null,
            "align_self": null,
            "border": null,
            "bottom": null,
            "display": null,
            "flex": null,
            "flex_flow": null,
            "grid_area": null,
            "grid_auto_columns": null,
            "grid_auto_flow": null,
            "grid_auto_rows": null,
            "grid_column": null,
            "grid_gap": null,
            "grid_row": null,
            "grid_template_areas": null,
            "grid_template_columns": null,
            "grid_template_rows": null,
            "height": null,
            "justify_content": null,
            "justify_items": null,
            "left": null,
            "margin": null,
            "max_height": null,
            "max_width": null,
            "min_height": null,
            "min_width": null,
            "object_fit": null,
            "object_position": null,
            "order": null,
            "overflow": null,
            "overflow_x": null,
            "overflow_y": null,
            "padding": null,
            "right": null,
            "top": null,
            "visibility": null,
            "width": null
          }
        },
        "e76a68edfbfb4a25a2ff569043eda763": {
          "model_module": "@jupyter-widgets/controls",
          "model_name": "DescriptionStyleModel",
          "model_module_version": "1.5.0",
          "state": {
            "_model_module": "@jupyter-widgets/controls",
            "_model_module_version": "1.5.0",
            "_model_name": "DescriptionStyleModel",
            "_view_count": null,
            "_view_module": "@jupyter-widgets/base",
            "_view_module_version": "1.2.0",
            "_view_name": "StyleView",
            "description_width": ""
          }
        },
        "9af5dcdc9c484128b8a52cd1b450be2c": {
          "model_module": "@jupyter-widgets/base",
          "model_name": "LayoutModel",
          "model_module_version": "1.2.0",
          "state": {
            "_model_module": "@jupyter-widgets/base",
            "_model_module_version": "1.2.0",
            "_model_name": "LayoutModel",
            "_view_count": null,
            "_view_module": "@jupyter-widgets/base",
            "_view_module_version": "1.2.0",
            "_view_name": "LayoutView",
            "align_content": null,
            "align_items": null,
            "align_self": null,
            "border": null,
            "bottom": null,
            "display": null,
            "flex": null,
            "flex_flow": null,
            "grid_area": null,
            "grid_auto_columns": null,
            "grid_auto_flow": null,
            "grid_auto_rows": null,
            "grid_column": null,
            "grid_gap": null,
            "grid_row": null,
            "grid_template_areas": null,
            "grid_template_columns": null,
            "grid_template_rows": null,
            "height": null,
            "justify_content": null,
            "justify_items": null,
            "left": null,
            "margin": null,
            "max_height": null,
            "max_width": null,
            "min_height": null,
            "min_width": null,
            "object_fit": null,
            "object_position": null,
            "order": null,
            "overflow": null,
            "overflow_x": null,
            "overflow_y": null,
            "padding": null,
            "right": null,
            "top": null,
            "visibility": null,
            "width": null
          }
        },
        "c71de495b6454325b97ffc42d8974107": {
          "model_module": "@jupyter-widgets/controls",
          "model_name": "ProgressStyleModel",
          "model_module_version": "1.5.0",
          "state": {
            "_model_module": "@jupyter-widgets/controls",
            "_model_module_version": "1.5.0",
            "_model_name": "ProgressStyleModel",
            "_view_count": null,
            "_view_module": "@jupyter-widgets/base",
            "_view_module_version": "1.2.0",
            "_view_name": "StyleView",
            "bar_color": null,
            "description_width": ""
          }
        },
        "41d5b06bfe1b456b9bd0254eb93ab627": {
          "model_module": "@jupyter-widgets/base",
          "model_name": "LayoutModel",
          "model_module_version": "1.2.0",
          "state": {
            "_model_module": "@jupyter-widgets/base",
            "_model_module_version": "1.2.0",
            "_model_name": "LayoutModel",
            "_view_count": null,
            "_view_module": "@jupyter-widgets/base",
            "_view_module_version": "1.2.0",
            "_view_name": "LayoutView",
            "align_content": null,
            "align_items": null,
            "align_self": null,
            "border": null,
            "bottom": null,
            "display": null,
            "flex": null,
            "flex_flow": null,
            "grid_area": null,
            "grid_auto_columns": null,
            "grid_auto_flow": null,
            "grid_auto_rows": null,
            "grid_column": null,
            "grid_gap": null,
            "grid_row": null,
            "grid_template_areas": null,
            "grid_template_columns": null,
            "grid_template_rows": null,
            "height": null,
            "justify_content": null,
            "justify_items": null,
            "left": null,
            "margin": null,
            "max_height": null,
            "max_width": null,
            "min_height": null,
            "min_width": null,
            "object_fit": null,
            "object_position": null,
            "order": null,
            "overflow": null,
            "overflow_x": null,
            "overflow_y": null,
            "padding": null,
            "right": null,
            "top": null,
            "visibility": null,
            "width": null
          }
        },
        "0aa480bf657d4699b536658fd5f6a99d": {
          "model_module": "@jupyter-widgets/controls",
          "model_name": "DescriptionStyleModel",
          "model_module_version": "1.5.0",
          "state": {
            "_model_module": "@jupyter-widgets/controls",
            "_model_module_version": "1.5.0",
            "_model_name": "DescriptionStyleModel",
            "_view_count": null,
            "_view_module": "@jupyter-widgets/base",
            "_view_module_version": "1.2.0",
            "_view_name": "StyleView",
            "description_width": ""
          }
        }
      }
    }
  },
  "cells": [
    {
      "cell_type": "markdown",
      "metadata": {
        "id": "0GNSwmDow_u4"
      },
      "source": [
        "# Classification of human activity from motion sensor data"
      ]
    },
    {
      "cell_type": "markdown",
      "metadata": {
        "id": "ZRlKTSk7xAk7"
      },
      "source": [
        "## Description"
      ]
    },
    {
      "cell_type": "markdown",
      "metadata": {
        "id": "slw6UNsKvrqJ"
      },
      "source": [
        "This dataset includes time-series data generated by accelerometer and gyroscope sensors (attitude, gravity, userAcceleration, and rotationRate). \n",
        "\n",
        "- Data was collected with an iPhone 6s kept in the participant's front pocket using *SensingKit* which collects information from *Core Motion* framework on iOS devices. \n",
        "- All data collected in 50Hz sample rate. \n",
        "- A total of 24 participants in a range of gender, age, weight, and height were recorded\n",
        "- Participants performed 6 activities in 15 trials in the same environment and conditions: *downstairs, upstairs, walking, jogging, sitting,* and *standing*. \n",
        "\n",
        "### Task\n",
        "\n",
        "- The primary task is to **build a classifier for human activity** based on motion data coming from the mobile device. Also, make sure that you construct a testing set based on different persons in order to test whether the model generalizes well.\n",
        "\n",
        "- The secondary task is to **build a fingerprint generator** that would allow for identification of a person using (wearing) a mobile device\\*\n",
        "\n",
        "\n",
        " \\* *This dataset was taken from the project that aims to build countermeasures for the second task's goal. It tries to anonymise motion data\\** so that the identification is not possible but the data is still usable for \"safe tasks\" like activity recognition. The complexity of such anonymisation model is beyond today's lesson but it is still useful to think of possible solutions for such a problem.*\n",
        "\n",
        " \\** *The dataset is anonymised (names of participants and unknown)* \n",
        "\n",
        "\n",
        "### Acknowledgement\n",
        "\n",
        "Mohammad Malekzadeh, Richard G.Clegg, Andrea Cavallaro and Hamed Haddadi - *Mobile Sensor Data Anonymization*\n",
        "\n",
        "[GitHub repository](https://github.com/mmalekzadeh/motion-sense)"
      ]
    },
    {
      "cell_type": "markdown",
      "metadata": {
        "id": "MFyRMk7oxRma"
      },
      "source": [
        "## Imports & Drive mount"
      ]
    },
    {
      "cell_type": "code",
      "metadata": {
        "id": "sebXhxYYe4ms",
        "colab": {
          "base_uri": "https://localhost:8080/"
        },
        "outputId": "3aab5671-83c9-478c-e5db-c457f87a6597"
      },
      "source": [
        "%tensorflow_version 2.x\n",
        "%matplotlib inline\n",
        "\n",
        "import os\n",
        "import random\n",
        "\n",
        "import numpy as np\n",
        "import pandas as pd\n",
        "\n",
        "import matplotlib\n",
        "import matplotlib.pyplot as plt\n",
        "\n",
        "from tqdm.notebook import tqdm"
      ],
      "execution_count": 2,
      "outputs": [
        {
          "output_type": "stream",
          "name": "stdout",
          "text": [
            "Colab only includes TensorFlow 2.x; %tensorflow_version has no effect.\n"
          ]
        }
      ]
    },
    {
      "cell_type": "code",
      "metadata": {
        "id": "xfISeV_Jwuoc",
        "colab": {
          "base_uri": "https://localhost:8080/",
          "height": 216
        },
        "outputId": "730fbb42-6f02-4d15-fc62-1ed71582441f"
      },
      "source": [
        "matplotlib.rcParams['figure.figsize'] = (15, 6)\n",
        "from pandas.plotting import register_matplotlib_converters\n",
        "register_matplotlib_converters()"
      ],
      "execution_count": 1,
      "outputs": [
        {
          "output_type": "error",
          "ename": "NameError",
          "evalue": "ignored",
          "traceback": [
            "\u001b[0;31m---------------------------------------------------------------------------\u001b[0m",
            "\u001b[0;31mNameError\u001b[0m                                 Traceback (most recent call last)",
            "\u001b[0;32m<ipython-input-1-8300ddd38c3d>\u001b[0m in \u001b[0;36m<module>\u001b[0;34m\u001b[0m\n\u001b[0;32m----> 1\u001b[0;31m \u001b[0mmatplotlib\u001b[0m\u001b[0;34m.\u001b[0m\u001b[0mrcParams\u001b[0m\u001b[0;34m[\u001b[0m\u001b[0;34m'figure.figsize'\u001b[0m\u001b[0;34m]\u001b[0m \u001b[0;34m=\u001b[0m \u001b[0;34m(\u001b[0m\u001b[0;36m15\u001b[0m\u001b[0;34m,\u001b[0m \u001b[0;36m6\u001b[0m\u001b[0;34m)\u001b[0m\u001b[0;34m\u001b[0m\u001b[0;34m\u001b[0m\u001b[0m\n\u001b[0m\u001b[1;32m      2\u001b[0m \u001b[0;32mfrom\u001b[0m \u001b[0mpandas\u001b[0m\u001b[0;34m.\u001b[0m\u001b[0mplotting\u001b[0m \u001b[0;32mimport\u001b[0m \u001b[0mregister_matplotlib_converters\u001b[0m\u001b[0;34m\u001b[0m\u001b[0;34m\u001b[0m\u001b[0m\n\u001b[1;32m      3\u001b[0m \u001b[0mregister_matplotlib_converters\u001b[0m\u001b[0;34m(\u001b[0m\u001b[0;34m)\u001b[0m\u001b[0;34m\u001b[0m\u001b[0;34m\u001b[0m\u001b[0m\n",
            "\u001b[0;31mNameError\u001b[0m: name 'matplotlib' is not defined"
          ]
        }
      ]
    },
    {
      "cell_type": "markdown",
      "metadata": {
        "id": "Uz4MT4F-4vVM"
      },
      "source": [
        "## Dataset loading & basic analysis"
      ]
    },
    {
      "cell_type": "code",
      "source": [
        "!wget https://raw.githubusercontent.com/mlcollege/time-series-analysis/master/data/motion-sensing/A_DeviceMotion_data.zip"
      ],
      "metadata": {
        "colab": {
          "base_uri": "https://localhost:8080/"
        },
        "id": "_8UKNp7Js64m",
        "outputId": "6432c41d-bafe-4844-856c-1be3fa2c4914"
      },
      "execution_count": 3,
      "outputs": [
        {
          "output_type": "stream",
          "name": "stdout",
          "text": [
            "--2022-10-26 14:30:42--  https://raw.githubusercontent.com/mlcollege/time-series-analysis/master/data/motion-sensing/A_DeviceMotion_data.zip\n",
            "Resolving raw.githubusercontent.com (raw.githubusercontent.com)... 185.199.108.133, 185.199.109.133, 185.199.110.133, ...\n",
            "Connecting to raw.githubusercontent.com (raw.githubusercontent.com)|185.199.108.133|:443... connected.\n",
            "HTTP request sent, awaiting response... 200 OK\n",
            "Length: 73696396 (70M) [application/zip]\n",
            "Saving to: ‘A_DeviceMotion_data.zip’\n",
            "\n",
            "A_DeviceMotion_data 100%[===================>]  70.28M   316MB/s    in 0.2s    \n",
            "\n",
            "2022-10-26 14:30:45 (316 MB/s) - ‘A_DeviceMotion_data.zip’ saved [73696396/73696396]\n",
            "\n"
          ]
        }
      ]
    },
    {
      "cell_type": "code",
      "metadata": {
        "id": "fxe-C9lB0i1-"
      },
      "source": [
        "import zipfile\n",
        "\n",
        "DATA_FOLDER = '/content/MotionData'\n",
        "\n",
        "with zipfile.ZipFile('/content/A_DeviceMotion_data.zip', 'r') as zip_ref:\n",
        "    zip_ref.extractall(DATA_FOLDER)"
      ],
      "execution_count": 4,
      "outputs": []
    },
    {
      "cell_type": "code",
      "metadata": {
        "id": "Rr1tZ5Vx2Qt5",
        "colab": {
          "base_uri": "https://localhost:8080/",
          "height": 424
        },
        "outputId": "15e0d2f8-bb0e-4027-91a3-dfaa99d56dbb"
      },
      "source": [
        "walking_sample = pd.read_csv(DATA_FOLDER + '/A_DeviceMotion_data/wlk_7/sub_1.csv')\n",
        "walking_sample"
      ],
      "execution_count": 5,
      "outputs": [
        {
          "output_type": "execute_result",
          "data": {
            "text/plain": [
              "      Unnamed: 0  attitude.roll  attitude.pitch  attitude.yaw  gravity.x  \\\n",
              "0              0      -1.711140       -1.429168     -2.591433  -0.139767   \n",
              "1              1      -1.787917       -1.414171     -2.630956  -0.152324   \n",
              "2              2      -1.897323       -1.399331     -2.706668  -0.161610   \n",
              "3              3      -2.018375       -1.383279     -2.813421  -0.168058   \n",
              "4              4      -2.124395       -1.364054     -2.913092  -0.174613   \n",
              "...          ...            ...             ...           ...        ...   \n",
              "5434        5434       2.740007       -0.813391      2.707558   0.268549   \n",
              "5435        5435       2.855015       -0.747426      2.792285   0.207323   \n",
              "5436        5436       2.934443       -0.706561      2.835642   0.156434   \n",
              "5437        5437       2.977191       -0.671725      2.868442   0.128106   \n",
              "5438        5438       2.990293       -0.643028      2.894326   0.120622   \n",
              "\n",
              "      gravity.y  gravity.z  rotationRate.x  rotationRate.y  rotationRate.z  \\\n",
              "0      0.989987   0.019745       -0.350593       -0.511691       -0.865217   \n",
              "1      0.987759   0.033602       -0.550553       -2.243217       -0.582409   \n",
              "2      0.985336   0.054729       -0.931014       -1.358033       -0.503947   \n",
              "3      0.982470   0.080680       -1.304668       -0.541368       -0.346302   \n",
              "4      0.978705   0.107922       -1.278349       -0.434722       -0.398598   \n",
              "...         ...        ...             ...             ...             ...   \n",
              "5434   0.726621   0.632380       -4.759731        3.035508       -1.614411   \n",
              "5435   0.679753   0.703529       -3.553162        2.566744       -1.584018   \n",
              "5436   0.649222   0.744338       -1.892946        2.297347       -0.922597   \n",
              "5437   0.622337   0.772195       -1.976241        0.373779       -0.930328   \n",
              "5438   0.599622   0.791141       -1.240066       -0.314792       -0.668998   \n",
              "\n",
              "      userAcceleration.x  userAcceleration.y  userAcceleration.z  \n",
              "0               0.091702            0.415881            0.093689  \n",
              "1               0.367412            0.004566           -0.106082  \n",
              "2               0.172093           -0.217483           -0.163387  \n",
              "3               0.004957           -0.237566           -0.019080  \n",
              "4              -0.040292           -0.241461            0.015201  \n",
              "...                  ...                 ...                 ...  \n",
              "5434           -0.690515            0.160006           -0.301676  \n",
              "5435           -0.628969            0.368785           -0.986305  \n",
              "5436           -0.323685            0.392786           -0.913802  \n",
              "5437           -0.129754            0.223900           -0.717584  \n",
              "5438           -0.034409            0.196460           -0.660908  \n",
              "\n",
              "[5439 rows x 13 columns]"
            ],
            "text/html": [
              "\n",
              "  <div id=\"df-3f9b640a-7019-4ea1-a60b-bec456915e27\">\n",
              "    <div class=\"colab-df-container\">\n",
              "      <div>\n",
              "<style scoped>\n",
              "    .dataframe tbody tr th:only-of-type {\n",
              "        vertical-align: middle;\n",
              "    }\n",
              "\n",
              "    .dataframe tbody tr th {\n",
              "        vertical-align: top;\n",
              "    }\n",
              "\n",
              "    .dataframe thead th {\n",
              "        text-align: right;\n",
              "    }\n",
              "</style>\n",
              "<table border=\"1\" class=\"dataframe\">\n",
              "  <thead>\n",
              "    <tr style=\"text-align: right;\">\n",
              "      <th></th>\n",
              "      <th>Unnamed: 0</th>\n",
              "      <th>attitude.roll</th>\n",
              "      <th>attitude.pitch</th>\n",
              "      <th>attitude.yaw</th>\n",
              "      <th>gravity.x</th>\n",
              "      <th>gravity.y</th>\n",
              "      <th>gravity.z</th>\n",
              "      <th>rotationRate.x</th>\n",
              "      <th>rotationRate.y</th>\n",
              "      <th>rotationRate.z</th>\n",
              "      <th>userAcceleration.x</th>\n",
              "      <th>userAcceleration.y</th>\n",
              "      <th>userAcceleration.z</th>\n",
              "    </tr>\n",
              "  </thead>\n",
              "  <tbody>\n",
              "    <tr>\n",
              "      <th>0</th>\n",
              "      <td>0</td>\n",
              "      <td>-1.711140</td>\n",
              "      <td>-1.429168</td>\n",
              "      <td>-2.591433</td>\n",
              "      <td>-0.139767</td>\n",
              "      <td>0.989987</td>\n",
              "      <td>0.019745</td>\n",
              "      <td>-0.350593</td>\n",
              "      <td>-0.511691</td>\n",
              "      <td>-0.865217</td>\n",
              "      <td>0.091702</td>\n",
              "      <td>0.415881</td>\n",
              "      <td>0.093689</td>\n",
              "    </tr>\n",
              "    <tr>\n",
              "      <th>1</th>\n",
              "      <td>1</td>\n",
              "      <td>-1.787917</td>\n",
              "      <td>-1.414171</td>\n",
              "      <td>-2.630956</td>\n",
              "      <td>-0.152324</td>\n",
              "      <td>0.987759</td>\n",
              "      <td>0.033602</td>\n",
              "      <td>-0.550553</td>\n",
              "      <td>-2.243217</td>\n",
              "      <td>-0.582409</td>\n",
              "      <td>0.367412</td>\n",
              "      <td>0.004566</td>\n",
              "      <td>-0.106082</td>\n",
              "    </tr>\n",
              "    <tr>\n",
              "      <th>2</th>\n",
              "      <td>2</td>\n",
              "      <td>-1.897323</td>\n",
              "      <td>-1.399331</td>\n",
              "      <td>-2.706668</td>\n",
              "      <td>-0.161610</td>\n",
              "      <td>0.985336</td>\n",
              "      <td>0.054729</td>\n",
              "      <td>-0.931014</td>\n",
              "      <td>-1.358033</td>\n",
              "      <td>-0.503947</td>\n",
              "      <td>0.172093</td>\n",
              "      <td>-0.217483</td>\n",
              "      <td>-0.163387</td>\n",
              "    </tr>\n",
              "    <tr>\n",
              "      <th>3</th>\n",
              "      <td>3</td>\n",
              "      <td>-2.018375</td>\n",
              "      <td>-1.383279</td>\n",
              "      <td>-2.813421</td>\n",
              "      <td>-0.168058</td>\n",
              "      <td>0.982470</td>\n",
              "      <td>0.080680</td>\n",
              "      <td>-1.304668</td>\n",
              "      <td>-0.541368</td>\n",
              "      <td>-0.346302</td>\n",
              "      <td>0.004957</td>\n",
              "      <td>-0.237566</td>\n",
              "      <td>-0.019080</td>\n",
              "    </tr>\n",
              "    <tr>\n",
              "      <th>4</th>\n",
              "      <td>4</td>\n",
              "      <td>-2.124395</td>\n",
              "      <td>-1.364054</td>\n",
              "      <td>-2.913092</td>\n",
              "      <td>-0.174613</td>\n",
              "      <td>0.978705</td>\n",
              "      <td>0.107922</td>\n",
              "      <td>-1.278349</td>\n",
              "      <td>-0.434722</td>\n",
              "      <td>-0.398598</td>\n",
              "      <td>-0.040292</td>\n",
              "      <td>-0.241461</td>\n",
              "      <td>0.015201</td>\n",
              "    </tr>\n",
              "    <tr>\n",
              "      <th>...</th>\n",
              "      <td>...</td>\n",
              "      <td>...</td>\n",
              "      <td>...</td>\n",
              "      <td>...</td>\n",
              "      <td>...</td>\n",
              "      <td>...</td>\n",
              "      <td>...</td>\n",
              "      <td>...</td>\n",
              "      <td>...</td>\n",
              "      <td>...</td>\n",
              "      <td>...</td>\n",
              "      <td>...</td>\n",
              "      <td>...</td>\n",
              "    </tr>\n",
              "    <tr>\n",
              "      <th>5434</th>\n",
              "      <td>5434</td>\n",
              "      <td>2.740007</td>\n",
              "      <td>-0.813391</td>\n",
              "      <td>2.707558</td>\n",
              "      <td>0.268549</td>\n",
              "      <td>0.726621</td>\n",
              "      <td>0.632380</td>\n",
              "      <td>-4.759731</td>\n",
              "      <td>3.035508</td>\n",
              "      <td>-1.614411</td>\n",
              "      <td>-0.690515</td>\n",
              "      <td>0.160006</td>\n",
              "      <td>-0.301676</td>\n",
              "    </tr>\n",
              "    <tr>\n",
              "      <th>5435</th>\n",
              "      <td>5435</td>\n",
              "      <td>2.855015</td>\n",
              "      <td>-0.747426</td>\n",
              "      <td>2.792285</td>\n",
              "      <td>0.207323</td>\n",
              "      <td>0.679753</td>\n",
              "      <td>0.703529</td>\n",
              "      <td>-3.553162</td>\n",
              "      <td>2.566744</td>\n",
              "      <td>-1.584018</td>\n",
              "      <td>-0.628969</td>\n",
              "      <td>0.368785</td>\n",
              "      <td>-0.986305</td>\n",
              "    </tr>\n",
              "    <tr>\n",
              "      <th>5436</th>\n",
              "      <td>5436</td>\n",
              "      <td>2.934443</td>\n",
              "      <td>-0.706561</td>\n",
              "      <td>2.835642</td>\n",
              "      <td>0.156434</td>\n",
              "      <td>0.649222</td>\n",
              "      <td>0.744338</td>\n",
              "      <td>-1.892946</td>\n",
              "      <td>2.297347</td>\n",
              "      <td>-0.922597</td>\n",
              "      <td>-0.323685</td>\n",
              "      <td>0.392786</td>\n",
              "      <td>-0.913802</td>\n",
              "    </tr>\n",
              "    <tr>\n",
              "      <th>5437</th>\n",
              "      <td>5437</td>\n",
              "      <td>2.977191</td>\n",
              "      <td>-0.671725</td>\n",
              "      <td>2.868442</td>\n",
              "      <td>0.128106</td>\n",
              "      <td>0.622337</td>\n",
              "      <td>0.772195</td>\n",
              "      <td>-1.976241</td>\n",
              "      <td>0.373779</td>\n",
              "      <td>-0.930328</td>\n",
              "      <td>-0.129754</td>\n",
              "      <td>0.223900</td>\n",
              "      <td>-0.717584</td>\n",
              "    </tr>\n",
              "    <tr>\n",
              "      <th>5438</th>\n",
              "      <td>5438</td>\n",
              "      <td>2.990293</td>\n",
              "      <td>-0.643028</td>\n",
              "      <td>2.894326</td>\n",
              "      <td>0.120622</td>\n",
              "      <td>0.599622</td>\n",
              "      <td>0.791141</td>\n",
              "      <td>-1.240066</td>\n",
              "      <td>-0.314792</td>\n",
              "      <td>-0.668998</td>\n",
              "      <td>-0.034409</td>\n",
              "      <td>0.196460</td>\n",
              "      <td>-0.660908</td>\n",
              "    </tr>\n",
              "  </tbody>\n",
              "</table>\n",
              "<p>5439 rows × 13 columns</p>\n",
              "</div>\n",
              "      <button class=\"colab-df-convert\" onclick=\"convertToInteractive('df-3f9b640a-7019-4ea1-a60b-bec456915e27')\"\n",
              "              title=\"Convert this dataframe to an interactive table.\"\n",
              "              style=\"display:none;\">\n",
              "        \n",
              "  <svg xmlns=\"http://www.w3.org/2000/svg\" height=\"24px\"viewBox=\"0 0 24 24\"\n",
              "       width=\"24px\">\n",
              "    <path d=\"M0 0h24v24H0V0z\" fill=\"none\"/>\n",
              "    <path d=\"M18.56 5.44l.94 2.06.94-2.06 2.06-.94-2.06-.94-.94-2.06-.94 2.06-2.06.94zm-11 1L8.5 8.5l.94-2.06 2.06-.94-2.06-.94L8.5 2.5l-.94 2.06-2.06.94zm10 10l.94 2.06.94-2.06 2.06-.94-2.06-.94-.94-2.06-.94 2.06-2.06.94z\"/><path d=\"M17.41 7.96l-1.37-1.37c-.4-.4-.92-.59-1.43-.59-.52 0-1.04.2-1.43.59L10.3 9.45l-7.72 7.72c-.78.78-.78 2.05 0 2.83L4 21.41c.39.39.9.59 1.41.59.51 0 1.02-.2 1.41-.59l7.78-7.78 2.81-2.81c.8-.78.8-2.07 0-2.86zM5.41 20L4 18.59l7.72-7.72 1.47 1.35L5.41 20z\"/>\n",
              "  </svg>\n",
              "      </button>\n",
              "      \n",
              "  <style>\n",
              "    .colab-df-container {\n",
              "      display:flex;\n",
              "      flex-wrap:wrap;\n",
              "      gap: 12px;\n",
              "    }\n",
              "\n",
              "    .colab-df-convert {\n",
              "      background-color: #E8F0FE;\n",
              "      border: none;\n",
              "      border-radius: 50%;\n",
              "      cursor: pointer;\n",
              "      display: none;\n",
              "      fill: #1967D2;\n",
              "      height: 32px;\n",
              "      padding: 0 0 0 0;\n",
              "      width: 32px;\n",
              "    }\n",
              "\n",
              "    .colab-df-convert:hover {\n",
              "      background-color: #E2EBFA;\n",
              "      box-shadow: 0px 1px 2px rgba(60, 64, 67, 0.3), 0px 1px 3px 1px rgba(60, 64, 67, 0.15);\n",
              "      fill: #174EA6;\n",
              "    }\n",
              "\n",
              "    [theme=dark] .colab-df-convert {\n",
              "      background-color: #3B4455;\n",
              "      fill: #D2E3FC;\n",
              "    }\n",
              "\n",
              "    [theme=dark] .colab-df-convert:hover {\n",
              "      background-color: #434B5C;\n",
              "      box-shadow: 0px 1px 3px 1px rgba(0, 0, 0, 0.15);\n",
              "      filter: drop-shadow(0px 1px 2px rgba(0, 0, 0, 0.3));\n",
              "      fill: #FFFFFF;\n",
              "    }\n",
              "  </style>\n",
              "\n",
              "      <script>\n",
              "        const buttonEl =\n",
              "          document.querySelector('#df-3f9b640a-7019-4ea1-a60b-bec456915e27 button.colab-df-convert');\n",
              "        buttonEl.style.display =\n",
              "          google.colab.kernel.accessAllowed ? 'block' : 'none';\n",
              "\n",
              "        async function convertToInteractive(key) {\n",
              "          const element = document.querySelector('#df-3f9b640a-7019-4ea1-a60b-bec456915e27');\n",
              "          const dataTable =\n",
              "            await google.colab.kernel.invokeFunction('convertToInteractive',\n",
              "                                                     [key], {});\n",
              "          if (!dataTable) return;\n",
              "\n",
              "          const docLinkHtml = 'Like what you see? Visit the ' +\n",
              "            '<a target=\"_blank\" href=https://colab.research.google.com/notebooks/data_table.ipynb>data table notebook</a>'\n",
              "            + ' to learn more about interactive tables.';\n",
              "          element.innerHTML = '';\n",
              "          dataTable['output_type'] = 'display_data';\n",
              "          await google.colab.output.renderOutput(dataTable, element);\n",
              "          const docLink = document.createElement('div');\n",
              "          docLink.innerHTML = docLinkHtml;\n",
              "          element.appendChild(docLink);\n",
              "        }\n",
              "      </script>\n",
              "    </div>\n",
              "  </div>\n",
              "  "
            ]
          },
          "metadata": {},
          "execution_count": 5
        }
      ]
    },
    {
      "cell_type": "code",
      "metadata": {
        "id": "0wW2HjUO3wCo",
        "colab": {
          "base_uri": "https://localhost:8080/",
          "height": 284
        },
        "outputId": "7d53e1f7-c704-46df-a570-9bdfb78bada5"
      },
      "source": [
        "walking_sample.iloc[:500,1:].plot()"
      ],
      "execution_count": 6,
      "outputs": [
        {
          "output_type": "execute_result",
          "data": {
            "text/plain": [
              "<matplotlib.axes._subplots.AxesSubplot at 0x7fda3e1ccd50>"
            ]
          },
          "metadata": {},
          "execution_count": 6
        },
        {
          "output_type": "display_data",
          "data": {
            "text/plain": [
              "<Figure size 432x288 with 1 Axes>"
            ],
            "image/png": "[encoded data removed]"
          },
          "metadata": {
            "needs_background": "light"
          }
        }
      ]
    },
    {
      "cell_type": "code",
      "metadata": {
        "id": "dT2GT4to8cU2",
        "colab": {
          "base_uri": "https://localhost:8080/",
          "height": 49,
          "referenced_widgets": [
            "614a02d31b1b47619317ae53462f237f",
            "21e0c43cc2eb42c0a4a53705ecea65f2",
            "ee681288fac04c36af24606eeca0d272",
            "b30913262d2d4bfa82e55e1160f41283",
            "78f4cddac5a945728d74adf1f81c7225",
            "741e6f1f9bc646fe8aff3fffd87db597",
            "e76a68edfbfb4a25a2ff569043eda763",
            "9af5dcdc9c484128b8a52cd1b450be2c",
            "c71de495b6454325b97ffc42d8974107",
            "41d5b06bfe1b456b9bd0254eb93ab627",
            "0aa480bf657d4699b536658fd5f6a99d"
          ]
        },
        "outputId": "0bbba89e-1bcf-4295-a814-46e638a9443e"
      },
      "source": [
        "full_dataset = []\n",
        "for dirpath, dirnames, filenames in tqdm(list(os.walk(DATA_FOLDER + '/A_DeviceMotion_data'))):\n",
        "    for filename in filenames:\n",
        "        motion_data = pd.read_csv(dirpath + os.sep + filename).iloc[:,1:]       \n",
        "        subject_code = int(filename.split('.')[0].split('_')[1]) \n",
        "        activity_code = dirpath.split(os.sep)[-1].split('_')[0]\n",
        "        full_dataset.append((activity_code, subject_code, motion_data))"
      ],
      "execution_count": 7,
      "outputs": [
        {
          "output_type": "display_data",
          "data": {
            "text/plain": [
              "  0%|          | 0/16 [00:00<?, ?it/s]"
            ],
            "application/vnd.jupyter.widget-view+json": {
              "version_major": 2,
              "version_minor": 0,
              "model_id": "614a02d31b1b47619317ae53462f237f"
            }
          },
          "metadata": {}
        }
      ]
    },
    {
      "cell_type": "code",
      "metadata": {
        "id": "W9KQrwLy9Duf",
        "colab": {
          "base_uri": "https://localhost:8080/"
        },
        "outputId": "f393162c-ed20-46bc-db7f-a5be0262118d"
      },
      "source": [
        "from collections import Counter\n",
        "\n",
        "activities, participants, motion_data = zip(*full_dataset)\n",
        "\n",
        "print(Counter(activities))\n",
        "activities = set(activities)\n",
        "\n",
        "print(Counter(participants))\n",
        "participants = set(participants)"
      ],
      "execution_count": 8,
      "outputs": [
        {
          "output_type": "stream",
          "name": "stdout",
          "text": [
            "Counter({'dws': 72, 'wlk': 72, 'ups': 72, 'sit': 48, 'std': 48, 'jog': 48})\n",
            "Counter({7: 15, 5: 15, 23: 15, 3: 15, 11: 15, 14: 15, 17: 15, 1: 15, 24: 15, 22: 15, 21: 15, 4: 15, 8: 15, 19: 15, 18: 15, 15: 15, 12: 15, 9: 15, 16: 15, 20: 15, 2: 15, 10: 15, 6: 15, 13: 15})\n"
          ]
        }
      ]
    },
    {
      "cell_type": "code",
      "source": [
        "all_trials = pd.concat(motion_data)\n",
        "\n",
        "trials_by_activity = {act: [] for act in activities}\n",
        "trials_by_participant = {p: [] for p in participants}\n",
        "\n",
        "for act, p, trial in full_dataset:\n",
        "    trials_by_activity[act].append((p, trial))\n",
        "    trials_by_participant[p].append((act, trial))"
      ],
      "metadata": {
        "id": "NvurbuEKtLho"
      },
      "execution_count": 9,
      "outputs": []
    },
    {
      "cell_type": "markdown",
      "metadata": {
        "id": "nk9SC8bv47Qs"
      },
      "source": [
        "^ As described at the beginning, the dataset contains 6 activities, 24 participants and 15 trials for \n",
        "each participant."
      ]
    },
    {
      "cell_type": "markdown",
      "metadata": {
        "id": "oGe9vzmA7k-N"
      },
      "source": [
        "For solving the primary task, you would need to perform the following:\n",
        "- **Split the data** into trainnig & testing parts (I suggest to split according to participants)\n",
        "- **Slice the motion data** into smaller chunks/sequences (the model does not need the whole trial to predict the right activity (a few seconds should be enough)\n",
        "- Make sure the **data is in good conditions** (no missing values, no huge differences between features)\n",
        "- **Build and train a model** (LSTM or a flat NN)\n",
        "- **Evaluate the model** on testing data (confusion matrix would be a nice result)\n",
        "\n",
        "*Additionally, you can stress-test the model on slices of different size then used in the training ...*"
      ]
    }
  ]
}